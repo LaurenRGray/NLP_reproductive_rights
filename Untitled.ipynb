{
 "cells": [
  {
   "cell_type": "markdown",
   "metadata": {},
   "source": [
    "### Dan's question: SVD, PCA, LDA -- when to use each in project flow?\n",
    "\n",
    "- 10,000 comments form dif subreddits\n",
    "- reduce dataset\n",
    "    - get rid of stopwords etc.\n",
    "- once have countvectorizer or ?, do some dimensionality reduction on it\n",
    "- we do truncated SVD (e.g., chop down to 10-20 principle components)\n",
    "    - LDA would do somethign similar, but SVD is default\n",
    "    - reduce to 15 themes in latent space; some sort of cocktail mixture of those 15 themes\n",
    "    - lets also track the subreddits they came from and see the purity of the subreddits\n",
    "        - in a perfect world, one subreddit would go to each theme, but there prob will be some crossover\n",
    "            - see what percentage of each subreddit goes to each theme?\n",
    "- could also try various forms of clusering on raw dataset or the reduced dataset, and see what the clustering says\n",
    "    - what does DBSCAN say? or what does spectral clustering say? spectral clustering is combo of ?? and kmeans - reduces dimensions and then does kmeans to cluster documents together\n",
    "- clustering as preliminary baseline to get an idea; then do something like LDA\n",
    "    - LDA will give you things like top 10 words in first topic, top 10 words in 2nd topic, etc.\n",
    "    - then do things like LDA in wider buckets, smaller buckets, etc. (?)\n",
    "    - note - you have the subbreddit topic sthey come from; don't lose that order so yo uknow where they come from\n",
    "        - just keep away from any modeling you do so we can see how a blind unsupervsed model would do\n",
    "            - maybe we find out that the human labeling isn't that great and the model figures out a better distribution?"
   ]
  },
  {
   "cell_type": "code",
   "execution_count": null,
   "metadata": {},
   "outputs": [],
   "source": []
  }
 ],
 "metadata": {
  "kernelspec": {
   "display_name": "Python 3",
   "language": "python",
   "name": "python3"
  },
  "language_info": {
   "codemirror_mode": {
    "name": "ipython",
    "version": 3
   },
   "file_extension": ".py",
   "mimetype": "text/x-python",
   "name": "python",
   "nbconvert_exporter": "python",
   "pygments_lexer": "ipython3",
   "version": "3.7.2"
  }
 },
 "nbformat": 4,
 "nbformat_minor": 2
}
