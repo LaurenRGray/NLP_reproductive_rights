{
 "cells": [
  {
   "cell_type": "markdown",
   "metadata": {},
   "source": [
    "# TO DO\n",
    "\n",
    "- assign topics to documents\n",
    "- look at sentiment across different topics\n",
    "    - dataframe: topic, document, sentiment (3 columns)\n",
    "    - e.g. might see, 3rd trimester --> negative sentiment, but 6 wks --> positive sentiment\n",
    "\n",
    "Tony's idea:\n",
    "- create plot of three different topics and map the sentiments onto them\n",
    "    - positive: > 0.5\n",
    "    - neutral: -0.5 - 0.5\n",
    "    - negative: < 0.5\n",
    "\n",
    "If time for predictive model:\n",
    "- can I predict what side of the debate the person is on based on sentiment?\n",
    "\n",
    "\n",
    "Other:\n",
    "- use packages that analyze the writing level - is there a difference in level of intelligence of dif people on dif subreddits?\n",
    "- might have dif viewpoints in each subreddit - try to do some tagging of dif viewpoints in each subreddit; averaging of snetiment and averaging of level of intelligence\n",
    "- to do tagging of dif viewpoints - based on sentiment?\n",
    "- length of post"
   ]
  },
  {
   "cell_type": "code",
   "execution_count": 2,
   "metadata": {
    "scrolled": true
   },
   "outputs": [
    {
     "name": "stdout",
     "output_type": "stream",
     "text": [
      "Populating the interactive namespace from numpy and matplotlib\n"
     ]
    },
    {
     "name": "stderr",
     "output_type": "stream",
     "text": [
      "/Users/laurenfinkelstein/anaconda3/lib/python3.7/site-packages/IPython/core/magics/pylab.py:160: UserWarning: pylab import has clobbered these variables: ['shuffle']\n",
      "`%matplotlib` prevents importing * from pylab and numpy\n",
      "  \"\\n`%matplotlib` prevents importing * from pylab and numpy\"\n",
      "/Users/laurenfinkelstein/anaconda3/lib/python3.7/site-packages/smart_open/ssh.py:34: UserWarning: paramiko missing, opening SSH/SCP/SFTP paths will be disabled.  `pip install paramiko` to suppress\n",
      "  warnings.warn('paramiko missing, opening SSH/SCP/SFTP paths will be disabled.  `pip install paramiko` to suppress')\n",
      "/Users/laurenfinkelstein/anaconda3/lib/python3.7/site-packages/scipy/sparse/sparsetools.py:21: DeprecationWarning: `scipy.sparse.sparsetools` is deprecated!\n",
      "scipy.sparse.sparsetools is a private module for scipy.sparse, and should not be used.\n",
      "  _deprecated()\n"
     ]
    }
   ],
   "source": [
    "from __future__ import print_function\n",
    "\n",
    "\n",
    "import pickle\n",
    "\n",
    "import time\n",
    "import pandas as pd\n",
    "import numpy as np\n",
    "\n",
    "import matplotlib.pyplot as plt\n",
    "import matplotlib.patheffects as PathEffects\n",
    "%matplotlib inline\n",
    "\n",
    "import seaborn as sns\n",
    "sns.set_style('darkgrid')\n",
    "sns.set_palette('muted')\n",
    "sns.set_context(\"notebook\", font_scale=1.5,\n",
    "                rc={\"lines.linewidth\": 2.5})\n",
    "RS = 123\n",
    "\n",
    "import csv, re\n",
    "\n",
    "import nltk\n",
    "import string\n",
    "from html.parser import HTMLParser\n",
    "\n",
    "from nltk.corpus import stopwords\n",
    "from nltk.stem.wordnet import WordNetLemmatizer\n",
    "from sklearn import datasets\n",
    "from sklearn.feature_extraction.text import CountVectorizer, TfidfVectorizer\n",
    "from sklearn.decomposition import TruncatedSVD, NMF, LatentDirichletAllocation, PCA\n",
    "from sklearn.metrics.pairwise import cosine_similarity\n",
    "from sklearn.preprocessing import scale\n",
    "from sklearn.cluster import KMeans\n",
    "from sklearn.datasets import make_blobs, fetch_mldata\n",
    "from sklearn.utils import shuffle\n",
    "from sklearn.manifold import TSNE\n",
    "\n",
    "from vaderSentiment.vaderSentiment import SentimentIntensityAnalyzer\n",
    "\n",
    "import pyLDAvis\n",
    "import pyLDAvis.sklearn\n",
    "pyLDAvis.enable_notebook()\n",
    "\n",
    "# see https://ipython.readthedocs.io/en/stable/interactive/magics.html\n",
    "%pylab inline\n",
    "\n",
    "# sets backend to render higher res images\n",
    "%config InlineBackend.figure_formats = ['retina']\n",
    "\n",
    "\n",
    "# gensim\n",
    "from gensim import corpora, models, similarities, matutils\n",
    "\n",
    "# logging for gensim (set to INFO)\n",
    "import logging\n",
    "logging.basicConfig(format='%(asctime)s : %(levelname)s : %(message)s', level=logging.INFO)\n",
    "\n",
    "# from wordcloud import WordCloud, STOPWORDS , ImageColorGenerator\n"
   ]
  },
  {
   "cell_type": "raw",
   "metadata": {},
   "source": [
    "plt.rcParams['figure.figsize'] = [6,6]\n",
    "sns.set_style(\"whitegrid\")\n",
    "sns.set_context(\"talk\")"
   ]
  },
  {
   "cell_type": "raw",
   "metadata": {},
   "source": [
    "nltk.download('wordnet')"
   ]
  },
  {
   "cell_type": "code",
   "execution_count": 3,
   "metadata": {},
   "outputs": [],
   "source": [
    "# load in data\n",
    "\n",
    "corpus = pickle.load(open('reproductive_rights_corpus3_clean.pkl', 'rb'))\n",
    "# count_vecs = pickle.load(open('reproductive_count_vecs_bag_of_words.pkl', 'rb'))\n",
    "# tfidf_vecs = pickle.load(open('reproductive_rights_tfidf.pkl', 'rb'))"
   ]
  },
  {
   "cell_type": "code",
   "execution_count": 4,
   "metadata": {
    "scrolled": true
   },
   "outputs": [
    {
     "data": {
      "text/plain": [
       "42888"
      ]
     },
     "execution_count": 4,
     "metadata": {},
     "output_type": "execute_result"
    }
   ],
   "source": [
    "len(corpus)"
   ]
  },
  {
   "cell_type": "code",
   "execution_count": null,
   "metadata": {},
   "outputs": [],
   "source": [
    "corpus"
   ]
  },
  {
   "cell_type": "markdown",
   "metadata": {},
   "source": [
    "# Tokenization"
   ]
  },
  {
   "cell_type": "markdown",
   "metadata": {},
   "source": [
    "### Count Vectorize"
   ]
  },
  {
   "cell_type": "code",
   "execution_count": 5,
   "metadata": {},
   "outputs": [],
   "source": [
    "# CV 1\n",
    "\n",
    "cv = CountVectorizer(ngram_range=(2,4), max_df=.95, min_df=30, stop_words='english')\n",
    "# cv = CountVectorizer(ngram_range=(2,4), max_df=.95, min_df=30, \n",
    "#                      stop_words=frozenset(['reddit', 'subreddit', 'prolife', 'prochoice', 'pro choicers', 'pro lifers', 'abortion', 'pro life', 'pro choice', 'pro abortion',\n",
    "#                          'rprolife', 'rprochoice', 'prolifers', 'prochoicers', 'prolifer', 'prochoicer']))\n",
    "X_cv = cv.fit_transform(corpus)\n",
    "count_vecs = pd.DataFrame(X_cv.toarray(), index=corpus, columns=cv.get_feature_names())"
   ]
  },
  {
   "cell_type": "code",
   "execution_count": 6,
   "metadata": {},
   "outputs": [
    {
     "data": {
      "text/plain": [
       "<42888x1293 sparse matrix of type '<class 'numpy.int64'>'\n",
       "\twith 82605 stored elements in Compressed Sparse Row format>"
      ]
     },
     "execution_count": 6,
     "metadata": {},
     "output_type": "execute_result"
    }
   ],
   "source": [
    "X_cv"
   ]
  },
  {
   "cell_type": "code",
   "execution_count": 7,
   "metadata": {},
   "outputs": [
    {
     "data": {
      "text/plain": [
       "(42888, 1293)"
      ]
     },
     "execution_count": 7,
     "metadata": {},
     "output_type": "execute_result"
    }
   ],
   "source": [
    "count_vecs.shape"
   ]
  },
  {
   "cell_type": "markdown",
   "metadata": {},
   "source": [
    "### TFIDF"
   ]
  },
  {
   "cell_type": "code",
   "execution_count": 8,
   "metadata": {},
   "outputs": [],
   "source": [
    "word_vectorizer = TfidfVectorizer(\n",
    "    sublinear_tf=True,\n",
    "    strip_accents='unicode',\n",
    "    analyzer='word',\n",
    "    token_pattern=r'\\w{1,}',\n",
    "    ngram_range=(2, 4),\n",
    "    max_df=0.95,\n",
    "    min_df=30,\n",
    "    stop_words='english')\n",
    "\n",
    "X_wv = word_vectorizer.fit_transform(corpus)\n",
    "\n",
    "tfidf_vecs = pd.DataFrame(X_wv.toarray(), index=corpus, columns=word_vectorizer.get_feature_names())"
   ]
  },
  {
   "cell_type": "code",
   "execution_count": 9,
   "metadata": {},
   "outputs": [
    {
     "data": {
      "text/plain": [
       "(42888, 1341)"
      ]
     },
     "execution_count": 9,
     "metadata": {},
     "output_type": "execute_result"
    }
   ],
   "source": [
    "tfidf_vecs.shape"
   ]
  },
  {
   "cell_type": "markdown",
   "metadata": {},
   "source": [
    "# Topic Modeling"
   ]
  },
  {
   "cell_type": "markdown",
   "metadata": {},
   "source": [
    "## Py LDA Vis"
   ]
  },
  {
   "cell_type": "code",
   "execution_count": 10,
   "metadata": {},
   "outputs": [
    {
     "name": "stderr",
     "output_type": "stream",
     "text": [
      "/Users/laurenfinkelstein/anaconda3/lib/python3.7/site-packages/sklearn/decomposition/online_lda.py:314: DeprecationWarning: n_topics has been renamed to n_components in version 0.19 and will be removed in 0.21\n",
      "  DeprecationWarning)\n"
     ]
    },
    {
     "data": {
      "text/plain": [
       "LatentDirichletAllocation(batch_size=128, doc_topic_prior=None,\n",
       "             evaluate_every=-1, learning_decay=0.7,\n",
       "             learning_method='batch', learning_offset=10.0,\n",
       "             max_doc_update_iter=100, max_iter=10, mean_change_tol=0.001,\n",
       "             n_components=10, n_jobs=None, n_topics=5, perp_tol=0.1,\n",
       "             random_state=0, topic_word_prior=None,\n",
       "             total_samples=1000000.0, verbose=0)"
      ]
     },
     "execution_count": 10,
     "metadata": {},
     "output_type": "execute_result"
    }
   ],
   "source": [
    "lda_cv = LatentDirichletAllocation(n_topics=5, random_state=0)\n",
    "lda_cv.fit(count_vecs)"
   ]
  },
  {
   "cell_type": "code",
   "execution_count": 11,
   "metadata": {},
   "outputs": [
    {
     "name": "stderr",
     "output_type": "stream",
     "text": [
      "/Users/laurenfinkelstein/anaconda3/lib/python3.7/site-packages/pyLDAvis/_prepare.py:257: FutureWarning: Sorting because non-concatenation axis is not aligned. A future version\n",
      "of pandas will change to not sort by default.\n",
      "\n",
      "To accept the future behavior, pass 'sort=False'.\n",
      "\n",
      "To retain the current behavior and silence the warning, pass 'sort=True'.\n",
      "\n",
      "  return pd.concat([default_term_info] + list(topic_dfs))\n"
     ]
    },
    {
     "data": {
      "text/html": [
       "\n",
       "<link rel=\"stylesheet\" type=\"text/css\" href=\"https://cdn.rawgit.com/bmabey/pyLDAvis/files/ldavis.v1.0.0.css\">\n",
       "\n",
       "\n",
       "<div id=\"ldavis_el19801124123070321978836451\"></div>\n",
       "<script type=\"text/javascript\">\n",
       "\n",
       "var ldavis_el19801124123070321978836451_data = {\"mdsDat\": {\"x\": [0.2143014741996931, -0.2726481634905531, 0.06028675799308786, 0.13684353577577424, -0.13878360447800198], \"y\": [-0.13016760479599387, -0.18919411975678657, 0.19952126784232135, -0.06924180079225817, 0.1890822575027169], \"topics\": [1, 2, 3, 4, 5], \"cluster\": [1, 1, 1, 1, 1], \"Freq\": [21.275866507717485, 21.147993176653287, 19.84363247323997, 19.698257298746856, 18.034250543642386]}, \"tinfo\": {\"Category\": [\"Default\", \"Default\", \"Default\", \"Default\", \"Default\", \"Default\", \"Default\", \"Default\", \"Default\", \"Default\", \"Default\", \"Default\", \"Default\", \"Default\", \"Default\", \"Default\", \"Default\", \"Default\", \"Default\", \"Default\", \"Default\", \"Default\", \"Default\", \"Default\", \"Default\", \"Default\", \"Default\", \"Default\", \"Default\", \"Default\", \"Topic1\", \"Topic1\", \"Topic1\", \"Topic1\", \"Topic1\", \"Topic1\", \"Topic1\", \"Topic1\", \"Topic1\", \"Topic1\", \"Topic1\", \"Topic1\", \"Topic1\", \"Topic1\", \"Topic1\", \"Topic1\", \"Topic1\", \"Topic1\", \"Topic1\", \"Topic1\", \"Topic1\", \"Topic1\", \"Topic1\", \"Topic1\", \"Topic1\", \"Topic1\", \"Topic1\", \"Topic1\", \"Topic1\", \"Topic1\", \"Topic1\", \"Topic1\", \"Topic1\", \"Topic1\", \"Topic1\", \"Topic1\", \"Topic1\", \"Topic1\", \"Topic1\", \"Topic1\", \"Topic1\", \"Topic1\", \"Topic1\", \"Topic1\", \"Topic1\", \"Topic1\", \"Topic1\", \"Topic1\", \"Topic1\", \"Topic1\", \"Topic1\", \"Topic1\", \"Topic1\", \"Topic1\", \"Topic1\", \"Topic1\", \"Topic1\", \"Topic1\", \"Topic2\", \"Topic2\", \"Topic2\", \"Topic2\", \"Topic2\", \"Topic2\", \"Topic2\", \"Topic2\", \"Topic2\", \"Topic2\", \"Topic2\", \"Topic2\", \"Topic2\", \"Topic2\", \"Topic2\", \"Topic2\", \"Topic2\", \"Topic2\", \"Topic2\", \"Topic2\", \"Topic2\", \"Topic2\", \"Topic2\", \"Topic2\", \"Topic2\", \"Topic2\", \"Topic2\", \"Topic2\", \"Topic2\", \"Topic2\", \"Topic2\", \"Topic2\", \"Topic2\", \"Topic2\", \"Topic2\", \"Topic2\", \"Topic2\", \"Topic2\", \"Topic2\", \"Topic2\", \"Topic2\", \"Topic2\", \"Topic2\", \"Topic2\", \"Topic2\", \"Topic2\", \"Topic2\", \"Topic2\", \"Topic2\", \"Topic2\", \"Topic3\", \"Topic3\", \"Topic3\", \"Topic3\", \"Topic3\", \"Topic3\", \"Topic3\", \"Topic3\", \"Topic3\", \"Topic3\", \"Topic3\", \"Topic3\", \"Topic3\", \"Topic3\", \"Topic3\", \"Topic3\", \"Topic3\", \"Topic3\", \"Topic3\", \"Topic3\", \"Topic3\", \"Topic3\", \"Topic3\", \"Topic3\", \"Topic3\", \"Topic3\", \"Topic3\", \"Topic3\", \"Topic3\", \"Topic3\", \"Topic3\", \"Topic3\", \"Topic3\", \"Topic3\", \"Topic3\", \"Topic3\", \"Topic3\", \"Topic3\", \"Topic3\", \"Topic3\", \"Topic3\", \"Topic3\", \"Topic3\", \"Topic3\", \"Topic3\", \"Topic3\", \"Topic3\", \"Topic3\", \"Topic3\", \"Topic3\", \"Topic3\", \"Topic3\", \"Topic3\", \"Topic4\", \"Topic4\", \"Topic4\", \"Topic4\", \"Topic4\", \"Topic4\", \"Topic4\", \"Topic4\", \"Topic4\", \"Topic4\", \"Topic4\", \"Topic4\", \"Topic4\", \"Topic4\", \"Topic4\", \"Topic4\", \"Topic4\", \"Topic4\", \"Topic4\", \"Topic4\", \"Topic4\", \"Topic4\", \"Topic4\", \"Topic4\", \"Topic4\", \"Topic4\", \"Topic4\", \"Topic4\", \"Topic4\", \"Topic4\", \"Topic4\", \"Topic4\", \"Topic4\", \"Topic4\", \"Topic4\", \"Topic4\", \"Topic4\", \"Topic4\", \"Topic4\", \"Topic4\", \"Topic4\", \"Topic4\", \"Topic4\", \"Topic4\", \"Topic4\", \"Topic4\", \"Topic4\", \"Topic4\", \"Topic4\", \"Topic4\", \"Topic4\", \"Topic4\", \"Topic4\", \"Topic4\", \"Topic4\", \"Topic4\", \"Topic4\", \"Topic5\", \"Topic5\", \"Topic5\", \"Topic5\", \"Topic5\", \"Topic5\", \"Topic5\", \"Topic5\", \"Topic5\", \"Topic5\", \"Topic5\", \"Topic5\", \"Topic5\", \"Topic5\", \"Topic5\", \"Topic5\", \"Topic5\", \"Topic5\", \"Topic5\", \"Topic5\", \"Topic5\", \"Topic5\", \"Topic5\", \"Topic5\", \"Topic5\", \"Topic5\", \"Topic5\", \"Topic5\", \"Topic5\", \"Topic5\", \"Topic5\", \"Topic5\", \"Topic5\", \"Topic5\", \"Topic5\", \"Topic5\", \"Topic5\", \"Topic5\", \"Topic5\", \"Topic5\", \"Topic5\", \"Topic5\", \"Topic5\", \"Topic5\", \"Topic5\", \"Topic5\", \"Topic5\", \"Topic5\", \"Topic5\", \"Topic5\", \"Topic5\", \"Topic5\"], \"Freq\": [913.0, 839.0, 594.0, 529.0, 468.0, 483.0, 447.0, 357.0, 406.0, 334.0, 390.0, 403.0, 278.0, 286.0, 266.0, 250.0, 307.0, 248.0, 236.0, 231.0, 270.0, 260.0, 223.0, 234.0, 213.0, 321.0, 212.0, 199.0, 306.0, 255.0, 265.89351980557126, 527.596942094365, 211.46600886264875, 356.1968200706509, 138.8957205454574, 121.43736562496866, 90.3960556691561, 88.45271181002602, 82.6324555529612, 84.44650784043642, 68.08708067805294, 65.18107881390704, 77.63700678329451, 61.30029082418914, 58.386549484320305, 58.38406321773726, 66.03473432131743, 57.41674468453325, 57.4157855861143, 55.47052800416127, 57.349318470792454, 97.50399536488084, 52.567763434287954, 50.631727829580555, 64.9568472408186, 50.625164991380004, 50.62247953381777, 51.56461071958729, 49.654239999701325, 49.65412032734054, 328.0541513510207, 436.2267546625883, 106.65682234132905, 145.7950651190797, 98.26017656961497, 62.83507205525848, 245.9826870935626, 361.83810145879454, 95.70268032179455, 87.15965153323347, 66.06319735868307, 118.09568998632486, 68.21531237886823, 115.99553459427506, 106.9044419748279, 220.20323523082374, 150.5034289748337, 154.73176251867562, 118.67798639825702, 152.26409700869755, 95.44419363345945, 118.79821984609252, 143.44861022074517, 116.71129108861095, 109.51940364736302, 125.73496383349134, 114.2656916360236, 97.44991118764378, 482.2354601490963, 235.2669288338682, 230.38737172747688, 222.59019741853302, 163.98650803795664, 125.04489522461739, 155.04306309483266, 99.67955070490586, 101.61287850015461, 97.73291711645186, 96.7529352288477, 94.80582350051426, 88.94826056202385, 87.9770220842353, 85.05265353067746, 125.60839271083479, 81.15253974627326, 81.15243417957286, 96.57380393250803, 76.27162893703701, 73.34823293652924, 72.37401068084807, 72.37148887111144, 71.39350577178965, 70.41769958151791, 69.44721540844957, 74.23913102561382, 66.51971800666482, 64.56482734636093, 72.24958757154864, 817.9872511013738, 158.71565445057476, 89.32648431657084, 92.61750345504133, 284.3365112180795, 231.5938536979434, 91.59127901898196, 106.47708314242966, 149.71393106576596, 236.6519714820696, 196.1541586190184, 143.32226389213537, 140.66851130268387, 151.95596973486542, 128.0332153099429, 117.72211235120699, 159.430947469971, 95.84900054727478, 99.63580377390916, 95.54647047188486, 277.5113552963577, 171.51207999365593, 152.47710184545014, 147.46879827683634, 137.4357339088219, 113.40567778532548, 109.39634537380887, 100.3800005138393, 98.37656833396947, 91.36656046677285, 81.34684538097989, 78.33669100780655, 77.3389520838493, 77.29272396867692, 210.98493291130586, 70.32467388434343, 70.32208468216726, 68.32313121142776, 67.31791493670413, 66.31969116018162, 66.31856005141503, 157.30635695228463, 66.28464319726419, 60.30754967428423, 60.304109177678704, 57.30392867120322, 83.8647454736345, 51.2899076928567, 51.285008088429066, 51.283383321309785, 90.50303933926037, 89.3334221845141, 87.40118469997272, 86.33342396650592, 80.33952140563761, 79.73577371380752, 244.14692436962983, 354.28465995793204, 121.28334274257419, 333.8635231279435, 89.91292714979794, 117.80675527612698, 150.10891268325025, 228.9195098352057, 257.0804037627253, 110.32436796535151, 122.53735251693007, 130.2842166041272, 90.1450874272879, 112.77777777932245, 99.08526231933806, 92.79120879036911, 120.84445712950159, 912.4116860250142, 198.88272691612946, 249.2355533425111, 132.3181054023947, 99.04429474159558, 94.15300832741381, 85.3408757492193, 84.36657934091015, 83.37990706737898, 82.4029209341476, 80.452038661726, 75.5521261330163, 75.55200990019314, 75.5198282997101, 104.54839986097537, 67.71786004870845, 65.77194477486655, 61.852819410143994, 60.87098642220595, 60.869456208708634, 58.91978422746363, 55.98056950211412, 55.00244745940972, 52.0650445753077, 51.087715041636955, 51.08749378957242, 51.08119929101508, 63.6018969006293, 83.82708122916281, 50.10725708373157, 243.36666804529483, 129.84970114813294, 164.92637647609772, 117.9688887509508, 70.07326016328811, 109.94423246613677, 68.09367638010028, 132.4423837823531, 218.6243136993733, 94.01536196173707, 246.98725354201122, 87.51330984455426, 98.21664248288451, 163.3509232172638, 148.5176558106837, 89.15646521221431, 155.61969443007726, 139.39659655007176, 89.51456508338846, 199.65400783236825, 126.53599121615575, 145.18536211746843, 132.61036190921172, 95.5941328299712, 97.83914068367154, 97.81214378808643, 89.80183391653695, 593.5643943444061, 466.82045185494536, 152.31515454970858, 130.15209921752833, 123.06627404855429, 105.97751826081688, 99.93273812787969, 94.89591508965466, 83.81054294649735, 79.77981116802628, 79.77616557439792, 75.75497704470764, 68.69851525214219, 75.64176414408041, 72.64007869549143, 63.667255857159475, 63.660529725942105, 70.6098883006929, 57.604330704288884, 55.603238877239306, 53.590869602246954, 54.576657451960656, 50.567298546593335, 48.553009928395156, 47.54886499139016, 47.54731519118919, 47.54434116822112, 51.49784036168833, 43.51201123294436, 42.50945943659418, 132.4011732931008, 93.56571628956611, 273.47421990692186, 51.35806063942997, 214.40717246869386, 61.72067281634562, 111.85688879279675, 99.40146439094926, 145.6921271679097, 183.98958152545524, 175.4069410339972, 102.0770046696297, 87.55052498719316, 80.41556160606649, 195.39543028343127, 166.17100375524484, 87.74252709409971, 89.29201277137207, 134.3741980990198, 111.31799667158674, 90.40034425107801, 82.38278480593158], \"Term\": [\"birth control\", \"human life\", \"bodily autonomy\", \"kill baby\", \"make sense\", \"human right\", \"year old\", \"sound like\", \"pregnant woman\", \"foster care\", \"feel like\", \"unborn child\", \"planned parenthood\", \"people like\", \"plan parenthood\", \"roe wade\", \"change mind\", \"think people\", \"feel pain\", \"live human\", \"woman right\", \"look like\", \"human organism\", \"unborn baby\", \"mother life\", \"life begin\", \"late term\", \"supreme court\", \"like say\", \"kill human\", \"plan parenthood\", \"kill baby\", \"late term\", \"sound like\", \"child support\", \"pretty sure\", \"feel bad\", \"woman just\", \"woman man\", \"like just\", \"make look\", \"child foster\", \"adopt child\", \"pay child\", \"old fetus\", \"rape exception\", \"baby murder\", \"kill innocent human\", \"know pregnant\", \"child care\", \"woman abort\", \"mother child\", \"read article\", \"child foster care\", \"feel guilty\", \"black woman\", \"second trimester\", \"baby adoption\", \"honestly think\", \"know want\", \"foster care\", \"year old\", \"week old\", \"make feel\", \"woman child\", \"help woman\", \"look like\", \"feel like\", \"baby just\", \"thing say\", \"baby womb\", \"try make\", \"life worth\", \"man woman\", \"quality life\", \"just want\", \"answer question\", \"raise child\", \"innocent human\", \"care child\", \"child child\", \"kill innocent\", \"force woman\", \"want baby\", \"make illegal\", \"save life\", \"thing like\", \"just like\", \"human right\", \"feel pain\", \"live human\", \"human organism\", \"outside womb\", \"human human\", \"human person\", \"make point\", \"human fetus\", \"survive outside\", \"wrong kill\", \"embryo fetus\", \"just kill\", \"stage development\", \"sperm egg\", \"people die\", \"human dna\", \"just clump\", \"brain activity\", \"mortality rate\", \"brain dead\", \"just clump cell\", \"say human\", \"climate change\", \"maternal mortality\", \"new human\", \"right human\", \"survive outside womb\", \"social medium\", \"believe human\", \"human life\", \"united state\", \"value human\", \"unborn human\", \"change mind\", \"kill human\", \"life human\", \"baby kill\", \"kill people\", \"just like\", \"just say\", \"good thing\", \"year ago\", \"fetus human\", \"people just\", \"make argument\", \"clump cell\", \"new york\", \"make decision\", \"baby bear\", \"planned parenthood\", \"begin conception\", \"medical procedure\", \"life begin conception\", \"right choose\", \"murder child\", \"rape incest\", \"woman choice\", \"end pregnancy\", \"innocent child\", \"safe legal\", \"life danger\", \"women health\", \"woman carry\", \"mother life\", \"ad hominem\", \"life valuable\", \"save mother\", \"right use\", \"pregnancy center\", \"echo chamber\", \"health care\", \"pregnancy term\", \"march life\", \"legal right\", \"crisis pregnancy\", \"child right\", \"thank share\", \"feel good\", \"think mean\", \"cause death\", \"medical reason\", \"person body\", \"body choice\", \"support woman\", \"continue pregnancy\", \"woman right\", \"pregnant woman\", \"people believe\", \"unborn child\", \"straw man\", \"unwanted child\", \"case rape\", \"life begin\", \"right life\", \"say woman\", \"just think\", \"woman pregnant\", \"like people\", \"use body\", \"end life\", \"child die\", \"kill child\", \"birth control\", \"supreme court\", \"roe wade\", \"sex education\", \"catholic church\", \"free speech\", \"punish woman\", \"use birth\", \"think say\", \"unplanned pregnancy\", \"use birth control\", \"start conception\", \"mean say\", \"say like\", \"people use\", \"people agree\", \"overturn roe\", \"make bad\", \"think like\", \"just look\", \"life start conception\", \"state law\", \"gun control\", \"common sense\", \"control fail\", \"want ban\", \"unprotected sex\", \"actually think\", \"black people\", \"ben shapiro\", \"think people\", \"people know\", \"act like\", \"force birth\", \"make think\", \"life start\", \"people sex\", \"say say\", \"unwanted pregnancy\", \"bear alive\", \"like say\", \"medical care\", \"control woman\", \"child bear\", \"people say\", \"high school\", \"make sure\", \"rape victim\", \"ask question\", \"kill child\", \"just make\", \"woman want\", \"want child\", \"child want\", \"say people\", \"people think\", \"people make\", \"bodily autonomy\", \"make sense\", \"consent sex\", \"death penalty\", \"people right\", \"right bodily\", \"sex consent\", \"right bodily autonomy\", \"believe fetus\", \"women body\", \"religious belief\", \"consent pregnancy\", \"think fetus\", \"good luck\", \"just mean\", \"consent sex consent\", \"person think\", \"kill kid\", \"actually believe\", \"free market\", \"god bless\", \"child abuse\", \"donate blood\", \"right wing\", \"sex consent pregnancy\", \"autonomy argument\", \"woman consent\", \"bodily integrity\", \"blood transfusion\", \"kill unborn baby\", \"kill unborn\", \"ok kill\", \"people like\", \"donate organ\", \"unborn baby\", \"organ donation\", \"kill fetus\", \"say fetus\", \"fetus person\", \"make choice\", \"lot people\", \"fetus right\", \"let know\", \"good way\", \"people think\", \"clump cell\", \"value life\", \"argument make\", \"right life\", \"people want\", \"really think\", \"woman make\"], \"Total\": [913.0, 839.0, 594.0, 529.0, 468.0, 483.0, 447.0, 357.0, 406.0, 334.0, 390.0, 403.0, 278.0, 286.0, 266.0, 250.0, 307.0, 248.0, 236.0, 231.0, 270.0, 260.0, 223.0, 234.0, 213.0, 321.0, 212.0, 199.0, 306.0, 255.0, 266.7659404183661, 529.6744823475372, 212.44580368825962, 357.9553292157226, 139.6951432764441, 122.23532308539177, 91.19574554657271, 89.25587980700182, 83.43587335417173, 85.38076969248371, 68.88597711124282, 65.97595114803896, 78.59082331724501, 62.096023401571216, 59.186107019777666, 59.18622615214117, 66.94969419107892, 58.2161192612925, 58.216127502590744, 56.276200699225576, 58.216832884578686, 98.97977404365945, 53.366188230690966, 51.42611990401918, 65.97729312213357, 51.426249516093144, 51.426295300893344, 52.39728522215686, 50.45628011064471, 50.456308566321354, 334.85376163457244, 447.2582268471722, 108.66222719751629, 149.4858196240989, 100.9548102843206, 64.03970596544195, 260.0476713911239, 390.9436107410639, 101.89597127423208, 92.19260133988541, 67.9505533289735, 130.05755911802154, 70.83617705024498, 131.44423535652615, 119.77382691845898, 296.8063367064914, 186.61066576285214, 199.87747627450148, 142.73910425566848, 201.47450905960636, 110.04120433158792, 152.38923327737942, 237.7560981511423, 174.09280098543678, 167.65362159542073, 276.5976807651801, 206.95251817065338, 361.5834213608463, 483.8424130572261, 236.06458578725776, 231.1875764686421, 223.3840118135741, 164.86079636973525, 125.84138219904276, 156.08609563002437, 100.48034344298354, 102.43185628953128, 98.52943952478287, 97.5540993830271, 95.60316506572048, 89.75065800264208, 88.77520983784731, 85.84890110586545, 126.82954743970119, 81.94715696221178, 81.94716434376708, 97.55899813049047, 77.07007728924405, 74.14373825085546, 73.16831571065983, 73.16836122245397, 72.19293960287898, 71.21751600180573, 70.24204210590787, 75.12150284957744, 67.3157864369985, 65.36494920944615, 73.17164234224339, 839.3669488189232, 161.92022319421238, 90.7458107737868, 94.66755603790727, 307.9071850019552, 255.3227832045379, 95.69998104057444, 115.06806770940196, 180.44020051378638, 361.5834213608463, 283.60755618452373, 191.3667929996273, 187.03788382433828, 223.685680085523, 171.93865416531574, 163.31121125096058, 326.19717304639204, 114.05646248732704, 274.6961387245552, 226.0433581071374, 278.49939828310437, 172.30704504557897, 153.27145641906006, 148.2620940673174, 138.2429663835356, 114.19838140469115, 110.19085636624037, 101.17399351926161, 99.17024822968251, 92.15720496151536, 82.13847216431331, 79.13267870600818, 78.13092109262395, 78.12970459760676, 213.3415613375181, 71.11778816175784, 71.11773534906565, 69.11406220533559, 68.11219416567617, 67.1103369721755, 67.11031716393764, 159.25545857700055, 67.10923496084557, 61.09908800826808, 61.099035488149404, 58.09346174236369, 85.14669839330041, 52.082208230984314, 52.082074507697044, 52.08203596779271, 92.16196101238639, 91.13149314844546, 89.15682342271457, 88.15533174693529, 82.11433233121932, 82.14706395575838, 270.6321979658457, 406.0739941373727, 130.0611844621689, 403.0114070843361, 94.07092235089878, 129.85830996634942, 178.4374655241194, 321.1119378754863, 482.184368390508, 141.6423277630421, 172.17505370809408, 193.38616500947563, 100.9920631833609, 159.53567760406898, 147.8636221572348, 115.64730877918902, 385.14826252341953, 913.2082644451278, 199.67878147086648, 250.58806936144518, 133.12206474926307, 99.8434031429775, 94.94949082933687, 86.14048104994873, 85.1616962844953, 84.1829233142072, 83.20424161738873, 81.24658228694425, 76.35265591369154, 76.35274622309241, 76.35261851010183, 105.72023260266609, 68.5225384438796, 66.56488125138107, 62.64979978698854, 61.671035244066445, 61.67105649148332, 59.71342516516805, 56.777135640839155, 55.79832136869226, 52.86202631154195, 51.88321832606319, 51.883244921151, 51.883257606026966, 64.60666469679897, 85.15767065740728, 50.90448455577502, 248.74260907876985, 132.1863738097448, 168.3662623426157, 121.43810136714926, 71.47511594407119, 113.5367392938933, 69.51570143692969, 141.045057812149, 261.3291793888162, 100.7681523105678, 306.72837238147827, 93.10237415682461, 110.53650017550004, 224.9244174747668, 198.8536062239729, 99.86535212004145, 218.48562125723052, 193.93102722365765, 101.06986474768041, 385.14826252341953, 187.60135805156912, 283.20867492120436, 254.51936111745655, 126.00224531694258, 159.08442408839477, 301.12286933097005, 165.01381375982064, 594.3557916055156, 468.40260810750345, 153.10669827505788, 130.94348927510634, 123.89125787594817, 106.76552933274719, 100.72100927261702, 95.68393110188511, 84.60223358507716, 80.57254466987527, 80.57242060253824, 76.54299363520995, 69.49094146541871, 76.53975239401368, 73.51759440931609, 64.45399620215986, 64.4538396566097, 71.50190476754291, 58.40930676111518, 56.39454048987109, 54.37974474250234, 55.38645227612354, 51.35749148369362, 49.34265019528662, 48.33531974070749, 48.3352729648023, 48.3352093104022, 52.362143073666246, 44.305484166893166, 43.298157871239724, 134.93660171892168, 95.64169776886614, 286.72860139332056, 52.358613878742574, 234.0887378349508, 63.44131266344957, 120.60816009482117, 106.55674131147343, 164.6210468680017, 216.32836966722863, 214.42747983526323, 119.76813266627491, 100.32664672206977, 90.37670789359538, 301.12286933097005, 326.19717304639204, 123.74383292962864, 138.4965110726535, 482.184368390508, 271.67902368752016, 152.21913281153203, 124.81299791268032], \"loglift\": [30.0, 29.0, 28.0, 27.0, 26.0, 25.0, 24.0, 23.0, 22.0, 21.0, 20.0, 19.0, 18.0, 17.0, 16.0, 15.0, 14.0, 13.0, 12.0, 11.0, 10.0, 9.0, 8.0, 7.0, 6.0, 5.0, 4.0, 3.0, 2.0, 1.0, 1.5443, 1.5437, 1.543, 1.5427, 1.5419, 1.541, 1.5388, 1.5386, 1.5379, 1.5366, 1.5359, 1.5355, 1.5354, 1.5347, 1.534, 1.534, 1.5338, 1.5338, 1.5338, 1.5332, 1.5326, 1.5326, 1.5325, 1.532, 1.532, 1.5319, 1.5318, 1.5316, 1.5316, 1.5316, 1.5271, 1.5226, 1.529, 1.5226, 1.5205, 1.5286, 1.492, 1.4702, 1.4849, 1.4915, 1.5194, 1.4511, 1.5099, 1.4226, 1.4339, 1.2491, 1.3326, 1.2916, 1.363, 1.2676, 1.4053, 1.2986, 1.0423, 1.1477, 1.1218, 0.7592, 0.9536, 0.2364, 1.5503, 1.5502, 1.5502, 1.5501, 1.5483, 1.5473, 1.5469, 1.5456, 1.5456, 1.5455, 1.5454, 1.5453, 1.5446, 1.5446, 1.5443, 1.544, 1.5439, 1.5439, 1.5435, 1.5432, 1.5428, 1.5427, 1.5427, 1.5425, 1.5423, 1.5422, 1.5418, 1.5417, 1.5413, 1.5409, 1.5278, 1.5336, 1.5379, 1.5317, 1.474, 1.4561, 1.5097, 1.476, 1.367, 1.1297, 1.1849, 1.2645, 1.2687, 1.167, 1.2588, 1.2263, 0.8377, 1.3797, 0.5395, 0.6925, 1.6137, 1.6127, 1.6121, 1.6119, 1.6114, 1.6103, 1.6101, 1.6094, 1.6093, 1.6087, 1.6076, 1.6072, 1.6071, 1.6065, 1.6062, 1.6061, 1.606, 1.6058, 1.6056, 1.6054, 1.6054, 1.605, 1.6049, 1.6042, 1.6042, 1.6036, 1.6021, 1.602, 1.6019, 1.6018, 1.5991, 1.5974, 1.5974, 1.5964, 1.5954, 1.5875, 1.5143, 1.4809, 1.5474, 1.4291, 1.5721, 1.5199, 1.4444, 1.2789, 0.9883, 1.3674, 1.2772, 1.2223, 1.5037, 1.2704, 1.217, 1.3971, 0.4582, 1.6238, 1.6206, 1.6192, 1.6186, 1.6166, 1.6162, 1.6153, 1.6153, 1.6151, 1.615, 1.6148, 1.6141, 1.6141, 1.6137, 1.6135, 1.6128, 1.6127, 1.6118, 1.6116, 1.6116, 1.6113, 1.6105, 1.6103, 1.6094, 1.6092, 1.6092, 1.6091, 1.609, 1.6089, 1.6089, 1.6028, 1.6068, 1.604, 1.5957, 1.6048, 1.5925, 1.604, 1.5617, 1.4462, 1.5553, 1.408, 1.5627, 1.5065, 1.3048, 1.3328, 1.5112, 1.2853, 1.2945, 1.5032, 0.9676, 1.2308, 0.9565, 0.9727, 1.3485, 1.1385, 0.5002, 1.0162, 1.7116, 1.7095, 1.7077, 1.7068, 1.7062, 1.7055, 1.705, 1.7046, 1.7035, 1.703, 1.703, 1.7025, 1.7014, 1.7011, 1.7009, 1.7006, 1.7005, 1.7003, 1.699, 1.6988, 1.6983, 1.6982, 1.6974, 1.6968, 1.6965, 1.6965, 1.6964, 1.6963, 1.6948, 1.6945, 1.6939, 1.691, 1.6656, 1.6936, 1.6251, 1.6854, 1.6376, 1.6434, 1.5907, 1.551, 1.512, 1.5531, 1.5767, 1.5961, 1.2804, 1.0384, 1.3691, 1.274, 0.4352, 0.8207, 1.1918, 1.2975], \"logprob\": [30.0, 29.0, 28.0, 27.0, 26.0, 25.0, 24.0, 23.0, 22.0, 21.0, 20.0, 19.0, 18.0, 17.0, 16.0, 15.0, 14.0, 13.0, 12.0, 11.0, 10.0, 9.0, 8.0, 7.0, 6.0, 5.0, 4.0, 3.0, 2.0, 1.0, -4.2689, -3.5836, -4.4979, -3.9765, -4.9182, -5.0526, -5.3478, -5.3695, -5.4376, -5.4158, -5.6312, -5.6748, -5.4999, -5.7362, -5.7849, -5.7849, -5.6618, -5.8016, -5.8016, -5.8361, -5.8028, -5.2721, -5.8899, -5.9274, -5.6782, -5.9275, -5.9276, -5.9091, -5.9469, -5.9469, -4.0588, -3.7738, -5.1823, -4.8698, -5.2643, -5.7114, -4.3467, -3.9608, -5.2907, -5.3842, -5.6613, -5.0805, -5.6293, -5.0984, -5.18, -4.4574, -4.838, -4.8103, -5.0755, -4.8263, -5.2934, -5.0745, -4.886, -5.0923, -5.1559, -5.0178, -5.1134, -5.2726, -3.6675, -4.3852, -4.4062, -4.4406, -4.7461, -5.0173, -4.8022, -5.244, -5.2248, -5.2637, -5.2738, -5.2941, -5.3579, -5.3689, -5.4027, -5.0128, -5.4496, -5.4496, -5.2756, -5.5116, -5.5507, -5.5641, -5.5641, -5.5777, -5.5915, -5.6054, -5.5386, -5.6484, -5.6783, -5.5658, -3.1391, -4.7788, -5.3536, -5.3175, -4.1958, -4.4009, -5.3286, -5.178, -4.8372, -4.3793, -4.567, -4.8808, -4.8995, -4.8223, -4.9936, -5.0776, -4.7743, -5.2832, -5.2444, -5.2863, -4.1564, -4.6376, -4.7553, -4.7887, -4.8591, -5.0513, -5.0873, -5.1733, -5.1935, -5.2674, -5.3835, -5.4213, -5.4341, -5.4347, -4.4305, -5.5291, -5.5292, -5.558, -5.5728, -5.5878, -5.5878, -4.7241, -5.5883, -5.6828, -5.6829, -5.7339, -5.3531, -5.8448, -5.8449, -5.8449, -5.2769, -5.2899, -5.3118, -5.3241, -5.396, -5.4035, -4.2845, -3.9122, -4.9841, -3.9715, -5.2834, -5.0132, -4.7709, -4.3489, -4.2329, -5.0788, -4.9739, -4.9125, -5.2808, -5.0568, -5.1863, -5.2519, -4.9878, -2.9588, -4.4822, -4.2565, -4.8897, -5.1793, -5.23, -5.3283, -5.3397, -5.3515, -5.3633, -5.3873, -5.4501, -5.4501, -5.4505, -5.1253, -5.5596, -5.5887, -5.6502, -5.6662, -5.6662, -5.6987, -5.7499, -5.7675, -5.8224, -5.8414, -5.8414, -5.8415, -5.6223, -5.3462, -5.8607, -4.2803, -4.9085, -4.6694, -5.0045, -5.5254, -5.0749, -5.554, -4.8888, -4.3876, -5.2315, -4.2656, -5.3031, -5.1877, -4.679, -4.7742, -5.2845, -4.7275, -4.8376, -5.2805, -4.4783, -4.9344, -4.7969, -4.8875, -5.2148, -5.1916, -5.1919, -5.2773, -3.3005, -3.5407, -4.6607, -4.818, -4.8739, -5.0234, -5.0822, -5.1339, -5.2581, -5.3074, -5.3074, -5.3592, -5.4569, -5.3606, -5.4011, -5.533, -5.5331, -5.4295, -5.6331, -5.6684, -5.7053, -5.6871, -5.7634, -5.804, -5.8249, -5.8249, -5.825, -5.7451, -5.9136, -5.9369, -4.8008, -5.148, -4.0755, -5.7478, -4.3188, -5.564, -4.9694, -5.0875, -4.7052, -4.4718, -4.5195, -5.0609, -5.2144, -5.2995, -4.4116, -4.5736, -5.2123, -5.1947, -4.786, -4.9743, -5.1824, -5.2753]}, \"token.table\": {\"Topic\": [1, 3, 4, 5, 4, 3, 1, 1, 2, 3, 2, 4, 5, 3, 4, 5, 1, 1, 2, 4, 1, 2, 1, 2, 1, 1, 3, 1, 4, 3, 5, 2, 4, 4, 1, 4, 1, 5, 5, 5, 3, 5, 2, 2, 1, 2, 3, 4, 5, 1, 3, 5, 4, 3, 5, 1, 2, 3, 5, 5, 1, 2, 3, 4, 5, 1, 1, 2, 3, 1, 2, 3, 5, 1, 1, 3, 5, 1, 1, 4, 2, 2, 5, 4, 5, 5, 5, 3, 5, 4, 1, 4, 5, 3, 5, 5, 5, 3, 2, 2, 3, 5, 3, 1, 3, 1, 1, 2, 3, 4, 5, 2, 2, 5, 1, 2, 3, 5, 3, 5, 3, 4, 1, 3, 5, 1, 3, 5, 4, 5, 5, 2, 4, 5, 4, 5, 4, 3, 4, 1, 4, 2, 3, 4, 1, 2, 2, 2, 1, 2, 3, 4, 5, 2, 2, 2, 3, 3, 1, 2, 2, 2, 2, 1, 2, 3, 4, 5, 4, 1, 2, 4, 5, 1, 2, 3, 4, 5, 2, 3, 4, 5, 1, 2, 3, 4, 1, 5, 1, 2, 3, 4, 2, 5, 2, 5, 1, 3, 5, 1, 5, 2, 5, 2, 3, 5, 5, 1, 1, 1, 3, 2, 5, 2, 3, 3, 3, 2, 3, 5, 2, 4, 4, 3, 1, 2, 1, 2, 3, 5, 1, 2, 3, 4, 5, 2, 1, 2, 1, 2, 4, 5, 1, 2, 3, 5, 4, 1, 3, 4, 5, 1, 2, 3, 4, 5, 1, 3, 1, 3, 4, 1, 2, 2, 5, 1, 2, 3, 4, 4, 5, 1, 2, 3, 5, 3, 2, 4, 3, 4, 3, 3, 4, 2, 1, 5, 2, 3, 3, 2, 1, 2, 4, 2, 5, 1, 3, 5, 2, 4, 1, 4, 3, 4, 5, 2, 5, 1, 2, 3, 4, 5, 4, 5, 4, 5, 1, 2, 3, 4, 5, 5, 1, 2, 4, 5, 3, 4, 2, 4, 5, 4, 1, 4, 5, 3, 5, 5, 1, 3, 3, 3, 1, 3, 1, 4, 1, 5, 1, 3, 4, 5, 1, 3, 1, 3, 4, 5, 1, 1, 2, 3, 4, 5, 5, 5, 5, 3, 2, 2, 3, 5, 3, 5, 3, 4, 3, 1, 2, 3, 5, 3, 2, 5, 2, 4, 2, 3, 4, 5, 2, 3, 4, 1, 3, 4, 5, 1, 5, 5, 4, 2, 1, 2, 2, 2, 4, 4, 2, 3, 4, 3, 4, 4, 2, 2, 3, 1, 2, 3, 4, 5, 1, 2, 4, 5, 4, 3, 3, 4, 5, 4, 1, 2, 2, 5, 2, 3, 5, 2, 5, 1, 2, 4, 4, 1, 3, 3, 4, 4, 4, 3, 5, 2, 5, 2, 5, 1, 2, 3, 4, 5, 4, 1, 3, 4, 1, 2, 1, 3, 1, 3, 3, 5, 1, 1, 3, 4, 5, 1, 1, 2, 3, 4, 3, 5, 1, 3, 4, 5, 3, 2, 1, 2, 1, 2, 4], \"Freq\": [0.01187886440057756, 0.00593943220028878, 0.9800063130476487, 0.9929924393249661, 0.9906098743891816, 0.9842825797785579, 0.9924822861969513, 0.8091713267444919, 0.15540376473900838, 0.03215250304945001, 0.20217115783740977, 0.15162836837805732, 0.6426154659831953, 0.10883560621616893, 0.8904731417686549, 0.9930635963296112, 0.992417828128453, 0.349490472365733, 0.4246972828748148, 0.22562043152724537, 0.9421373465456815, 0.05888358415910509, 0.0695240665742607, 0.9211938821089543, 0.9858148091256634, 0.9712945188315074, 0.014716583618659204, 0.05954262197353762, 0.9328344109187561, 0.998218035452365, 0.9928815876418731, 0.9839877539339175, 0.9822317313755727, 0.9986769015435247, 0.011742923359459185, 0.9864055621945715, 0.991711440750511, 0.9931050484463178, 0.999401382790341, 0.9739861091676499, 0.9755507499747998, 0.011343613371799998, 0.9942701530232734, 0.9845740412091744, 0.7544378726096347, 0.05956088467970801, 0.029780442339854003, 0.12904858347270068, 0.024817035283211667, 0.00560420423515167, 0.8406306352727504, 0.15131351434909507, 0.9915527404272296, 0.9873921843717038, 0.010850463564524218, 0.00649546388463556, 0.9223558716182495, 0.00324773194231778, 0.06495463884635559, 0.9930226208713112, 0.195621269108927, 0.035567503474350365, 0.035567503474350365, 0.7246878832898886, 0.008891875868587591, 0.9773225505032515, 0.8633129796883706, 0.009087505049351269, 0.11813756564156651, 0.017293960586827806, 0.16429262557486415, 0.8041691672874929, 0.017293960586827806, 0.9852074713428672, 0.9917139402153131, 0.9865326734337518, 0.011744436588497047, 0.9950238550880149, 0.23809099531947883, 0.7618911850223323, 0.9834756749144565, 0.48743524818158646, 0.508894661623543, 0.9836929007136123, 0.9929060308537478, 0.9927717187587072, 0.9929562753450399, 0.9738631686591414, 0.024346579216478533, 0.9829768014676239, 0.09951463980255551, 0.8865849727864036, 0.009046785436595955, 0.9811775420233514, 0.9927946835667093, 0.9930391560536572, 0.9740517600047818, 0.9834553432190561, 0.9936909508664714, 0.13525977321678523, 0.669535877423087, 0.18936368250349933, 0.9881996037060211, 0.9868881433074961, 0.9792236672996363, 0.9851874322833394, 0.9259647428789052, 0.0025579136543616163, 0.0025579136543616163, 0.0025579136543616163, 0.06650575501340203, 0.9954902774437452, 0.6795249474257136, 0.31740967938964254, 0.006074557409429131, 0.09719291855086609, 0.006074557409429131, 0.8868853817766531, 0.14194092887270146, 0.8516455732362088, 0.024703943541821077, 0.9716884459782956, 0.6014567075755695, 0.37433319562395584, 0.021029954810334598, 0.979532075132989, 0.01791826966706687, 0.9930039240244904, 0.9900000429592246, 0.9930167979952739, 0.9929480776050186, 0.7472560821995825, 0.2456016493942684, 0.0052255670083886895, 0.09958318033221691, 0.8851838251752614, 0.9856927350301942, 0.9858374802524584, 0.0062792196194424105, 0.9837646667834014, 0.0156153121711651, 0.08010786353993661, 0.020026965884984153, 0.8911999818817948, 0.9909569213258658, 0.9884418569560803, 0.9957839650165998, 0.9933139466180374, 0.0011913740485101352, 0.9745439716812906, 0.021444732873182434, 0.0023827480970202704, 0.0011913740485101352, 0.9982809342062736, 0.993041688783101, 0.9961921216340159, 0.002066788634095469, 0.9874431417272409, 0.8336888522633016, 0.1611331395130751, 0.9884417679201962, 0.9840324913958678, 0.9916361838526021, 0.2682645117824629, 0.6554504050767394, 0.008296840570591636, 0.060843497517672006, 0.008296840570591636, 0.9891187774353113, 0.11726993998600209, 0.20255716906673088, 0.6769673808282848, 0.9929595845256534, 0.03173399228525606, 0.6910958319900208, 0.13751396656944292, 0.06346798457051211, 0.0740459819989308, 0.011616084658761332, 0.7143892065138219, 0.2671699471515106, 0.005808042329380666, 0.7412240669832991, 0.006738400608939083, 0.0404304036536345, 0.20889041887711157, 0.9968386576976188, 0.001887952003215187, 0.057120860044545196, 0.10904891463049537, 0.3141647302449986, 0.5192805458595018, 0.06633050362189809, 0.9286270507065733, 0.9086537326915549, 0.0900820510858007, 0.7808950635206345, 0.20342644511882077, 0.013124286781859404, 0.9791102657352654, 0.9929805399006553, 0.8313003397961719, 0.16626006795923437, 0.007410887685485365, 0.007410887685485365, 0.9782371744840682, 0.9931138439624525, 0.9791101271286616, 0.9909563624591845, 0.9931944822483706, 0.982012228517706, 0.11960930014179623, 0.8771348677065057, 0.2865044526487636, 0.7131469527887704, 0.9914874123743027, 0.9856863343370913, 0.9613377035152625, 0.020898645728592662, 0.020898645728592662, 0.02642316503589564, 0.9688493846495068, 0.9880525164450925, 0.9842833107159628, 0.9599614608191906, 0.028234160612329137, 0.9838280950446238, 0.06931237742208336, 0.8911591382839289, 0.029705304609464297, 0.003260213563668311, 0.006520427127336622, 0.16301067818341555, 0.8052727502260728, 0.022821494945678176, 0.9948631475497854, 0.9459803992245885, 0.04999083410536443, 0.009327162738360432, 0.004663581369180216, 0.16788892929048777, 0.8161267396065378, 0.006123278324494811, 0.7225468422903877, 0.006123278324494811, 0.2694242462777717, 0.9896280628318386, 0.009245204422686398, 0.13405546412895275, 0.004622602211343199, 0.8505588068871486, 0.010921158243903006, 0.3640386081301002, 0.24026548136586612, 0.20386162055285612, 0.1856596901463511, 0.9766812689466838, 0.020068793197534598, 0.6561146663771474, 0.07754082420820833, 0.2684105453361058, 0.9871384983069621, 0.9952195282527462, 0.002134915525001708, 0.9970055501757976, 0.17392448885806225, 0.0045769602331069015, 0.10984704559456564, 0.7140057963646766, 0.9793618250969266, 0.01399088321567038, 0.8825035170645895, 0.015215577880423957, 0.022823366820635935, 0.08368567834233177, 0.9820113843905599, 0.9829042618985073, 0.9953800453743769, 0.05370432328157218, 0.9451960897556704, 0.9917045453291462, 0.9766107952936376, 0.010973155003299298, 0.9861155285308972, 0.9901012701521498, 0.010103074185226017, 0.009374638431730092, 0.9890243545475248, 0.9895061436952913, 0.9823176822787245, 0.1402813979241008, 0.8416883875446048, 0.0175351747405126, 0.010455690596549888, 0.9828349160756894, 0.9799597054190214, 0.015762599448484137, 0.9772811658060165, 0.9947786472667235, 0.9915138246961216, 0.9823495396076606, 0.9923742106503022, 0.9303313705804014, 0.053820823091428174, 0.007688689013061168, 0.9934593518904136, 0.007884598030876298, 0.011632055687007054, 0.7444515639684515, 0.005816027843503527, 0.20937700236612697, 0.02326411137401411, 0.9834599153700091, 0.015130152544153987, 0.045339041647147096, 0.9521198745900891, 0.01212019742123542, 0.07272118452741252, 0.13938227034420733, 0.545408883955594, 0.23028375100347298, 0.9928061277992626, 0.005028825068797996, 0.040230600550383966, 0.7492949352509014, 0.2061818278207178, 0.014385239296006838, 0.978196272128465, 0.023246324716393967, 0.32544854602951556, 0.6475761885281177, 0.9931873721336485, 0.2650186202185892, 0.32391164693383123, 0.40857037283699166, 0.975808655581093, 0.011216191443460838, 0.9929586870382335, 0.9971287923144728, 0.9982068245526451, 0.9834550529430979, 0.9834712024136061, 0.12559287404833652, 0.8717623022178653, 0.9898938943816691, 0.9867602196313784, 0.8933504318338655, 0.1001888334766952, 0.7754750704733281, 0.09505823444511764, 0.09505823444511764, 0.03502145479556966, 0.9799577329175895, 0.9891927841790944, 0.19594595328046804, 0.005156472454749159, 0.7167496712101331, 0.08250355927598654, 0.9931381977459584, 0.11825057512504979, 0.0065694763958360994, 0.019708429187508297, 0.26277905583344396, 0.591252875625249, 0.9928955764483981, 0.9928298081081832, 0.9928521843322171, 0.9910088273128692, 0.9850708145200033, 0.18665059653512336, 0.5329911478836301, 0.27790199928562814, 0.9836711446562584, 0.9930556994014206, 0.003990612971113211, 0.9936626298071894, 0.986139598968485, 0.45553527293299595, 0.014461437235968126, 0.31092090057331473, 0.21692155853952189, 0.9838808171624214, 0.06569269962506144, 0.929082466125869, 0.9840318793132212, 0.995381710320057, 0.03771582311959164, 0.0628597051993194, 0.61602511095333, 0.28915464391686924, 0.021269798790082763, 0.035449664650137935, 0.9358711467636416, 0.0564802917767876, 0.7766040119308295, 0.12002062002567365, 0.04942025530468915, 0.9917105578304036, 0.9928415205742677, 0.9930626353046531, 0.9915711587603716, 0.9944167445418376, 0.9945375049450815, 0.0027936446768120266, 0.9901116834935532, 0.9912677217067324, 0.9953812227031084, 0.9863125247149634, 0.031890832204339886, 0.9567249661301966, 0.01063027740144663, 0.9742513606188641, 0.012178142007735801, 0.9966006329472442, 0.9946265854415045, 0.9953088799267904, 0.9792211531011756, 0.5508509923324316, 0.11596862996472244, 0.0048320262485301016, 0.2319372599294449, 0.09180849872207193, 0.9436765937350883, 0.04338742959701555, 0.010846857399253888, 0.9929351732029271, 0.9891191182147213, 0.9792243919100659, 0.004020219952277367, 0.9769134484034003, 0.01608087980910947, 0.9859481796588125, 0.9072905934896115, 0.08457793668123496, 0.08116580137826344, 0.9141832365762305, 0.007443958030131404, 0.8287606606879631, 0.16128575731951375, 0.9823851369180847, 0.010563281042129944, 0.018527642445265793, 0.981965049599087, 0.9855266799627068, 0.9829760572720021, 0.08470770952471554, 0.9086827021742212, 0.16071684033994033, 0.8380235246296889, 0.9863589344132544, 0.9846568033773826, 0.7083055132058932, 0.28833675758823973, 0.9807615276242471, 0.011019792445216258, 0.2828423782533389, 0.7111465510369664, 0.6720553597720982, 0.017232188712105082, 0.18381001292912086, 0.08616094356052541, 0.040208440328245186, 0.9829762975987084, 0.3378917801082818, 0.13751409655569607, 0.5225535669116451, 0.9847028057459669, 0.009202829960242681, 0.9790982637789453, 0.9855406518759401, 0.970731357168629, 0.019810844023849573, 0.9883962915920868, 0.9930649041312818, 0.9859294445394812, 0.008011986064941762, 0.048071916389650575, 0.2804195122729617, 0.6569828573252245, 0.9947759478429438, 0.27923403929828217, 0.005171000727745966, 0.6722300946069756, 0.04136800582196773, 0.9015926480070685, 0.09607134773845812, 0.31072494521745764, 0.17301729904153892, 0.5119899665514928, 0.992894047566437, 0.9855253070511834, 0.9943200809957609, 0.24593948059849818, 0.7538579731388748, 0.9748283515620628, 0.01117922421516127, 0.013415069058193525], \"Term\": [\"act like\", \"act like\", \"act like\", \"actually believe\", \"actually think\", \"ad hominem\", \"adopt child\", \"answer question\", \"answer question\", \"answer question\", \"argument make\", \"argument make\", \"argument make\", \"ask question\", \"ask question\", \"autonomy argument\", \"baby adoption\", \"baby bear\", \"baby bear\", \"baby bear\", \"baby just\", \"baby just\", \"baby kill\", \"baby kill\", \"baby murder\", \"baby womb\", \"baby womb\", \"bear alive\", \"bear alive\", \"begin conception\", \"believe fetus\", \"believe human\", \"ben shapiro\", \"birth control\", \"black people\", \"black people\", \"black woman\", \"blood transfusion\", \"bodily autonomy\", \"bodily integrity\", \"body choice\", \"body choice\", \"brain activity\", \"brain dead\", \"care child\", \"care child\", \"care child\", \"care child\", \"care child\", \"case rape\", \"case rape\", \"case rape\", \"catholic church\", \"cause death\", \"cause death\", \"change mind\", \"change mind\", \"change mind\", \"change mind\", \"child abuse\", \"child bear\", \"child bear\", \"child bear\", \"child bear\", \"child bear\", \"child care\", \"child child\", \"child child\", \"child child\", \"child die\", \"child die\", \"child die\", \"child die\", \"child foster\", \"child foster care\", \"child right\", \"child right\", \"child support\", \"child want\", \"child want\", \"climate change\", \"clump cell\", \"clump cell\", \"common sense\", \"consent pregnancy\", \"consent sex\", \"consent sex consent\", \"continue pregnancy\", \"continue pregnancy\", \"control fail\", \"control woman\", \"control woman\", \"control woman\", \"crisis pregnancy\", \"death penalty\", \"donate blood\", \"donate organ\", \"echo chamber\", \"embryo fetus\", \"end life\", \"end life\", \"end life\", \"end pregnancy\", \"feel bad\", \"feel good\", \"feel guilty\", \"feel like\", \"feel like\", \"feel like\", \"feel like\", \"feel like\", \"feel pain\", \"fetus human\", \"fetus human\", \"fetus person\", \"fetus person\", \"fetus person\", \"fetus person\", \"fetus right\", \"fetus right\", \"force birth\", \"force birth\", \"force woman\", \"force woman\", \"force woman\", \"foster care\", \"foster care\", \"free market\", \"free speech\", \"god bless\", \"good luck\", \"good thing\", \"good thing\", \"good thing\", \"good way\", \"good way\", \"gun control\", \"health care\", \"health care\", \"help woman\", \"help woman\", \"high school\", \"high school\", \"high school\", \"honestly think\", \"human dna\", \"human fetus\", \"human human\", \"human life\", \"human life\", \"human life\", \"human life\", \"human life\", \"human organism\", \"human person\", \"human right\", \"human right\", \"innocent child\", \"innocent human\", \"innocent human\", \"just clump\", \"just clump cell\", \"just kill\", \"just like\", \"just like\", \"just like\", \"just like\", \"just like\", \"just look\", \"just make\", \"just make\", \"just make\", \"just mean\", \"just say\", \"just say\", \"just say\", \"just say\", \"just say\", \"just think\", \"just think\", \"just think\", \"just think\", \"just want\", \"just want\", \"just want\", \"just want\", \"kill baby\", \"kill baby\", \"kill child\", \"kill child\", \"kill child\", \"kill child\", \"kill fetus\", \"kill fetus\", \"kill human\", \"kill human\", \"kill innocent\", \"kill innocent\", \"kill innocent\", \"kill innocent human\", \"kill kid\", \"kill people\", \"kill people\", \"kill unborn\", \"kill unborn\", \"kill unborn\", \"kill unborn baby\", \"know pregnant\", \"know want\", \"late term\", \"legal right\", \"let know\", \"let know\", \"life begin\", \"life begin\", \"life begin conception\", \"life danger\", \"life human\", \"life human\", \"life human\", \"life start\", \"life start\", \"life start conception\", \"life valuable\", \"life worth\", \"life worth\", \"like just\", \"like people\", \"like people\", \"like people\", \"like say\", \"like say\", \"like say\", \"like say\", \"like say\", \"live human\", \"look like\", \"look like\", \"lot people\", \"lot people\", \"lot people\", \"lot people\", \"make argument\", \"make argument\", \"make argument\", \"make argument\", \"make bad\", \"make choice\", \"make choice\", \"make choice\", \"make choice\", \"make decision\", \"make decision\", \"make decision\", \"make decision\", \"make decision\", \"make feel\", \"make feel\", \"make illegal\", \"make illegal\", \"make illegal\", \"make look\", \"make point\", \"make sense\", \"make sense\", \"make sure\", \"make sure\", \"make sure\", \"make sure\", \"make think\", \"make think\", \"man woman\", \"man woman\", \"man woman\", \"man woman\", \"march life\", \"maternal mortality\", \"mean say\", \"medical care\", \"medical care\", \"medical procedure\", \"medical reason\", \"medical reason\", \"mortality rate\", \"mother child\", \"mother child\", \"mother life\", \"mother life\", \"murder child\", \"new human\", \"new york\", \"new york\", \"new york\", \"ok kill\", \"ok kill\", \"old fetus\", \"organ donation\", \"organ donation\", \"outside womb\", \"overturn roe\", \"pay child\", \"people agree\", \"people believe\", \"people believe\", \"people believe\", \"people die\", \"people die\", \"people just\", \"people just\", \"people just\", \"people just\", \"people just\", \"people know\", \"people know\", \"people like\", \"people like\", \"people make\", \"people make\", \"people make\", \"people make\", \"people make\", \"people right\", \"people say\", \"people say\", \"people say\", \"people say\", \"people sex\", \"people sex\", \"people think\", \"people think\", \"people think\", \"people use\", \"people want\", \"people want\", \"people want\", \"person body\", \"person body\", \"person think\", \"plan parenthood\", \"planned parenthood\", \"pregnancy center\", \"pregnancy term\", \"pregnant woman\", \"pregnant woman\", \"pretty sure\", \"punish woman\", \"quality life\", \"quality life\", \"raise child\", \"raise child\", \"raise child\", \"raise child\", \"rape exception\", \"rape incest\", \"rape victim\", \"rape victim\", \"rape victim\", \"rape victim\", \"read article\", \"really think\", \"really think\", \"really think\", \"really think\", \"really think\", \"religious belief\", \"right bodily\", \"right bodily autonomy\", \"right choose\", \"right human\", \"right life\", \"right life\", \"right life\", \"right use\", \"right wing\", \"roe wade\", \"roe wade\", \"safe legal\", \"save life\", \"save life\", \"save life\", \"save life\", \"save mother\", \"say fetus\", \"say fetus\", \"say human\", \"say like\", \"say people\", \"say people\", \"say people\", \"say people\", \"say say\", \"say say\", \"say say\", \"say woman\", \"say woman\", \"say woman\", \"say woman\", \"second trimester\", \"sex consent\", \"sex consent pregnancy\", \"sex education\", \"social medium\", \"sound like\", \"sound like\", \"sperm egg\", \"stage development\", \"start conception\", \"state law\", \"straw man\", \"straw man\", \"straw man\", \"support woman\", \"support woman\", \"supreme court\", \"survive outside\", \"survive outside womb\", \"thank share\", \"thing like\", \"thing like\", \"thing like\", \"thing like\", \"thing like\", \"thing say\", \"thing say\", \"thing say\", \"think fetus\", \"think like\", \"think mean\", \"think people\", \"think people\", \"think people\", \"think say\", \"try make\", \"try make\", \"unborn baby\", \"unborn baby\", \"unborn child\", \"unborn child\", \"unborn child\", \"unborn human\", \"unborn human\", \"united state\", \"united state\", \"unplanned pregnancy\", \"unprotected sex\", \"unwanted child\", \"unwanted child\", \"unwanted pregnancy\", \"unwanted pregnancy\", \"use birth\", \"use birth control\", \"use body\", \"use body\", \"value human\", \"value human\", \"value life\", \"value life\", \"want baby\", \"want baby\", \"want baby\", \"want baby\", \"want baby\", \"want ban\", \"want child\", \"want child\", \"want child\", \"week old\", \"week old\", \"woman abort\", \"woman carry\", \"woman child\", \"woman child\", \"woman choice\", \"woman consent\", \"woman just\", \"woman make\", \"woman make\", \"woman make\", \"woman make\", \"woman man\", \"woman pregnant\", \"woman pregnant\", \"woman pregnant\", \"woman pregnant\", \"woman right\", \"woman right\", \"woman want\", \"woman want\", \"woman want\", \"women body\", \"women health\", \"wrong kill\", \"year ago\", \"year ago\", \"year old\", \"year old\", \"year old\"]}, \"R\": 30, \"lambda.step\": 0.01, \"plot.opts\": {\"xlab\": \"PC1\", \"ylab\": \"PC2\"}, \"topic.order\": [3, 4, 1, 2, 5]};\n",
       "\n",
       "function LDAvis_load_lib(url, callback){\n",
       "  var s = document.createElement('script');\n",
       "  s.src = url;\n",
       "  s.async = true;\n",
       "  s.onreadystatechange = s.onload = callback;\n",
       "  s.onerror = function(){console.warn(\"failed to load library \" + url);};\n",
       "  document.getElementsByTagName(\"head\")[0].appendChild(s);\n",
       "}\n",
       "\n",
       "if(typeof(LDAvis) !== \"undefined\"){\n",
       "   // already loaded: just create the visualization\n",
       "   !function(LDAvis){\n",
       "       new LDAvis(\"#\" + \"ldavis_el19801124123070321978836451\", ldavis_el19801124123070321978836451_data);\n",
       "   }(LDAvis);\n",
       "}else if(typeof define === \"function\" && define.amd){\n",
       "   // require.js is available: use it to load d3/LDAvis\n",
       "   require.config({paths: {d3: \"https://cdnjs.cloudflare.com/ajax/libs/d3/3.5.5/d3.min\"}});\n",
       "   require([\"d3\"], function(d3){\n",
       "      window.d3 = d3;\n",
       "      LDAvis_load_lib(\"https://cdn.rawgit.com/bmabey/pyLDAvis/files/ldavis.v1.0.0.js\", function(){\n",
       "        new LDAvis(\"#\" + \"ldavis_el19801124123070321978836451\", ldavis_el19801124123070321978836451_data);\n",
       "      });\n",
       "    });\n",
       "}else{\n",
       "    // require.js not available: dynamically load d3 & LDAvis\n",
       "    LDAvis_load_lib(\"https://cdnjs.cloudflare.com/ajax/libs/d3/3.5.5/d3.min.js\", function(){\n",
       "         LDAvis_load_lib(\"https://cdn.rawgit.com/bmabey/pyLDAvis/files/ldavis.v1.0.0.js\", function(){\n",
       "                 new LDAvis(\"#\" + \"ldavis_el19801124123070321978836451\", ldavis_el19801124123070321978836451_data);\n",
       "            })\n",
       "         });\n",
       "}\n",
       "</script>"
      ],
      "text/plain": [
       "PreparedData(topic_coordinates=              x         y  topics  cluster       Freq\n",
       "topic                                                \n",
       "2      0.214301 -0.130168       1        1  21.275867\n",
       "3     -0.272648 -0.189194       2        1  21.147993\n",
       "0      0.060287  0.199521       3        1  19.843632\n",
       "1      0.136844 -0.069242       4        1  19.698257\n",
       "4     -0.138784  0.189082       5        1  18.034251, topic_info=     Category        Freq                   Term       Total  loglift  logprob\n",
       "99    Default  913.000000          birth control  913.000000  30.0000  30.0000\n",
       "395   Default  839.000000             human life  839.000000  29.0000  29.0000\n",
       "106   Default  594.000000        bodily autonomy  594.000000  28.0000  28.0000\n",
       "468   Default  529.000000              kill baby  529.000000  27.0000  27.0000\n",
       "646   Default  468.000000             make sense  468.000000  26.0000  26.0000\n",
       "403   Default  483.000000            human right  483.000000  25.0000  25.0000\n",
       "1289  Default  447.000000               year old  447.000000  24.0000  24.0000\n",
       "1045  Default  357.000000             sound like  357.000000  23.0000  23.0000\n",
       "868   Default  406.000000         pregnant woman  406.000000  22.0000  22.0000\n",
       "333   Default  334.000000            foster care  334.000000  21.0000  21.0000\n",
       "295   Default  390.000000              feel like  390.000000  20.0000  20.0000\n",
       "1151  Default  403.000000           unborn child  403.000000  19.0000  19.0000\n",
       "830   Default  278.000000     planned parenthood  278.000000  18.0000  18.0000\n",
       "781   Default  286.000000            people like  286.000000  17.0000  17.0000\n",
       "829   Default  266.000000        plan parenthood  266.000000  16.0000  16.0000\n",
       "972   Default  250.000000               roe wade  250.000000  15.0000  15.0000\n",
       "151   Default  307.000000            change mind  307.000000  14.0000  14.0000\n",
       "1118  Default  248.000000           think people  248.000000  13.0000  13.0000\n",
       "297   Default  236.000000              feel pain  236.000000  12.0000  12.0000\n",
       "598   Default  231.000000             live human  231.000000  11.0000  11.0000\n",
       "1258  Default  270.000000            woman right  270.000000  10.0000  10.0000\n",
       "605   Default  260.000000              look like  260.000000   9.0000   9.0000\n",
       "400   Default  223.000000         human organism  223.000000   8.0000   8.0000\n",
       "1150  Default  234.000000            unborn baby  234.000000   7.0000   7.0000\n",
       "710   Default  213.000000            mother life  213.000000   6.0000   6.0000\n",
       "530   Default  321.000000             life begin  321.000000   5.0000   5.0000\n",
       "512   Default  212.000000              late term  212.000000   4.0000   4.0000\n",
       "1064  Default  199.000000          supreme court  199.000000   3.0000   3.0000\n",
       "584   Default  306.000000               like say  306.000000   2.0000   2.0000\n",
       "472   Default  255.000000             kill human  255.000000   1.0000   1.0000\n",
       "...       ...         ...                    ...         ...      ...      ...\n",
       "262    Topic5   50.567299           donate blood   51.357491   1.6974  -5.7634\n",
       "966    Topic5   48.553010             right wing   49.342650   1.6968  -5.8040\n",
       "1026   Topic5   47.548865  sex consent pregnancy   48.335320   1.6965  -5.8249\n",
       "41     Topic5   47.547315      autonomy argument   48.335273   1.6965  -5.8249\n",
       "1237   Topic5   47.544341          woman consent   48.335209   1.6964  -5.8250\n",
       "108    Topic5   51.497840       bodily integrity   52.362143   1.6963  -5.7451\n",
       "105    Topic5   43.512011      blood transfusion   44.305484   1.6948  -5.9136\n",
       "483    Topic5   42.509459       kill unborn baby   43.298158   1.6945  -5.9369\n",
       "482    Topic5  132.401173            kill unborn  134.936602   1.6939  -4.8008\n",
       "736    Topic5   93.565716                ok kill   95.641698   1.6910  -5.1480\n",
       "781    Topic5  273.474220            people like  286.728601   1.6656  -4.0755\n",
       "264    Topic5   51.358061           donate organ   52.358614   1.6936  -5.7478\n",
       "1150   Topic5  214.407172            unborn baby  234.088738   1.6251  -4.3188\n",
       "743    Topic5   61.720673         organ donation   63.441313   1.6854  -5.5640\n",
       "471    Topic5  111.856889             kill fetus  120.608160   1.6376  -4.9694\n",
       "987    Topic5   99.401464              say fetus  106.556741   1.6434  -5.0875\n",
       "316    Topic5  145.692127           fetus person  164.621047   1.5907  -4.7052\n",
       "619    Topic5  183.989582            make choice  216.328370   1.5510  -4.4718\n",
       "606    Topic5  175.406941             lot people  214.427480   1.5120  -4.5195\n",
       "317    Topic5  102.077005            fetus right  119.768133   1.5531  -5.0609\n",
       "525    Topic5   87.550525               let know  100.326647   1.5767  -5.2144\n",
       "357    Topic5   80.415562               good way   90.376708   1.5961  -5.2995\n",
       "801    Topic5  195.395430           people think  301.122869   1.2804  -4.4116\n",
       "205    Topic5  166.171004             clump cell  326.197173   1.0384  -4.5736\n",
       "1175   Topic5   87.742527             value life  123.743833   1.3691  -5.2123\n",
       "33     Topic5   89.292013          argument make  138.496511   1.2740  -5.1947\n",
       "949    Topic5  134.374198             right life  482.184368   0.4352  -4.7860\n",
       "808    Topic5  111.317997            people want  271.679024   0.8207  -4.9743\n",
       "915    Topic5   90.400344           really think  152.219133   1.1918  -5.1824\n",
       "1251   Topic5   82.382785             woman make  124.812998   1.2975  -5.2753\n",
       "\n",
       "[300 rows x 6 columns], token_table=      Topic      Freq               Term\n",
       "term                                    \n",
       "7         1  0.011879           act like\n",
       "7         3  0.005939           act like\n",
       "7         4  0.980006           act like\n",
       "8         5  0.992992   actually believe\n",
       "12        4  0.990610     actually think\n",
       "14        3  0.984283         ad hominem\n",
       "15        1  0.992482        adopt child\n",
       "26        1  0.809171    answer question\n",
       "26        2  0.155404    answer question\n",
       "26        3  0.032153    answer question\n",
       "33        2  0.202171      argument make\n",
       "33        4  0.151628      argument make\n",
       "33        5  0.642615      argument make\n",
       "40        3  0.108836       ask question\n",
       "40        4  0.890473       ask question\n",
       "41        5  0.993064  autonomy argument\n",
       "45        1  0.992418      baby adoption\n",
       "48        1  0.349490          baby bear\n",
       "48        2  0.424697          baby bear\n",
       "48        4  0.225620          baby bear\n",
       "55        1  0.942137          baby just\n",
       "55        2  0.058884          baby just\n",
       "56        1  0.069524          baby kill\n",
       "56        2  0.921194          baby kill\n",
       "62        1  0.985815        baby murder\n",
       "71        1  0.971295          baby womb\n",
       "71        3  0.014717          baby womb\n",
       "78        1  0.059543         bear alive\n",
       "78        4  0.932834         bear alive\n",
       "83        3  0.998218   begin conception\n",
       "...     ...       ...                ...\n",
       "1221      2  0.009203           week old\n",
       "1227      1  0.979098        woman abort\n",
       "1233      3  0.985541        woman carry\n",
       "1234      1  0.970731        woman child\n",
       "1234      3  0.019811        woman child\n",
       "1235      3  0.988396       woman choice\n",
       "1237      5  0.993065      woman consent\n",
       "1245      1  0.985929         woman just\n",
       "1251      1  0.008012         woman make\n",
       "1251      3  0.048072         woman make\n",
       "1251      4  0.280420         woman make\n",
       "1251      5  0.656983         woman make\n",
       "1252      1  0.994776          woman man\n",
       "1256      1  0.279234     woman pregnant\n",
       "1256      2  0.005171     woman pregnant\n",
       "1256      3  0.672230     woman pregnant\n",
       "1256      4  0.041368     woman pregnant\n",
       "1258      3  0.901593        woman right\n",
       "1258      5  0.096071        woman right\n",
       "1268      1  0.310725         woman want\n",
       "1268      3  0.173017         woman want\n",
       "1268      4  0.511990         woman want\n",
       "1270      5  0.992894         women body\n",
       "1271      3  0.985525       women health\n",
       "1280      2  0.994320         wrong kill\n",
       "1287      1  0.245939           year ago\n",
       "1287      2  0.753858           year ago\n",
       "1289      1  0.974828           year old\n",
       "1289      2  0.011179           year old\n",
       "1289      4  0.013415           year old\n",
       "\n",
       "[497 rows x 3 columns], R=30, lambda_step=0.01, plot_opts={'xlab': 'PC1', 'ylab': 'PC2'}, topic_order=[3, 4, 1, 2, 5])"
      ]
     },
     "execution_count": 11,
     "metadata": {},
     "output_type": "execute_result"
    }
   ],
   "source": [
    "pyLDAvis.sklearn.prepare(lda_cv, X_cv, cv)"
   ]
  },
  {
   "cell_type": "markdown",
   "metadata": {},
   "source": [
    "## Latent Semantic Analysis (LSA)\n",
    "\n",
    "> Note: LSA is SVD applied to NLP"
   ]
  },
  {
   "cell_type": "markdown",
   "metadata": {},
   "source": [
    "### LSA on TF-IDF"
   ]
  },
  {
   "cell_type": "code",
   "execution_count": 12,
   "metadata": {},
   "outputs": [
    {
     "data": {
      "text/plain": [
       "array([0.00690202, 0.00518624, 0.00558868])"
      ]
     },
     "execution_count": 12,
     "metadata": {},
     "output_type": "execute_result"
    }
   ],
   "source": [
    "lsa = TruncatedSVD(3) # start low and then increase so you can see the differentiation between them; get a sense of how they cluster the more you add onto it (instead of working big and then working down)\n",
    "topics_tfidf = lsa.fit_transform(tfidf_vecs)\n",
    "lsa.explained_variance_ratio_"
   ]
  },
  {
   "cell_type": "markdown",
   "metadata": {},
   "source": [
    "The U matrix shows us the resulting topics, and the terms that are associated with each topic. In this case:"
   ]
  },
  {
   "cell_type": "raw",
   "metadata": {
    "scrolled": true
   },
   "source": [
    "# here we are creating topic to feature; relationship\n",
    "\n",
    "topic_word_tfidf = pd.DataFrame(lsa.components_.round(3),\n",
    "             index = [\"component_1\",\"component_2\", \"component_3\",\"component_4\", \"component_5\"],\n",
    "             columns = word_vectorizer.get_feature_names())\n",
    "topic_word_tfidf"
   ]
  },
  {
   "cell_type": "code",
   "execution_count": 13,
   "metadata": {},
   "outputs": [],
   "source": [
    "def display_topics(model, feature_names, no_top_words, topic_names=None):\n",
    "    for ix, topic in enumerate(model.components_):\n",
    "        if not topic_names or not topic_names[ix]:\n",
    "            print(\"\\nTopic \", ix)\n",
    "        else:\n",
    "            print(\"\\nTopic: '\",topic_names[ix],\"'\")\n",
    "        print(\", \".join([feature_names[i]\n",
    "                        for i in topic.argsort()[:-no_top_words - 1:-1]]))"
   ]
  },
  {
   "cell_type": "code",
   "execution_count": 14,
   "metadata": {
    "scrolled": true
   },
   "outputs": [
    {
     "name": "stdout",
     "output_type": "stream",
     "text": [
      "\n",
      "Topic  0\n",
      "birth control, human life, kill baby, plan parenthood, sex education, unwanted pregnancy, use birth\n",
      "\n",
      "Topic  1\n",
      "make sense, kill baby, human life, sound like, plan parenthood, bodily autonomy, year old\n",
      "\n",
      "Topic  2\n",
      "make sense, birth control, plan parenthood, change mind, really make, argument make, people like\n"
     ]
    }
   ],
   "source": [
    "display_topics(lsa, word_vectorizer.get_feature_names(), 7)"
   ]
  },
  {
   "cell_type": "markdown",
   "metadata": {},
   "source": [
    "The Vt matrix shows us the documents we started with, and how each document is made up of the resulting topics. "
   ]
  },
  {
   "cell_type": "code",
   "execution_count": 15,
   "metadata": {
    "scrolled": false
   },
   "outputs": [
    {
     "data": {
      "text/html": [
       "<div>\n",
       "<style scoped>\n",
       "    .dataframe tbody tr th:only-of-type {\n",
       "        vertical-align: middle;\n",
       "    }\n",
       "\n",
       "    .dataframe tbody tr th {\n",
       "        vertical-align: top;\n",
       "    }\n",
       "\n",
       "    .dataframe thead th {\n",
       "        text-align: right;\n",
       "    }\n",
       "</style>\n",
       "<table border=\"1\" class=\"dataframe\">\n",
       "  <thead>\n",
       "    <tr style=\"text-align: right;\">\n",
       "      <th></th>\n",
       "      <th>component_1</th>\n",
       "      <th>component_2</th>\n",
       "      <th>component_3</th>\n",
       "    </tr>\n",
       "  </thead>\n",
       "  <tbody>\n",
       "    <tr>\n",
       "      <th>child deserve love want right force woman gestate birth child want care forthe good way reduce demand make birth control free available antiabortion law make illegal common lead dead pregnant woman believe fantasy think</th>\n",
       "      <td>0.23289</td>\n",
       "      <td>-0.00785</td>\n",
       "      <td>0.00368</td>\n",
       "    </tr>\n",
       "    <tr>\n",
       "      <th>yes</th>\n",
       "      <td>0.00000</td>\n",
       "      <td>-0.00000</td>\n",
       "      <td>0.00000</td>\n",
       "    </tr>\n",
       "    <tr>\n",
       "      <th>definitely agree statement</th>\n",
       "      <td>-0.00000</td>\n",
       "      <td>-0.00000</td>\n",
       "      <td>-0.00000</td>\n",
       "    </tr>\n",
       "    <tr>\n",
       "      <th>exfoster kid exact childhood feel deeply</th>\n",
       "      <td>-0.00000</td>\n",
       "      <td>-0.00000</td>\n",
       "      <td>-0.00000</td>\n",
       "    </tr>\n",
       "    <tr>\n",
       "      <th>cheap compare state pay raise kid probably cost like   year</th>\n",
       "      <td>0.00233</td>\n",
       "      <td>0.00557</td>\n",
       "      <td>-0.00382</td>\n",
       "    </tr>\n",
       "  </tbody>\n",
       "</table>\n",
       "</div>"
      ],
      "text/plain": [
       "                                                    component_1  component_2  \\\n",
       "child deserve love want right force woman gesta...      0.23289     -0.00785   \n",
       "yes                                                     0.00000     -0.00000   \n",
       "definitely agree statement                             -0.00000     -0.00000   \n",
       "exfoster kid exact childhood feel deeply               -0.00000     -0.00000   \n",
       "  cheap compare state pay raise kid probably co...      0.00233      0.00557   \n",
       "\n",
       "                                                    component_3  \n",
       "child deserve love want right force woman gesta...      0.00368  \n",
       "yes                                                     0.00000  \n",
       "definitely agree statement                             -0.00000  \n",
       "exfoster kid exact childhood feel deeply               -0.00000  \n",
       "  cheap compare state pay raise kid probably co...     -0.00382  "
      ]
     },
     "execution_count": 15,
     "metadata": {},
     "output_type": "execute_result"
    }
   ],
   "source": [
    "Vt_tfidf = pd.DataFrame(topics_tfidf.round(5),\n",
    "             index = corpus,\n",
    "             columns = [\"component_1\",\"component_2\", \"component_3\"])\n",
    "Vt_tfidf.head()"
   ]
  },
  {
   "cell_type": "markdown",
   "metadata": {},
   "source": [
    "### LSA on Count Vectorizer"
   ]
  },
  {
   "cell_type": "code",
   "execution_count": 16,
   "metadata": {},
   "outputs": [
    {
     "data": {
      "text/plain": [
       "array([0.01979467, 0.01748654, 0.0120087 ])"
      ]
     },
     "execution_count": 16,
     "metadata": {},
     "output_type": "execute_result"
    }
   ],
   "source": [
    "lsa = TruncatedSVD(3)\n",
    "lsa_cv = lsa.fit_transform(count_vecs)\n",
    "lsa.explained_variance_ratio_\n",
    "\n",
    "# first topic captures 9.5%, second topic captures 4%"
   ]
  },
  {
   "cell_type": "markdown",
   "metadata": {},
   "source": [
    "The U matrix shows us the 2 resulting topics, and the terms that are associated with each topic. In this case:\n",
    "- Component 1 (topic 1) seems to be about ?\n",
    "- Component 2 (topic 2) seems to be about ?"
   ]
  },
  {
   "cell_type": "raw",
   "metadata": {},
   "source": [
    "topic_word = pd.DataFrame(lsa.components_.round(3),\n",
    "             index = [\"component_1\",\"component_2\", \"component_3\",\"component_4\", \"component_5\"],\n",
    "             columns = cv.get_feature_names())\n",
    "topic_word"
   ]
  },
  {
   "cell_type": "code",
   "execution_count": 17,
   "metadata": {},
   "outputs": [
    {
     "name": "stdout",
     "output_type": "stream",
     "text": [
      "\n",
      "Topic  0\n",
      "birth control, human life, bodily autonomy, life begin, live human, right life, use birth\n",
      "\n",
      "Topic  1\n",
      "human life, life begin, live human, begin conception, human organism, life begin conception, right life\n",
      "\n",
      "Topic  2\n",
      "bodily autonomy, right life, human right, right bodily, right bodily autonomy, pregnant woman, unborn child\n"
     ]
    }
   ],
   "source": [
    "display_topics(lsa, cv.get_feature_names(), 7)"
   ]
  },
  {
   "cell_type": "markdown",
   "metadata": {},
   "source": [
    "The Vt matrix shows us the documents we started with, and how each document is made up of the 2 resulting topics. In this case:\n",
    "- The first four documents seem to be about ?\n",
    "- The last three documents seem to be about ?"
   ]
  },
  {
   "cell_type": "code",
   "execution_count": 18,
   "metadata": {},
   "outputs": [
    {
     "data": {
      "text/html": [
       "<div>\n",
       "<style scoped>\n",
       "    .dataframe tbody tr th:only-of-type {\n",
       "        vertical-align: middle;\n",
       "    }\n",
       "\n",
       "    .dataframe tbody tr th {\n",
       "        vertical-align: top;\n",
       "    }\n",
       "\n",
       "    .dataframe thead th {\n",
       "        text-align: right;\n",
       "    }\n",
       "</style>\n",
       "<table border=\"1\" class=\"dataframe\">\n",
       "  <thead>\n",
       "    <tr style=\"text-align: right;\">\n",
       "      <th></th>\n",
       "      <th>component_1</th>\n",
       "      <th>component_2</th>\n",
       "      <th>component_3</th>\n",
       "    </tr>\n",
       "  </thead>\n",
       "  <tbody>\n",
       "    <tr>\n",
       "      <th>child deserve love want right force woman gestate birth child want care forthe good way reduce demand make birth control free available antiabortion law make illegal common lead dead pregnant woman believe fantasy think</th>\n",
       "      <td>0.94881</td>\n",
       "      <td>-0.49038</td>\n",
       "      <td>0.10232</td>\n",
       "    </tr>\n",
       "    <tr>\n",
       "      <th>yes</th>\n",
       "      <td>0.00000</td>\n",
       "      <td>-0.00000</td>\n",
       "      <td>-0.00000</td>\n",
       "    </tr>\n",
       "    <tr>\n",
       "      <th>definitely agree statement</th>\n",
       "      <td>0.00000</td>\n",
       "      <td>0.00000</td>\n",
       "      <td>0.00000</td>\n",
       "    </tr>\n",
       "    <tr>\n",
       "      <th>exfoster kid exact childhood feel deeply</th>\n",
       "      <td>0.00000</td>\n",
       "      <td>-0.00000</td>\n",
       "      <td>0.00000</td>\n",
       "    </tr>\n",
       "    <tr>\n",
       "      <th>cheap compare state pay raise kid probably cost like   year</th>\n",
       "      <td>0.00535</td>\n",
       "      <td>0.00372</td>\n",
       "      <td>0.00106</td>\n",
       "    </tr>\n",
       "  </tbody>\n",
       "</table>\n",
       "</div>"
      ],
      "text/plain": [
       "                                                    component_1  component_2  \\\n",
       "child deserve love want right force woman gesta...      0.94881     -0.49038   \n",
       "yes                                                     0.00000     -0.00000   \n",
       "definitely agree statement                              0.00000      0.00000   \n",
       "exfoster kid exact childhood feel deeply                0.00000     -0.00000   \n",
       "  cheap compare state pay raise kid probably co...      0.00535      0.00372   \n",
       "\n",
       "                                                    component_3  \n",
       "child deserve love want right force woman gesta...      0.10232  \n",
       "yes                                                    -0.00000  \n",
       "definitely agree statement                              0.00000  \n",
       "exfoster kid exact childhood feel deeply                0.00000  \n",
       "  cheap compare state pay raise kid probably co...      0.00106  "
      ]
     },
     "execution_count": 18,
     "metadata": {},
     "output_type": "execute_result"
    }
   ],
   "source": [
    "Vt_cv = pd.DataFrame(lsa_cv.round(5),\n",
    "             index = corpus,\n",
    "             columns = [\"component_1\",\"component_2\", \"component_3\"])\n",
    "Vt_cv.head()"
   ]
  },
  {
   "cell_type": "markdown",
   "metadata": {},
   "source": [
    "# PCA"
   ]
  },
  {
   "cell_type": "markdown",
   "metadata": {},
   "source": [
    "### PCA on Count Vectorizer"
   ]
  },
  {
   "cell_type": "code",
   "execution_count": 187,
   "metadata": {},
   "outputs": [],
   "source": [
    "pca_cv = PCA(n_components=10) # try higher components\n",
    "pca_cv.fit(count_vecs)\n",
    "pcafeatures_train_cv = pca_cv.transform(count_vecs)"
   ]
  },
  {
   "cell_type": "code",
   "execution_count": 188,
   "metadata": {},
   "outputs": [
    {
     "data": {
      "text/plain": [
       "array([0.01999784, 0.0174443 , 0.01202051, 0.00871335, 0.00822712,\n",
       "       0.00748256, 0.00681067, 0.0066271 , 0.00643922, 0.00617724])"
      ]
     },
     "execution_count": 188,
     "metadata": {},
     "output_type": "execute_result"
    }
   ],
   "source": [
    "pca_cv.explained_variance_ratio_"
   ]
  },
  {
   "cell_type": "code",
   "execution_count": 97,
   "metadata": {},
   "outputs": [
    {
     "ename": "AttributeError",
     "evalue": "'PCA' object has no attribute 'components'",
     "output_type": "error",
     "traceback": [
      "\u001b[0;31m---------------------------------------------------------------------------\u001b[0m",
      "\u001b[0;31mAttributeError\u001b[0m                            Traceback (most recent call last)",
      "\u001b[0;32m<ipython-input-97-c46930ea3912>\u001b[0m in \u001b[0;36m<module>\u001b[0;34m\u001b[0m\n\u001b[1;32m      1\u001b[0m \u001b[0;31m# to get vectors\u001b[0m\u001b[0;34m\u001b[0m\u001b[0;34m\u001b[0m\u001b[0;34m\u001b[0m\u001b[0m\n\u001b[1;32m      2\u001b[0m \u001b[0;34m\u001b[0m\u001b[0m\n\u001b[0;32m----> 3\u001b[0;31m \u001b[0mpca_cv\u001b[0m\u001b[0;34m.\u001b[0m\u001b[0mcomponents\u001b[0m\u001b[0;34m[\u001b[0m\u001b[0;34m:\u001b[0m\u001b[0;36m3\u001b[0m\u001b[0;34m]\u001b[0m\u001b[0;34m\u001b[0m\u001b[0;34m\u001b[0m\u001b[0m\n\u001b[0m",
      "\u001b[0;31mAttributeError\u001b[0m: 'PCA' object has no attribute 'components'"
     ]
    }
   ],
   "source": [
    "# to get vectors\n",
    "\n",
    "pca_cv.components[:3]"
   ]
  },
  {
   "cell_type": "code",
   "execution_count": 185,
   "metadata": {
    "scrolled": false
   },
   "outputs": [
    {
     "name": "stdout",
     "output_type": "stream",
     "text": [
      "\n",
      "Topic  0\n",
      "birth control, human life, use birth, use birth control, bodily autonomy, life begin, unwanted pregnancy, live human, sex education, right life\n",
      "\n",
      "Topic  1\n",
      "human life, life begin, live human, begin conception, life begin conception, human organism, right life, bodily autonomy, potential human, human life begin\n",
      "\n",
      "Topic  2\n",
      "bodily autonomy, right life, human right, right bodily, right bodily autonomy, pregnant woman, unborn child, woman right, person right, autonomy argument\n"
     ]
    }
   ],
   "source": [
    "display_topics(pca_cv, cv.get_feature_names(), 10)"
   ]
  },
  {
   "cell_type": "code",
   "execution_count": 189,
   "metadata": {},
   "outputs": [],
   "source": [
    "from itertools import cycle\n",
    "\n",
    "def plot_PCA_2D(data, target, target_names):\n",
    "    colors = cycle(['r','g','b','c','m','y','orange','w','aqua','yellow'])\n",
    "    target_ids = range(len(target_names))\n",
    "    plt.figure(figsize=(5,5))\n",
    "    for i, c, label in zip(target_ids, colors, target_names):\n",
    "        ax = plt.scatter(data[target == i, 0], data[target == i, 1],\n",
    "                   c=c, label=label, edgecolors='gray')\n",
    "    \n",
    "    plt.legend()\n",
    "\n",
    "\n",
    "\n",
    "# other colours: ,'m','y','orange','w','aqua','yellow'"
   ]
  },
  {
   "cell_type": "code",
   "execution_count": 191,
   "metadata": {},
   "outputs": [
    {
     "data": {
      "image/png": "[encoded data removed]",
      "text/plain": [
       "<Figure size 432x288 with 1 Axes>"
      ]
     },
     "metadata": {
      "image/png": {
       "height": 296,
       "width": 423
      },
      "needs_background": "light"
     },
     "output_type": "display_data"
    }
   ],
   "source": [
    "# plot graph to see elbow of how many components to include\n",
    "\n",
    "plt.plot(pca_cv.explained_variance_ratio_)\n",
    "plt.xlabel('Number of components')\n",
    "plt.ylabel('Explained variance');\n",
    "plt.title('PCA scree plot for reddit comments');\n",
    "savefig('foo.png', bbox_inches='tight')"
   ]
  },
  {
   "cell_type": "code",
   "execution_count": 25,
   "metadata": {},
   "outputs": [
    {
     "data": {
      "text/html": [
       "<div>\n",
       "<style scoped>\n",
       "    .dataframe tbody tr th:only-of-type {\n",
       "        vertical-align: middle;\n",
       "    }\n",
       "\n",
       "    .dataframe tbody tr th {\n",
       "        vertical-align: top;\n",
       "    }\n",
       "\n",
       "    .dataframe thead th {\n",
       "        text-align: right;\n",
       "    }\n",
       "</style>\n",
       "<table border=\"1\" class=\"dataframe\">\n",
       "  <thead>\n",
       "    <tr style=\"text-align: right;\">\n",
       "      <th></th>\n",
       "      <th>0</th>\n",
       "      <th>1</th>\n",
       "      <th>2</th>\n",
       "    </tr>\n",
       "  </thead>\n",
       "  <tbody>\n",
       "    <tr>\n",
       "      <th>0</th>\n",
       "      <td>0.946346</td>\n",
       "      <td>-0.372377</td>\n",
       "      <td>0.073981</td>\n",
       "    </tr>\n",
       "    <tr>\n",
       "      <th>1</th>\n",
       "      <td>-0.046404</td>\n",
       "      <td>-0.025639</td>\n",
       "      <td>-0.029448</td>\n",
       "    </tr>\n",
       "    <tr>\n",
       "      <th>2</th>\n",
       "      <td>-0.046404</td>\n",
       "      <td>-0.025639</td>\n",
       "      <td>-0.029448</td>\n",
       "    </tr>\n",
       "    <tr>\n",
       "      <th>3</th>\n",
       "      <td>-0.046404</td>\n",
       "      <td>-0.025639</td>\n",
       "      <td>-0.029448</td>\n",
       "    </tr>\n",
       "    <tr>\n",
       "      <th>4</th>\n",
       "      <td>-0.043312</td>\n",
       "      <td>-0.022180</td>\n",
       "      <td>-0.030318</td>\n",
       "    </tr>\n",
       "    <tr>\n",
       "      <th>5</th>\n",
       "      <td>-0.046404</td>\n",
       "      <td>-0.025639</td>\n",
       "      <td>-0.029448</td>\n",
       "    </tr>\n",
       "    <tr>\n",
       "      <th>6</th>\n",
       "      <td>-0.028727</td>\n",
       "      <td>-0.010062</td>\n",
       "      <td>-0.007293</td>\n",
       "    </tr>\n",
       "    <tr>\n",
       "      <th>7</th>\n",
       "      <td>-0.037422</td>\n",
       "      <td>-0.022330</td>\n",
       "      <td>-0.019132</td>\n",
       "    </tr>\n",
       "    <tr>\n",
       "      <th>8</th>\n",
       "      <td>-0.046404</td>\n",
       "      <td>-0.025639</td>\n",
       "      <td>-0.029448</td>\n",
       "    </tr>\n",
       "    <tr>\n",
       "      <th>9</th>\n",
       "      <td>0.071273</td>\n",
       "      <td>-0.044463</td>\n",
       "      <td>0.022992</td>\n",
       "    </tr>\n",
       "    <tr>\n",
       "      <th>10</th>\n",
       "      <td>-0.046404</td>\n",
       "      <td>-0.025639</td>\n",
       "      <td>-0.029448</td>\n",
       "    </tr>\n",
       "    <tr>\n",
       "      <th>11</th>\n",
       "      <td>-0.046404</td>\n",
       "      <td>-0.025639</td>\n",
       "      <td>-0.029448</td>\n",
       "    </tr>\n",
       "    <tr>\n",
       "      <th>12</th>\n",
       "      <td>-0.046404</td>\n",
       "      <td>-0.025639</td>\n",
       "      <td>-0.029448</td>\n",
       "    </tr>\n",
       "    <tr>\n",
       "      <th>13</th>\n",
       "      <td>-0.046404</td>\n",
       "      <td>-0.025639</td>\n",
       "      <td>-0.029448</td>\n",
       "    </tr>\n",
       "    <tr>\n",
       "      <th>14</th>\n",
       "      <td>-0.046404</td>\n",
       "      <td>-0.025639</td>\n",
       "      <td>-0.029448</td>\n",
       "    </tr>\n",
       "    <tr>\n",
       "      <th>15</th>\n",
       "      <td>-0.027070</td>\n",
       "      <td>-0.012598</td>\n",
       "      <td>0.024936</td>\n",
       "    </tr>\n",
       "    <tr>\n",
       "      <th>16</th>\n",
       "      <td>0.013486</td>\n",
       "      <td>-0.014601</td>\n",
       "      <td>0.044344</td>\n",
       "    </tr>\n",
       "    <tr>\n",
       "      <th>17</th>\n",
       "      <td>0.019608</td>\n",
       "      <td>-0.007128</td>\n",
       "      <td>0.044574</td>\n",
       "    </tr>\n",
       "    <tr>\n",
       "      <th>18</th>\n",
       "      <td>-0.046404</td>\n",
       "      <td>-0.025639</td>\n",
       "      <td>-0.029448</td>\n",
       "    </tr>\n",
       "    <tr>\n",
       "      <th>19</th>\n",
       "      <td>0.307198</td>\n",
       "      <td>0.774141</td>\n",
       "      <td>-0.256834</td>\n",
       "    </tr>\n",
       "    <tr>\n",
       "      <th>20</th>\n",
       "      <td>-0.046404</td>\n",
       "      <td>-0.025639</td>\n",
       "      <td>-0.029448</td>\n",
       "    </tr>\n",
       "    <tr>\n",
       "      <th>21</th>\n",
       "      <td>-0.043356</td>\n",
       "      <td>-0.022776</td>\n",
       "      <td>-0.023496</td>\n",
       "    </tr>\n",
       "    <tr>\n",
       "      <th>22</th>\n",
       "      <td>-0.013220</td>\n",
       "      <td>-0.011430</td>\n",
       "      <td>-0.001485</td>\n",
       "    </tr>\n",
       "    <tr>\n",
       "      <th>23</th>\n",
       "      <td>0.128620</td>\n",
       "      <td>-0.080390</td>\n",
       "      <td>-0.026643</td>\n",
       "    </tr>\n",
       "    <tr>\n",
       "      <th>24</th>\n",
       "      <td>-0.038912</td>\n",
       "      <td>-0.020622</td>\n",
       "      <td>-0.019755</td>\n",
       "    </tr>\n",
       "    <tr>\n",
       "      <th>25</th>\n",
       "      <td>-0.014597</td>\n",
       "      <td>-0.011825</td>\n",
       "      <td>0.000531</td>\n",
       "    </tr>\n",
       "    <tr>\n",
       "      <th>26</th>\n",
       "      <td>-0.038451</td>\n",
       "      <td>-0.024320</td>\n",
       "      <td>-0.025596</td>\n",
       "    </tr>\n",
       "    <tr>\n",
       "      <th>27</th>\n",
       "      <td>1.035387</td>\n",
       "      <td>-0.231387</td>\n",
       "      <td>0.097988</td>\n",
       "    </tr>\n",
       "    <tr>\n",
       "      <th>28</th>\n",
       "      <td>0.046333</td>\n",
       "      <td>0.063124</td>\n",
       "      <td>0.297260</td>\n",
       "    </tr>\n",
       "    <tr>\n",
       "      <th>29</th>\n",
       "      <td>-0.016339</td>\n",
       "      <td>-0.007055</td>\n",
       "      <td>0.017460</td>\n",
       "    </tr>\n",
       "    <tr>\n",
       "      <th>...</th>\n",
       "      <td>...</td>\n",
       "      <td>...</td>\n",
       "      <td>...</td>\n",
       "    </tr>\n",
       "    <tr>\n",
       "      <th>42858</th>\n",
       "      <td>-0.046404</td>\n",
       "      <td>-0.025639</td>\n",
       "      <td>-0.029448</td>\n",
       "    </tr>\n",
       "    <tr>\n",
       "      <th>42859</th>\n",
       "      <td>-0.033435</td>\n",
       "      <td>-0.007891</td>\n",
       "      <td>-0.017606</td>\n",
       "    </tr>\n",
       "    <tr>\n",
       "      <th>42860</th>\n",
       "      <td>-0.046404</td>\n",
       "      <td>-0.025639</td>\n",
       "      <td>-0.029448</td>\n",
       "    </tr>\n",
       "    <tr>\n",
       "      <th>42861</th>\n",
       "      <td>-0.046404</td>\n",
       "      <td>-0.025639</td>\n",
       "      <td>-0.029448</td>\n",
       "    </tr>\n",
       "    <tr>\n",
       "      <th>42862</th>\n",
       "      <td>-0.046404</td>\n",
       "      <td>-0.025639</td>\n",
       "      <td>-0.029448</td>\n",
       "    </tr>\n",
       "    <tr>\n",
       "      <th>42863</th>\n",
       "      <td>-0.046404</td>\n",
       "      <td>-0.025639</td>\n",
       "      <td>-0.029448</td>\n",
       "    </tr>\n",
       "    <tr>\n",
       "      <th>42864</th>\n",
       "      <td>-0.045179</td>\n",
       "      <td>-0.022597</td>\n",
       "      <td>-0.026183</td>\n",
       "    </tr>\n",
       "    <tr>\n",
       "      <th>42865</th>\n",
       "      <td>-0.040451</td>\n",
       "      <td>-0.017161</td>\n",
       "      <td>-0.019648</td>\n",
       "    </tr>\n",
       "    <tr>\n",
       "      <th>42866</th>\n",
       "      <td>0.046617</td>\n",
       "      <td>0.058311</td>\n",
       "      <td>0.103991</td>\n",
       "    </tr>\n",
       "    <tr>\n",
       "      <th>42867</th>\n",
       "      <td>-0.021623</td>\n",
       "      <td>-0.004502</td>\n",
       "      <td>0.001223</td>\n",
       "    </tr>\n",
       "    <tr>\n",
       "      <th>42868</th>\n",
       "      <td>-0.042367</td>\n",
       "      <td>-0.021823</td>\n",
       "      <td>-0.016471</td>\n",
       "    </tr>\n",
       "    <tr>\n",
       "      <th>42869</th>\n",
       "      <td>-0.036599</td>\n",
       "      <td>0.002285</td>\n",
       "      <td>-0.041057</td>\n",
       "    </tr>\n",
       "    <tr>\n",
       "      <th>42870</th>\n",
       "      <td>-0.002775</td>\n",
       "      <td>-0.008425</td>\n",
       "      <td>0.001455</td>\n",
       "    </tr>\n",
       "    <tr>\n",
       "      <th>42871</th>\n",
       "      <td>-0.019811</td>\n",
       "      <td>0.036024</td>\n",
       "      <td>-0.041035</td>\n",
       "    </tr>\n",
       "    <tr>\n",
       "      <th>42872</th>\n",
       "      <td>-0.011917</td>\n",
       "      <td>0.012707</td>\n",
       "      <td>0.033290</td>\n",
       "    </tr>\n",
       "    <tr>\n",
       "      <th>42873</th>\n",
       "      <td>-0.046404</td>\n",
       "      <td>-0.025639</td>\n",
       "      <td>-0.029448</td>\n",
       "    </tr>\n",
       "    <tr>\n",
       "      <th>42874</th>\n",
       "      <td>-0.046404</td>\n",
       "      <td>-0.025639</td>\n",
       "      <td>-0.029448</td>\n",
       "    </tr>\n",
       "    <tr>\n",
       "      <th>42875</th>\n",
       "      <td>-0.046404</td>\n",
       "      <td>-0.025639</td>\n",
       "      <td>-0.029448</td>\n",
       "    </tr>\n",
       "    <tr>\n",
       "      <th>42876</th>\n",
       "      <td>-0.038347</td>\n",
       "      <td>-0.019162</td>\n",
       "      <td>-0.020549</td>\n",
       "    </tr>\n",
       "    <tr>\n",
       "      <th>42877</th>\n",
       "      <td>-0.046404</td>\n",
       "      <td>-0.025639</td>\n",
       "      <td>-0.029448</td>\n",
       "    </tr>\n",
       "    <tr>\n",
       "      <th>42878</th>\n",
       "      <td>-0.046404</td>\n",
       "      <td>-0.025639</td>\n",
       "      <td>-0.029448</td>\n",
       "    </tr>\n",
       "    <tr>\n",
       "      <th>42879</th>\n",
       "      <td>-0.046404</td>\n",
       "      <td>-0.025639</td>\n",
       "      <td>-0.029448</td>\n",
       "    </tr>\n",
       "    <tr>\n",
       "      <th>42880</th>\n",
       "      <td>0.039605</td>\n",
       "      <td>0.004979</td>\n",
       "      <td>0.101671</td>\n",
       "    </tr>\n",
       "    <tr>\n",
       "      <th>42881</th>\n",
       "      <td>-0.046404</td>\n",
       "      <td>-0.025639</td>\n",
       "      <td>-0.029448</td>\n",
       "    </tr>\n",
       "    <tr>\n",
       "      <th>42882</th>\n",
       "      <td>-0.046404</td>\n",
       "      <td>-0.025639</td>\n",
       "      <td>-0.029448</td>\n",
       "    </tr>\n",
       "    <tr>\n",
       "      <th>42883</th>\n",
       "      <td>-0.046404</td>\n",
       "      <td>-0.025639</td>\n",
       "      <td>-0.029448</td>\n",
       "    </tr>\n",
       "    <tr>\n",
       "      <th>42884</th>\n",
       "      <td>-0.046404</td>\n",
       "      <td>-0.025639</td>\n",
       "      <td>-0.029448</td>\n",
       "    </tr>\n",
       "    <tr>\n",
       "      <th>42885</th>\n",
       "      <td>-0.046404</td>\n",
       "      <td>-0.025639</td>\n",
       "      <td>-0.029448</td>\n",
       "    </tr>\n",
       "    <tr>\n",
       "      <th>42886</th>\n",
       "      <td>-0.046404</td>\n",
       "      <td>-0.025639</td>\n",
       "      <td>-0.029448</td>\n",
       "    </tr>\n",
       "    <tr>\n",
       "      <th>42887</th>\n",
       "      <td>-0.039598</td>\n",
       "      <td>-0.024178</td>\n",
       "      <td>-0.017380</td>\n",
       "    </tr>\n",
       "  </tbody>\n",
       "</table>\n",
       "<p>42888 rows × 3 columns</p>\n",
       "</div>"
      ],
      "text/plain": [
       "              0         1         2\n",
       "0      0.946346 -0.372377  0.073981\n",
       "1     -0.046404 -0.025639 -0.029448\n",
       "2     -0.046404 -0.025639 -0.029448\n",
       "3     -0.046404 -0.025639 -0.029448\n",
       "4     -0.043312 -0.022180 -0.030318\n",
       "5     -0.046404 -0.025639 -0.029448\n",
       "6     -0.028727 -0.010062 -0.007293\n",
       "7     -0.037422 -0.022330 -0.019132\n",
       "8     -0.046404 -0.025639 -0.029448\n",
       "9      0.071273 -0.044463  0.022992\n",
       "10    -0.046404 -0.025639 -0.029448\n",
       "11    -0.046404 -0.025639 -0.029448\n",
       "12    -0.046404 -0.025639 -0.029448\n",
       "13    -0.046404 -0.025639 -0.029448\n",
       "14    -0.046404 -0.025639 -0.029448\n",
       "15    -0.027070 -0.012598  0.024936\n",
       "16     0.013486 -0.014601  0.044344\n",
       "17     0.019608 -0.007128  0.044574\n",
       "18    -0.046404 -0.025639 -0.029448\n",
       "19     0.307198  0.774141 -0.256834\n",
       "20    -0.046404 -0.025639 -0.029448\n",
       "21    -0.043356 -0.022776 -0.023496\n",
       "22    -0.013220 -0.011430 -0.001485\n",
       "23     0.128620 -0.080390 -0.026643\n",
       "24    -0.038912 -0.020622 -0.019755\n",
       "25    -0.014597 -0.011825  0.000531\n",
       "26    -0.038451 -0.024320 -0.025596\n",
       "27     1.035387 -0.231387  0.097988\n",
       "28     0.046333  0.063124  0.297260\n",
       "29    -0.016339 -0.007055  0.017460\n",
       "...         ...       ...       ...\n",
       "42858 -0.046404 -0.025639 -0.029448\n",
       "42859 -0.033435 -0.007891 -0.017606\n",
       "42860 -0.046404 -0.025639 -0.029448\n",
       "42861 -0.046404 -0.025639 -0.029448\n",
       "42862 -0.046404 -0.025639 -0.029448\n",
       "42863 -0.046404 -0.025639 -0.029448\n",
       "42864 -0.045179 -0.022597 -0.026183\n",
       "42865 -0.040451 -0.017161 -0.019648\n",
       "42866  0.046617  0.058311  0.103991\n",
       "42867 -0.021623 -0.004502  0.001223\n",
       "42868 -0.042367 -0.021823 -0.016471\n",
       "42869 -0.036599  0.002285 -0.041057\n",
       "42870 -0.002775 -0.008425  0.001455\n",
       "42871 -0.019811  0.036024 -0.041035\n",
       "42872 -0.011917  0.012707  0.033290\n",
       "42873 -0.046404 -0.025639 -0.029448\n",
       "42874 -0.046404 -0.025639 -0.029448\n",
       "42875 -0.046404 -0.025639 -0.029448\n",
       "42876 -0.038347 -0.019162 -0.020549\n",
       "42877 -0.046404 -0.025639 -0.029448\n",
       "42878 -0.046404 -0.025639 -0.029448\n",
       "42879 -0.046404 -0.025639 -0.029448\n",
       "42880  0.039605  0.004979  0.101671\n",
       "42881 -0.046404 -0.025639 -0.029448\n",
       "42882 -0.046404 -0.025639 -0.029448\n",
       "42883 -0.046404 -0.025639 -0.029448\n",
       "42884 -0.046404 -0.025639 -0.029448\n",
       "42885 -0.046404 -0.025639 -0.029448\n",
       "42886 -0.046404 -0.025639 -0.029448\n",
       "42887 -0.039598 -0.024178 -0.017380\n",
       "\n",
       "[42888 rows x 3 columns]"
      ]
     },
     "execution_count": 25,
     "metadata": {},
     "output_type": "execute_result"
    }
   ],
   "source": [
    "pd.DataFrame(pcafeatures_train_cv)"
   ]
  },
  {
   "cell_type": "code",
   "execution_count": null,
   "metadata": {},
   "outputs": [],
   "source": [
    "## WHAT SHOULD TARGET = ?\n",
    "\n",
    "target_names = [0, 1, 2]\n",
    "\n",
    "plot_PCA_2D(pcafeatures_train_cv, target=count_vecs, target_names=target_names)"
   ]
  },
  {
   "cell_type": "markdown",
   "metadata": {},
   "source": [
    "### PCA on TF-IDF"
   ]
  },
  {
   "cell_type": "code",
   "execution_count": 26,
   "metadata": {},
   "outputs": [],
   "source": [
    "pca_tfidf = PCA(n_components=3) \n",
    "pca_tfidf.fit(tfidf_vecs)\n",
    "pcafeatures_train_tfidf = pca_tfidf.transform(tfidf_vecs)"
   ]
  },
  {
   "cell_type": "code",
   "execution_count": 27,
   "metadata": {},
   "outputs": [
    {
     "data": {
      "text/plain": [
       "array([0.00708059, 0.00565703, 0.00551713])"
      ]
     },
     "execution_count": 27,
     "metadata": {},
     "output_type": "execute_result"
    }
   ],
   "source": [
    "pca_tfidf.explained_variance_ratio_"
   ]
  },
  {
   "cell_type": "code",
   "execution_count": 28,
   "metadata": {},
   "outputs": [
    {
     "name": "stdout",
     "output_type": "stream",
     "text": [
      "\n",
      "Topic  0\n",
      "black people, tell woman, want think, want use, want say, foster care, foster child\n",
      "\n",
      "Topic  1\n",
      "make sound, thing think, argument people, reason believe, change view, just tell, commit murder\n",
      "\n",
      "Topic  2\n",
      "kill fetus, thing think, make sound, baby birth, old baby, woman doctor, right people\n"
     ]
    }
   ],
   "source": [
    "display_topics(pca_tfidf, cv.get_feature_names(), 7)"
   ]
  },
  {
   "cell_type": "code",
   "execution_count": 29,
   "metadata": {},
   "outputs": [
    {
     "data": {
      "image/png": "[encoded data removed]",
      "text/plain": [
       "<Figure size 432x288 with 1 Axes>"
      ]
     },
     "metadata": {
      "image/png": {
       "height": 296,
       "width": 432
      },
      "needs_background": "light"
     },
     "output_type": "display_data"
    }
   ],
   "source": [
    "# plot graph to see elbow of how many components to include\n",
    "\n",
    "plt.plot(pca_tfidf.explained_variance_ratio_)\n",
    "plt.xlabel('# components')\n",
    "plt.ylabel('explained variance');\n",
    "plt.title('Scree plot for reddit comments');"
   ]
  },
  {
   "cell_type": "code",
   "execution_count": 30,
   "metadata": {},
   "outputs": [
    {
     "data": {
      "text/html": [
       "<div>\n",
       "<style scoped>\n",
       "    .dataframe tbody tr th:only-of-type {\n",
       "        vertical-align: middle;\n",
       "    }\n",
       "\n",
       "    .dataframe tbody tr th {\n",
       "        vertical-align: top;\n",
       "    }\n",
       "\n",
       "    .dataframe thead th {\n",
       "        text-align: right;\n",
       "    }\n",
       "</style>\n",
       "<table border=\"1\" class=\"dataframe\">\n",
       "  <thead>\n",
       "    <tr style=\"text-align: right;\">\n",
       "      <th></th>\n",
       "      <th>0</th>\n",
       "      <th>1</th>\n",
       "      <th>2</th>\n",
       "    </tr>\n",
       "  </thead>\n",
       "  <tbody>\n",
       "    <tr>\n",
       "      <th>0</th>\n",
       "      <td>0.217297</td>\n",
       "      <td>-0.002064</td>\n",
       "      <td>-0.008017</td>\n",
       "    </tr>\n",
       "    <tr>\n",
       "      <th>1</th>\n",
       "      <td>-0.007242</td>\n",
       "      <td>-0.004417</td>\n",
       "      <td>-0.006130</td>\n",
       "    </tr>\n",
       "    <tr>\n",
       "      <th>2</th>\n",
       "      <td>-0.007242</td>\n",
       "      <td>-0.004417</td>\n",
       "      <td>-0.006130</td>\n",
       "    </tr>\n",
       "    <tr>\n",
       "      <th>3</th>\n",
       "      <td>-0.007242</td>\n",
       "      <td>-0.004417</td>\n",
       "      <td>-0.006130</td>\n",
       "    </tr>\n",
       "    <tr>\n",
       "      <th>4</th>\n",
       "      <td>-0.007215</td>\n",
       "      <td>-0.005492</td>\n",
       "      <td>-0.006708</td>\n",
       "    </tr>\n",
       "    <tr>\n",
       "      <th>5</th>\n",
       "      <td>-0.007242</td>\n",
       "      <td>-0.004417</td>\n",
       "      <td>-0.006130</td>\n",
       "    </tr>\n",
       "    <tr>\n",
       "      <th>6</th>\n",
       "      <td>-0.005830</td>\n",
       "      <td>-0.003776</td>\n",
       "      <td>-0.007661</td>\n",
       "    </tr>\n",
       "    <tr>\n",
       "      <th>7</th>\n",
       "      <td>-0.006887</td>\n",
       "      <td>-0.002641</td>\n",
       "      <td>-0.006908</td>\n",
       "    </tr>\n",
       "    <tr>\n",
       "      <th>8</th>\n",
       "      <td>-0.007242</td>\n",
       "      <td>-0.004417</td>\n",
       "      <td>-0.006130</td>\n",
       "    </tr>\n",
       "    <tr>\n",
       "      <th>9</th>\n",
       "      <td>0.015248</td>\n",
       "      <td>-0.001659</td>\n",
       "      <td>0.008369</td>\n",
       "    </tr>\n",
       "    <tr>\n",
       "      <th>10</th>\n",
       "      <td>-0.007242</td>\n",
       "      <td>-0.004417</td>\n",
       "      <td>-0.006130</td>\n",
       "    </tr>\n",
       "    <tr>\n",
       "      <th>11</th>\n",
       "      <td>-0.007242</td>\n",
       "      <td>-0.004417</td>\n",
       "      <td>-0.006130</td>\n",
       "    </tr>\n",
       "    <tr>\n",
       "      <th>12</th>\n",
       "      <td>-0.007242</td>\n",
       "      <td>-0.004417</td>\n",
       "      <td>-0.006130</td>\n",
       "    </tr>\n",
       "    <tr>\n",
       "      <th>13</th>\n",
       "      <td>-0.007242</td>\n",
       "      <td>-0.004417</td>\n",
       "      <td>-0.006130</td>\n",
       "    </tr>\n",
       "    <tr>\n",
       "      <th>14</th>\n",
       "      <td>-0.007242</td>\n",
       "      <td>-0.004417</td>\n",
       "      <td>-0.006130</td>\n",
       "    </tr>\n",
       "    <tr>\n",
       "      <th>15</th>\n",
       "      <td>-0.007863</td>\n",
       "      <td>-0.005452</td>\n",
       "      <td>-0.007037</td>\n",
       "    </tr>\n",
       "    <tr>\n",
       "      <th>16</th>\n",
       "      <td>-0.006432</td>\n",
       "      <td>0.000727</td>\n",
       "      <td>-0.007991</td>\n",
       "    </tr>\n",
       "    <tr>\n",
       "      <th>17</th>\n",
       "      <td>-0.001861</td>\n",
       "      <td>-0.008433</td>\n",
       "      <td>-0.008056</td>\n",
       "    </tr>\n",
       "    <tr>\n",
       "      <th>18</th>\n",
       "      <td>-0.007242</td>\n",
       "      <td>-0.004417</td>\n",
       "      <td>-0.006130</td>\n",
       "    </tr>\n",
       "    <tr>\n",
       "      <th>19</th>\n",
       "      <td>-0.011792</td>\n",
       "      <td>-0.021774</td>\n",
       "      <td>-0.009857</td>\n",
       "    </tr>\n",
       "    <tr>\n",
       "      <th>20</th>\n",
       "      <td>-0.007242</td>\n",
       "      <td>-0.004417</td>\n",
       "      <td>-0.006130</td>\n",
       "    </tr>\n",
       "    <tr>\n",
       "      <th>21</th>\n",
       "      <td>-0.006263</td>\n",
       "      <td>-0.002615</td>\n",
       "      <td>-0.006155</td>\n",
       "    </tr>\n",
       "    <tr>\n",
       "      <th>22</th>\n",
       "      <td>-0.003970</td>\n",
       "      <td>-0.005655</td>\n",
       "      <td>-0.006292</td>\n",
       "    </tr>\n",
       "    <tr>\n",
       "      <th>23</th>\n",
       "      <td>0.029577</td>\n",
       "      <td>-0.002644</td>\n",
       "      <td>-0.007071</td>\n",
       "    </tr>\n",
       "    <tr>\n",
       "      <th>24</th>\n",
       "      <td>-0.006212</td>\n",
       "      <td>-0.004491</td>\n",
       "      <td>-0.006473</td>\n",
       "    </tr>\n",
       "    <tr>\n",
       "      <th>25</th>\n",
       "      <td>-0.004958</td>\n",
       "      <td>-0.004588</td>\n",
       "      <td>-0.005456</td>\n",
       "    </tr>\n",
       "    <tr>\n",
       "      <th>26</th>\n",
       "      <td>-0.007954</td>\n",
       "      <td>-0.005535</td>\n",
       "      <td>-0.009206</td>\n",
       "    </tr>\n",
       "    <tr>\n",
       "      <th>27</th>\n",
       "      <td>0.145734</td>\n",
       "      <td>-0.005029</td>\n",
       "      <td>-0.000043</td>\n",
       "    </tr>\n",
       "    <tr>\n",
       "      <th>28</th>\n",
       "      <td>-0.006362</td>\n",
       "      <td>-0.005748</td>\n",
       "      <td>-0.006015</td>\n",
       "    </tr>\n",
       "    <tr>\n",
       "      <th>29</th>\n",
       "      <td>-0.002632</td>\n",
       "      <td>-0.013978</td>\n",
       "      <td>-0.005647</td>\n",
       "    </tr>\n",
       "    <tr>\n",
       "      <th>...</th>\n",
       "      <td>...</td>\n",
       "      <td>...</td>\n",
       "      <td>...</td>\n",
       "    </tr>\n",
       "    <tr>\n",
       "      <th>42858</th>\n",
       "      <td>-0.007242</td>\n",
       "      <td>-0.004417</td>\n",
       "      <td>-0.006130</td>\n",
       "    </tr>\n",
       "    <tr>\n",
       "      <th>42859</th>\n",
       "      <td>-0.009058</td>\n",
       "      <td>-0.002639</td>\n",
       "      <td>-0.007486</td>\n",
       "    </tr>\n",
       "    <tr>\n",
       "      <th>42860</th>\n",
       "      <td>-0.007242</td>\n",
       "      <td>-0.004417</td>\n",
       "      <td>-0.006130</td>\n",
       "    </tr>\n",
       "    <tr>\n",
       "      <th>42861</th>\n",
       "      <td>-0.007242</td>\n",
       "      <td>-0.004417</td>\n",
       "      <td>-0.006130</td>\n",
       "    </tr>\n",
       "    <tr>\n",
       "      <th>42862</th>\n",
       "      <td>-0.007242</td>\n",
       "      <td>-0.004417</td>\n",
       "      <td>-0.006130</td>\n",
       "    </tr>\n",
       "    <tr>\n",
       "      <th>42863</th>\n",
       "      <td>-0.007242</td>\n",
       "      <td>-0.004417</td>\n",
       "      <td>-0.006130</td>\n",
       "    </tr>\n",
       "    <tr>\n",
       "      <th>42864</th>\n",
       "      <td>-0.007897</td>\n",
       "      <td>-0.001144</td>\n",
       "      <td>-0.005589</td>\n",
       "    </tr>\n",
       "    <tr>\n",
       "      <th>42865</th>\n",
       "      <td>-0.007956</td>\n",
       "      <td>-0.002848</td>\n",
       "      <td>-0.007498</td>\n",
       "    </tr>\n",
       "    <tr>\n",
       "      <th>42866</th>\n",
       "      <td>-0.008404</td>\n",
       "      <td>-0.006092</td>\n",
       "      <td>0.004356</td>\n",
       "    </tr>\n",
       "    <tr>\n",
       "      <th>42867</th>\n",
       "      <td>-0.008014</td>\n",
       "      <td>0.006042</td>\n",
       "      <td>-0.007005</td>\n",
       "    </tr>\n",
       "    <tr>\n",
       "      <th>42868</th>\n",
       "      <td>-0.008531</td>\n",
       "      <td>-0.006221</td>\n",
       "      <td>0.005770</td>\n",
       "    </tr>\n",
       "    <tr>\n",
       "      <th>42869</th>\n",
       "      <td>-0.007764</td>\n",
       "      <td>-0.006567</td>\n",
       "      <td>-0.006582</td>\n",
       "    </tr>\n",
       "    <tr>\n",
       "      <th>42870</th>\n",
       "      <td>-0.017403</td>\n",
       "      <td>0.436418</td>\n",
       "      <td>0.031110</td>\n",
       "    </tr>\n",
       "    <tr>\n",
       "      <th>42871</th>\n",
       "      <td>-0.008730</td>\n",
       "      <td>-0.007663</td>\n",
       "      <td>-0.008062</td>\n",
       "    </tr>\n",
       "    <tr>\n",
       "      <th>42872</th>\n",
       "      <td>-0.010369</td>\n",
       "      <td>-0.068381</td>\n",
       "      <td>0.668436</td>\n",
       "    </tr>\n",
       "    <tr>\n",
       "      <th>42873</th>\n",
       "      <td>-0.007242</td>\n",
       "      <td>-0.004417</td>\n",
       "      <td>-0.006130</td>\n",
       "    </tr>\n",
       "    <tr>\n",
       "      <th>42874</th>\n",
       "      <td>-0.007242</td>\n",
       "      <td>-0.004417</td>\n",
       "      <td>-0.006130</td>\n",
       "    </tr>\n",
       "    <tr>\n",
       "      <th>42875</th>\n",
       "      <td>-0.007242</td>\n",
       "      <td>-0.004417</td>\n",
       "      <td>-0.006130</td>\n",
       "    </tr>\n",
       "    <tr>\n",
       "      <th>42876</th>\n",
       "      <td>-0.005501</td>\n",
       "      <td>-0.005439</td>\n",
       "      <td>0.005437</td>\n",
       "    </tr>\n",
       "    <tr>\n",
       "      <th>42877</th>\n",
       "      <td>-0.007242</td>\n",
       "      <td>-0.004417</td>\n",
       "      <td>-0.006130</td>\n",
       "    </tr>\n",
       "    <tr>\n",
       "      <th>42878</th>\n",
       "      <td>-0.007242</td>\n",
       "      <td>-0.004417</td>\n",
       "      <td>-0.006130</td>\n",
       "    </tr>\n",
       "    <tr>\n",
       "      <th>42879</th>\n",
       "      <td>-0.007242</td>\n",
       "      <td>-0.004417</td>\n",
       "      <td>-0.006130</td>\n",
       "    </tr>\n",
       "    <tr>\n",
       "      <th>42880</th>\n",
       "      <td>0.003530</td>\n",
       "      <td>-0.009263</td>\n",
       "      <td>-0.008332</td>\n",
       "    </tr>\n",
       "    <tr>\n",
       "      <th>42881</th>\n",
       "      <td>-0.007242</td>\n",
       "      <td>-0.004417</td>\n",
       "      <td>-0.006130</td>\n",
       "    </tr>\n",
       "    <tr>\n",
       "      <th>42882</th>\n",
       "      <td>-0.007242</td>\n",
       "      <td>-0.004417</td>\n",
       "      <td>-0.006130</td>\n",
       "    </tr>\n",
       "    <tr>\n",
       "      <th>42883</th>\n",
       "      <td>-0.007242</td>\n",
       "      <td>-0.004417</td>\n",
       "      <td>-0.006130</td>\n",
       "    </tr>\n",
       "    <tr>\n",
       "      <th>42884</th>\n",
       "      <td>-0.007242</td>\n",
       "      <td>-0.004417</td>\n",
       "      <td>-0.006130</td>\n",
       "    </tr>\n",
       "    <tr>\n",
       "      <th>42885</th>\n",
       "      <td>-0.007242</td>\n",
       "      <td>-0.004417</td>\n",
       "      <td>-0.006130</td>\n",
       "    </tr>\n",
       "    <tr>\n",
       "      <th>42886</th>\n",
       "      <td>-0.007242</td>\n",
       "      <td>-0.004417</td>\n",
       "      <td>-0.006130</td>\n",
       "    </tr>\n",
       "    <tr>\n",
       "      <th>42887</th>\n",
       "      <td>-0.008457</td>\n",
       "      <td>-0.003355</td>\n",
       "      <td>-0.009501</td>\n",
       "    </tr>\n",
       "  </tbody>\n",
       "</table>\n",
       "<p>42888 rows × 3 columns</p>\n",
       "</div>"
      ],
      "text/plain": [
       "              0         1         2\n",
       "0      0.217297 -0.002064 -0.008017\n",
       "1     -0.007242 -0.004417 -0.006130\n",
       "2     -0.007242 -0.004417 -0.006130\n",
       "3     -0.007242 -0.004417 -0.006130\n",
       "4     -0.007215 -0.005492 -0.006708\n",
       "5     -0.007242 -0.004417 -0.006130\n",
       "6     -0.005830 -0.003776 -0.007661\n",
       "7     -0.006887 -0.002641 -0.006908\n",
       "8     -0.007242 -0.004417 -0.006130\n",
       "9      0.015248 -0.001659  0.008369\n",
       "10    -0.007242 -0.004417 -0.006130\n",
       "11    -0.007242 -0.004417 -0.006130\n",
       "12    -0.007242 -0.004417 -0.006130\n",
       "13    -0.007242 -0.004417 -0.006130\n",
       "14    -0.007242 -0.004417 -0.006130\n",
       "15    -0.007863 -0.005452 -0.007037\n",
       "16    -0.006432  0.000727 -0.007991\n",
       "17    -0.001861 -0.008433 -0.008056\n",
       "18    -0.007242 -0.004417 -0.006130\n",
       "19    -0.011792 -0.021774 -0.009857\n",
       "20    -0.007242 -0.004417 -0.006130\n",
       "21    -0.006263 -0.002615 -0.006155\n",
       "22    -0.003970 -0.005655 -0.006292\n",
       "23     0.029577 -0.002644 -0.007071\n",
       "24    -0.006212 -0.004491 -0.006473\n",
       "25    -0.004958 -0.004588 -0.005456\n",
       "26    -0.007954 -0.005535 -0.009206\n",
       "27     0.145734 -0.005029 -0.000043\n",
       "28    -0.006362 -0.005748 -0.006015\n",
       "29    -0.002632 -0.013978 -0.005647\n",
       "...         ...       ...       ...\n",
       "42858 -0.007242 -0.004417 -0.006130\n",
       "42859 -0.009058 -0.002639 -0.007486\n",
       "42860 -0.007242 -0.004417 -0.006130\n",
       "42861 -0.007242 -0.004417 -0.006130\n",
       "42862 -0.007242 -0.004417 -0.006130\n",
       "42863 -0.007242 -0.004417 -0.006130\n",
       "42864 -0.007897 -0.001144 -0.005589\n",
       "42865 -0.007956 -0.002848 -0.007498\n",
       "42866 -0.008404 -0.006092  0.004356\n",
       "42867 -0.008014  0.006042 -0.007005\n",
       "42868 -0.008531 -0.006221  0.005770\n",
       "42869 -0.007764 -0.006567 -0.006582\n",
       "42870 -0.017403  0.436418  0.031110\n",
       "42871 -0.008730 -0.007663 -0.008062\n",
       "42872 -0.010369 -0.068381  0.668436\n",
       "42873 -0.007242 -0.004417 -0.006130\n",
       "42874 -0.007242 -0.004417 -0.006130\n",
       "42875 -0.007242 -0.004417 -0.006130\n",
       "42876 -0.005501 -0.005439  0.005437\n",
       "42877 -0.007242 -0.004417 -0.006130\n",
       "42878 -0.007242 -0.004417 -0.006130\n",
       "42879 -0.007242 -0.004417 -0.006130\n",
       "42880  0.003530 -0.009263 -0.008332\n",
       "42881 -0.007242 -0.004417 -0.006130\n",
       "42882 -0.007242 -0.004417 -0.006130\n",
       "42883 -0.007242 -0.004417 -0.006130\n",
       "42884 -0.007242 -0.004417 -0.006130\n",
       "42885 -0.007242 -0.004417 -0.006130\n",
       "42886 -0.007242 -0.004417 -0.006130\n",
       "42887 -0.008457 -0.003355 -0.009501\n",
       "\n",
       "[42888 rows x 3 columns]"
      ]
     },
     "execution_count": 30,
     "metadata": {},
     "output_type": "execute_result"
    }
   ],
   "source": [
    "pd.DataFrame(pcafeatures_train_tfidf)"
   ]
  },
  {
   "cell_type": "code",
   "execution_count": null,
   "metadata": {
    "scrolled": true
   },
   "outputs": [],
   "source": [
    "## WHAT SHOULD MY TARGET BE SET TO? THIS IS LEE'S CODE, AND HER'S WAS LABELED\n",
    "\n",
    "target_names = [0, 1, 2]\n",
    "\n",
    "plot_PCA_2D(pcafeatures_train_tfidf, target=df.emotion, target_names=target_names)"
   ]
  },
  {
   "cell_type": "markdown",
   "metadata": {},
   "source": [
    "## Non-Negative Matrix Factorization (NMF)"
   ]
  },
  {
   "cell_type": "markdown",
   "metadata": {},
   "source": [
    "### NMF on TFIDF"
   ]
  },
  {
   "cell_type": "code",
   "execution_count": 31,
   "metadata": {},
   "outputs": [],
   "source": [
    "nmf_model_tfidf = NMF(3)\n",
    "doc_topic_nmf_tfidf = nmf_model_tfidf.fit_transform(X_wv)"
   ]
  },
  {
   "cell_type": "markdown",
   "metadata": {},
   "source": [
    "The W matrix shows us the 2 resulting topics, and the terms that are associated with each topic. In this case:\n",
    "- Component 1 (topic 1) seems to be about ?\n",
    "- Component 2 (topic 2) seems to be about ?"
   ]
  },
  {
   "cell_type": "raw",
   "metadata": {},
   "source": [
    "topic_word_nmf_tfidf = pd.DataFrame(nmf_model_tfidf.components_.round(3),\n",
    "             index = [\"component_1\",\"component_2\", \"component_3\",\"component_4\", \"component_5\"],\n",
    "             columns = word_vectorizer.get_feature_names())\n",
    "topic_word_nmf_tfidf"
   ]
  },
  {
   "cell_type": "code",
   "execution_count": 32,
   "metadata": {
    "scrolled": true
   },
   "outputs": [
    {
     "name": "stdout",
     "output_type": "stream",
     "text": [
      "\n",
      "Topic  0\n",
      "birth control, sex education, use birth, use birth control, unwanted pregnancy, planned parenthood, form birth, form birth control, control fail, birth control fail, control woman, plan parenthood, access birth control, access birth, people use\n",
      "\n",
      "Topic  1\n",
      "kill baby, human life, sound like, year old, plan parenthood, bodily autonomy, human right, kill child, v wade, roe v, right life, roe v wade, life begin, unborn child, just like\n",
      "\n",
      "Topic  2\n",
      "make sense, argument make, really make, feel like, just say, say make, right life, comment make, just want, look like, like say, think make, woman make, point make, s just\n"
     ]
    }
   ],
   "source": [
    "display_topics(nmf_model_tfidf, word_vectorizer.get_feature_names(), 15)\n",
    "\n",
    "# Note - if you need more than 25 words to figure out the pattern, your topic buckets may be too big\n",
    "# might have independent subthemes living in the buckets; need smaller more tailored buckets"
   ]
  },
  {
   "cell_type": "markdown",
   "metadata": {},
   "source": [
    "##### The H matrix shows us the documents we started with, and how each document is made up of the 2 resulting topics. In this case:\n",
    "- The first document seems to be about music\n",
    "- The last document seems to be about sports\n",
    "- Everything in between is a combination of the two"
   ]
  },
  {
   "cell_type": "code",
   "execution_count": 33,
   "metadata": {},
   "outputs": [
    {
     "data": {
      "text/html": [
       "<div>\n",
       "<style scoped>\n",
       "    .dataframe tbody tr th:only-of-type {\n",
       "        vertical-align: middle;\n",
       "    }\n",
       "\n",
       "    .dataframe tbody tr th {\n",
       "        vertical-align: top;\n",
       "    }\n",
       "\n",
       "    .dataframe thead th {\n",
       "        text-align: right;\n",
       "    }\n",
       "</style>\n",
       "<table border=\"1\" class=\"dataframe\">\n",
       "  <thead>\n",
       "    <tr style=\"text-align: right;\">\n",
       "      <th></th>\n",
       "      <th>component_1</th>\n",
       "      <th>component_2</th>\n",
       "      <th>component_3</th>\n",
       "    </tr>\n",
       "  </thead>\n",
       "  <tbody>\n",
       "    <tr>\n",
       "      <th>child deserve love want right ...</th>\n",
       "      <td>0.06196</td>\n",
       "      <td>0.00717</td>\n",
       "      <td>0.00176</td>\n",
       "    </tr>\n",
       "    <tr>\n",
       "      <th>yes...</th>\n",
       "      <td>0.00000</td>\n",
       "      <td>0.00000</td>\n",
       "      <td>0.00000</td>\n",
       "    </tr>\n",
       "    <tr>\n",
       "      <th>definitely agree statement...</th>\n",
       "      <td>0.00000</td>\n",
       "      <td>0.00000</td>\n",
       "      <td>0.00000</td>\n",
       "    </tr>\n",
       "    <tr>\n",
       "      <th>exfoster kid exact childhood f...</th>\n",
       "      <td>0.00000</td>\n",
       "      <td>0.00000</td>\n",
       "      <td>0.00000</td>\n",
       "    </tr>\n",
       "    <tr>\n",
       "      <th>cheap compare state pay rais...</th>\n",
       "      <td>0.00028</td>\n",
       "      <td>0.00179</td>\n",
       "      <td>0.00002</td>\n",
       "    </tr>\n",
       "  </tbody>\n",
       "</table>\n",
       "</div>"
      ],
      "text/plain": [
       "                                   component_1  component_2  component_3\n",
       "child deserve love want right ...      0.06196      0.00717      0.00176\n",
       "yes...                                 0.00000      0.00000      0.00000\n",
       "definitely agree statement...          0.00000      0.00000      0.00000\n",
       "exfoster kid exact childhood f...      0.00000      0.00000      0.00000\n",
       "  cheap compare state pay rais...      0.00028      0.00179      0.00002"
      ]
     },
     "execution_count": 33,
     "metadata": {},
     "output_type": "execute_result"
    }
   ],
   "source": [
    "ex_label = [c[:30]+\"...\" for c in corpus]\n",
    "\n",
    "H_tfidf = pd.DataFrame(doc_topic_nmf_tfidf.round(5),\n",
    "             index = ex_label,\n",
    "             columns = [\"component_1\",\"component_2\", \"component_3\"])\n",
    "H_tfidf.head()\n",
    "\n",
    "# things don't necessary add up to 1 or the same thing\n",
    "# some are more generic discussions that don't necessarily have a strong tie in with music or sports\n",
    "# could also generate a document with strong tie in to both"
   ]
  },
  {
   "cell_type": "markdown",
   "metadata": {},
   "source": [
    "### NMF on Count Vectorizer"
   ]
  },
  {
   "cell_type": "code",
   "execution_count": 34,
   "metadata": {},
   "outputs": [],
   "source": [
    "# try 4 and 5 topics to see if you get a little more nuance\n",
    "\n",
    "nmf_model_cv = NMF(3)\n",
    "doc_topic_nmf_cv = nmf_model_cv.fit_transform(X_cv)"
   ]
  },
  {
   "cell_type": "markdown",
   "metadata": {},
   "source": [
    "The W matrix shows us the 2 resulting topics, and the terms that are associated with each topic. In this case:\n",
    "- Component 1 (topic 1) seems to be about ?\n",
    "- Component 2 (topic 2) seems to be about ?"
   ]
  },
  {
   "cell_type": "raw",
   "metadata": {},
   "source": [
    "topic_word_nmf_cv = pd.DataFrame(nmf_model_cv.components_.round(3),\n",
    "             index = [\"component_1\",\"component_2\"],\n",
    "             columns = cv.get_feature_names())\n",
    "topic_word_nmf_cv"
   ]
  },
  {
   "cell_type": "code",
   "execution_count": 35,
   "metadata": {
    "scrolled": true
   },
   "outputs": [
    {
     "name": "stdout",
     "output_type": "stream",
     "text": [
      "\n",
      "Topic  0\n",
      "birth control, use birth, use birth control, unwanted pregnancy, sex education, form birth, control fail, form birth control, birth control fail, control woman, pregnancy birth, people sex, make sense, woman want, woman choose\n",
      "\n",
      "Topic  1\n",
      "human life, life begin, live human, begin conception, life begin conception, human organism, human life begin, potential human, life human, fetus human, human person, value human, new human, sperm egg, innocent human\n",
      "\n",
      "Topic  2\n",
      "bodily autonomy, right life, human right, pregnant woman, right bodily, right bodily autonomy, unborn child, kill baby, woman right, feel like, kill child, foster care, year old, force woman, right kill\n"
     ]
    }
   ],
   "source": [
    "display_topics(nmf_model_cv, cv.get_feature_names(), 15)\n",
    "\n",
    "# Note - if you need more than 25 words to figure out the pattern, your topic buckets may be too big\n",
    "# might have independent subthemes living in the buckets; need smaller more tailored buckets"
   ]
  },
  {
   "cell_type": "markdown",
   "metadata": {},
   "source": [
    "The H matrix shows us the documents we started with, and how each document is made up of the 2 resulting topics. In this case:\n",
    "- The first document seems to be about ?\n",
    "- The last document seems to be about ?\n",
    "- Everything in between is a combination of the two"
   ]
  },
  {
   "cell_type": "code",
   "execution_count": 106,
   "metadata": {
    "scrolled": false
   },
   "outputs": [
    {
     "data": {
      "text/html": [
       "<div>\n",
       "<style scoped>\n",
       "    .dataframe tbody tr th:only-of-type {\n",
       "        vertical-align: middle;\n",
       "    }\n",
       "\n",
       "    .dataframe tbody tr th {\n",
       "        vertical-align: top;\n",
       "    }\n",
       "\n",
       "    .dataframe thead th {\n",
       "        text-align: right;\n",
       "    }\n",
       "</style>\n",
       "<table border=\"1\" class=\"dataframe\">\n",
       "  <thead>\n",
       "    <tr style=\"text-align: right;\">\n",
       "      <th></th>\n",
       "      <th>contraception</th>\n",
       "      <th>start_of_life</th>\n",
       "      <th>bodily_autonomy</th>\n",
       "    </tr>\n",
       "  </thead>\n",
       "  <tbody>\n",
       "    <tr>\n",
       "      <th>child deserve love want right ...</th>\n",
       "      <td>0.12971</td>\n",
       "      <td>0.00000</td>\n",
       "      <td>0.04299</td>\n",
       "    </tr>\n",
       "    <tr>\n",
       "      <th>yes...</th>\n",
       "      <td>0.00000</td>\n",
       "      <td>0.00000</td>\n",
       "      <td>0.00000</td>\n",
       "    </tr>\n",
       "    <tr>\n",
       "      <th>definitely agree statement...</th>\n",
       "      <td>0.00000</td>\n",
       "      <td>0.00000</td>\n",
       "      <td>0.00000</td>\n",
       "    </tr>\n",
       "    <tr>\n",
       "      <th>exfoster kid exact childhood f...</th>\n",
       "      <td>0.00000</td>\n",
       "      <td>0.00000</td>\n",
       "      <td>0.00000</td>\n",
       "    </tr>\n",
       "    <tr>\n",
       "      <th>cheap compare state pay rais...</th>\n",
       "      <td>0.00022</td>\n",
       "      <td>0.00077</td>\n",
       "      <td>0.00054</td>\n",
       "    </tr>\n",
       "  </tbody>\n",
       "</table>\n",
       "</div>"
      ],
      "text/plain": [
       "                                   contraception  start_of_life  \\\n",
       "child deserve love want right ...        0.12971        0.00000   \n",
       "yes...                                   0.00000        0.00000   \n",
       "definitely agree statement...            0.00000        0.00000   \n",
       "exfoster kid exact childhood f...        0.00000        0.00000   \n",
       "  cheap compare state pay rais...        0.00022        0.00077   \n",
       "\n",
       "                                   bodily_autonomy  \n",
       "child deserve love want right ...          0.04299  \n",
       "yes...                                     0.00000  \n",
       "definitely agree statement...              0.00000  \n",
       "exfoster kid exact childhood f...          0.00000  \n",
       "  cheap compare state pay rais...          0.00054  "
      ]
     },
     "execution_count": 106,
     "metadata": {},
     "output_type": "execute_result"
    }
   ],
   "source": [
    "H_cv = pd.DataFrame(doc_topic_nmf_cv.round(5),\n",
    "             index = ex_label,\n",
    "             columns = [\"contraception\",\"start_of_life\", \"bodily_autonomy\"])\n",
    "H_cv.head()\n",
    "\n",
    "# things don't necessary add up to 1 or the same thing\n",
    "# some are more generic discussions that don't necessarily have a strong tie in with music or sports\n",
    "# could also generate a document with strong tie in to both"
   ]
  },
  {
   "cell_type": "code",
   "execution_count": 107,
   "metadata": {},
   "outputs": [],
   "source": [
    "H_cv_fake = H_cv\n",
    "H_cv_fake['other']  = H_cv_fake['contraception'] + H_cv_fake['start_of_life'] + H_cv_fake['bodily_autonomy']"
   ]
  },
  {
   "cell_type": "code",
   "execution_count": 108,
   "metadata": {},
   "outputs": [
    {
     "data": {
      "text/html": [
       "<div>\n",
       "<style scoped>\n",
       "    .dataframe tbody tr th:only-of-type {\n",
       "        vertical-align: middle;\n",
       "    }\n",
       "\n",
       "    .dataframe tbody tr th {\n",
       "        vertical-align: top;\n",
       "    }\n",
       "\n",
       "    .dataframe thead th {\n",
       "        text-align: right;\n",
       "    }\n",
       "</style>\n",
       "<table border=\"1\" class=\"dataframe\">\n",
       "  <thead>\n",
       "    <tr style=\"text-align: right;\">\n",
       "      <th></th>\n",
       "      <th>contraception</th>\n",
       "      <th>start_of_life</th>\n",
       "      <th>bodily_autonomy</th>\n",
       "      <th>other</th>\n",
       "    </tr>\n",
       "  </thead>\n",
       "  <tbody>\n",
       "    <tr>\n",
       "      <th>child deserve love want right ...</th>\n",
       "      <td>0.12971</td>\n",
       "      <td>0.00000</td>\n",
       "      <td>0.04299</td>\n",
       "      <td>0.17270</td>\n",
       "    </tr>\n",
       "    <tr>\n",
       "      <th>yes...</th>\n",
       "      <td>0.00000</td>\n",
       "      <td>0.00000</td>\n",
       "      <td>0.00000</td>\n",
       "      <td>0.00000</td>\n",
       "    </tr>\n",
       "    <tr>\n",
       "      <th>definitely agree statement...</th>\n",
       "      <td>0.00000</td>\n",
       "      <td>0.00000</td>\n",
       "      <td>0.00000</td>\n",
       "      <td>0.00000</td>\n",
       "    </tr>\n",
       "    <tr>\n",
       "      <th>exfoster kid exact childhood f...</th>\n",
       "      <td>0.00000</td>\n",
       "      <td>0.00000</td>\n",
       "      <td>0.00000</td>\n",
       "      <td>0.00000</td>\n",
       "    </tr>\n",
       "    <tr>\n",
       "      <th>cheap compare state pay rais...</th>\n",
       "      <td>0.00022</td>\n",
       "      <td>0.00077</td>\n",
       "      <td>0.00054</td>\n",
       "      <td>0.00153</td>\n",
       "    </tr>\n",
       "  </tbody>\n",
       "</table>\n",
       "</div>"
      ],
      "text/plain": [
       "                                   contraception  start_of_life  \\\n",
       "child deserve love want right ...        0.12971        0.00000   \n",
       "yes...                                   0.00000        0.00000   \n",
       "definitely agree statement...            0.00000        0.00000   \n",
       "exfoster kid exact childhood f...        0.00000        0.00000   \n",
       "  cheap compare state pay rais...        0.00022        0.00077   \n",
       "\n",
       "                                   bodily_autonomy    other  \n",
       "child deserve love want right ...          0.04299  0.17270  \n",
       "yes...                                     0.00000  0.00000  \n",
       "definitely agree statement...              0.00000  0.00000  \n",
       "exfoster kid exact childhood f...          0.00000  0.00000  \n",
       "  cheap compare state pay rais...          0.00054  0.00153  "
      ]
     },
     "execution_count": 108,
     "metadata": {},
     "output_type": "execute_result"
    }
   ],
   "source": [
    "H_cv_fake.head()"
   ]
  },
  {
   "cell_type": "code",
   "execution_count": 109,
   "metadata": {},
   "outputs": [],
   "source": [
    "H_cv_fake.loc[H_cv_fake['other'] != 0, \"other\"] =-1\n",
    "H_cv_fake.loc[H_cv_fake['other'] == 0, \"other\"] =1"
   ]
  },
  {
   "cell_type": "code",
   "execution_count": 110,
   "metadata": {},
   "outputs": [
    {
     "data": {
      "text/html": [
       "<div>\n",
       "<style scoped>\n",
       "    .dataframe tbody tr th:only-of-type {\n",
       "        vertical-align: middle;\n",
       "    }\n",
       "\n",
       "    .dataframe tbody tr th {\n",
       "        vertical-align: top;\n",
       "    }\n",
       "\n",
       "    .dataframe thead th {\n",
       "        text-align: right;\n",
       "    }\n",
       "</style>\n",
       "<table border=\"1\" class=\"dataframe\">\n",
       "  <thead>\n",
       "    <tr style=\"text-align: right;\">\n",
       "      <th></th>\n",
       "      <th>contraception</th>\n",
       "      <th>start_of_life</th>\n",
       "      <th>bodily_autonomy</th>\n",
       "      <th>other</th>\n",
       "    </tr>\n",
       "  </thead>\n",
       "  <tbody>\n",
       "    <tr>\n",
       "      <th>child deserve love want right ...</th>\n",
       "      <td>0.12971</td>\n",
       "      <td>0.00000</td>\n",
       "      <td>0.04299</td>\n",
       "      <td>-1.0</td>\n",
       "    </tr>\n",
       "    <tr>\n",
       "      <th>yes...</th>\n",
       "      <td>0.00000</td>\n",
       "      <td>0.00000</td>\n",
       "      <td>0.00000</td>\n",
       "      <td>1.0</td>\n",
       "    </tr>\n",
       "    <tr>\n",
       "      <th>definitely agree statement...</th>\n",
       "      <td>0.00000</td>\n",
       "      <td>0.00000</td>\n",
       "      <td>0.00000</td>\n",
       "      <td>1.0</td>\n",
       "    </tr>\n",
       "    <tr>\n",
       "      <th>exfoster kid exact childhood f...</th>\n",
       "      <td>0.00000</td>\n",
       "      <td>0.00000</td>\n",
       "      <td>0.00000</td>\n",
       "      <td>1.0</td>\n",
       "    </tr>\n",
       "    <tr>\n",
       "      <th>cheap compare state pay rais...</th>\n",
       "      <td>0.00022</td>\n",
       "      <td>0.00077</td>\n",
       "      <td>0.00054</td>\n",
       "      <td>-1.0</td>\n",
       "    </tr>\n",
       "  </tbody>\n",
       "</table>\n",
       "</div>"
      ],
      "text/plain": [
       "                                   contraception  start_of_life  \\\n",
       "child deserve love want right ...        0.12971        0.00000   \n",
       "yes...                                   0.00000        0.00000   \n",
       "definitely agree statement...            0.00000        0.00000   \n",
       "exfoster kid exact childhood f...        0.00000        0.00000   \n",
       "  cheap compare state pay rais...        0.00022        0.00077   \n",
       "\n",
       "                                   bodily_autonomy  other  \n",
       "child deserve love want right ...          0.04299   -1.0  \n",
       "yes...                                     0.00000    1.0  \n",
       "definitely agree statement...              0.00000    1.0  \n",
       "exfoster kid exact childhood f...          0.00000    1.0  \n",
       "  cheap compare state pay rais...          0.00054   -1.0  "
      ]
     },
     "execution_count": 110,
     "metadata": {},
     "output_type": "execute_result"
    }
   ],
   "source": [
    "H_cv_fake.head()"
   ]
  },
  {
   "cell_type": "code",
   "execution_count": 111,
   "metadata": {},
   "outputs": [],
   "source": [
    "H_cv_topics = H_cv_fake.idxmax(axis=1)"
   ]
  },
  {
   "cell_type": "code",
   "execution_count": 112,
   "metadata": {
    "scrolled": false
   },
   "outputs": [
    {
     "data": {
      "text/plain": [
       "child deserve love want right ...    contraception\n",
       "yes...                                       other\n",
       "definitely agree statement...                other\n",
       "exfoster kid exact childhood f...            other\n",
       "  cheap compare state pay rais...    start_of_life\n",
       "dtype: object"
      ]
     },
     "execution_count": 112,
     "metadata": {},
     "output_type": "execute_result"
    }
   ],
   "source": [
    "H_cv_topics.head()"
   ]
  },
  {
   "cell_type": "code",
   "execution_count": 113,
   "metadata": {},
   "outputs": [],
   "source": [
    "H_cv['topics'] = H_cv_topics"
   ]
  },
  {
   "cell_type": "code",
   "execution_count": 114,
   "metadata": {},
   "outputs": [],
   "source": [
    "H_cv.drop(['other'], axis=1, inplace=True)"
   ]
  },
  {
   "cell_type": "code",
   "execution_count": 115,
   "metadata": {},
   "outputs": [
    {
     "data": {
      "text/html": [
       "<div>\n",
       "<style scoped>\n",
       "    .dataframe tbody tr th:only-of-type {\n",
       "        vertical-align: middle;\n",
       "    }\n",
       "\n",
       "    .dataframe tbody tr th {\n",
       "        vertical-align: top;\n",
       "    }\n",
       "\n",
       "    .dataframe thead th {\n",
       "        text-align: right;\n",
       "    }\n",
       "</style>\n",
       "<table border=\"1\" class=\"dataframe\">\n",
       "  <thead>\n",
       "    <tr style=\"text-align: right;\">\n",
       "      <th></th>\n",
       "      <th>contraception</th>\n",
       "      <th>start_of_life</th>\n",
       "      <th>bodily_autonomy</th>\n",
       "      <th>topics</th>\n",
       "    </tr>\n",
       "  </thead>\n",
       "  <tbody>\n",
       "    <tr>\n",
       "      <th>child deserve love want right ...</th>\n",
       "      <td>0.12971</td>\n",
       "      <td>0.00000</td>\n",
       "      <td>0.04299</td>\n",
       "      <td>contraception</td>\n",
       "    </tr>\n",
       "    <tr>\n",
       "      <th>yes...</th>\n",
       "      <td>0.00000</td>\n",
       "      <td>0.00000</td>\n",
       "      <td>0.00000</td>\n",
       "      <td>other</td>\n",
       "    </tr>\n",
       "    <tr>\n",
       "      <th>definitely agree statement...</th>\n",
       "      <td>0.00000</td>\n",
       "      <td>0.00000</td>\n",
       "      <td>0.00000</td>\n",
       "      <td>other</td>\n",
       "    </tr>\n",
       "    <tr>\n",
       "      <th>exfoster kid exact childhood f...</th>\n",
       "      <td>0.00000</td>\n",
       "      <td>0.00000</td>\n",
       "      <td>0.00000</td>\n",
       "      <td>other</td>\n",
       "    </tr>\n",
       "    <tr>\n",
       "      <th>cheap compare state pay rais...</th>\n",
       "      <td>0.00022</td>\n",
       "      <td>0.00077</td>\n",
       "      <td>0.00054</td>\n",
       "      <td>start_of_life</td>\n",
       "    </tr>\n",
       "  </tbody>\n",
       "</table>\n",
       "</div>"
      ],
      "text/plain": [
       "                                   contraception  start_of_life  \\\n",
       "child deserve love want right ...        0.12971        0.00000   \n",
       "yes...                                   0.00000        0.00000   \n",
       "definitely agree statement...            0.00000        0.00000   \n",
       "exfoster kid exact childhood f...        0.00000        0.00000   \n",
       "  cheap compare state pay rais...        0.00022        0.00077   \n",
       "\n",
       "                                   bodily_autonomy         topics  \n",
       "child deserve love want right ...          0.04299  contraception  \n",
       "yes...                                     0.00000          other  \n",
       "definitely agree statement...              0.00000          other  \n",
       "exfoster kid exact childhood f...          0.00000          other  \n",
       "  cheap compare state pay rais...          0.00054  start_of_life  "
      ]
     },
     "execution_count": 115,
     "metadata": {},
     "output_type": "execute_result"
    }
   ],
   "source": [
    "H_cv.head()"
   ]
  },
  {
   "cell_type": "markdown",
   "metadata": {},
   "source": [
    "### Sentiment Analysis on NMF Count Vec\n",
    "\n",
    "- if vader works do vader, if not do wordblob"
   ]
  },
  {
   "cell_type": "code",
   "execution_count": null,
   "metadata": {},
   "outputs": [],
   "source": [
    "# plot a histogram for vader\n",
    "# vader for each post within that topic\n",
    "# plot histogram\n",
    "# hope to find bimodal distribution by topic, as opposed to normal distribution; for some of the more controversial topics will prob find 2 peaks"
   ]
  },
  {
   "cell_type": "code",
   "execution_count": null,
   "metadata": {},
   "outputs": [],
   "source": [
    "## QUESTION - should emojis be kept in text for this?\n",
    "\n",
    "# https://medium.com/analytics-vidhya/simplifying-social-media-sentiment-analysis-using-vader-in-python-f9e6ec6fc52f"
   ]
  },
  {
   "cell_type": "code",
   "execution_count": 116,
   "metadata": {},
   "outputs": [],
   "source": [
    "analyser = SentimentIntensityAnalyzer()"
   ]
  },
  {
   "cell_type": "code",
   "execution_count": 117,
   "metadata": {},
   "outputs": [],
   "source": [
    "# use the polarity_scores() method to obtain the polarity indices for the given sentence\n",
    "\n",
    "def sentiment_analyzer_scores(sentence):\n",
    "    score = analyser.polarity_scores(sentence)\n",
    "    return sentence, score"
   ]
  },
  {
   "cell_type": "code",
   "execution_count": 118,
   "metadata": {},
   "outputs": [
    {
     "data": {
      "text/plain": [
       "('The phone is super cool.',\n",
       " {'neg': 0.0, 'neu': 0.326, 'pos': 0.674, 'compound': 0.7351})"
      ]
     },
     "execution_count": 118,
     "metadata": {},
     "output_type": "execute_result"
    }
   ],
   "source": [
    "# feed each of my documents into this\n",
    "\n",
    "sentiment_analyzer_scores(\"The phone is super cool.\")"
   ]
  },
  {
   "cell_type": "code",
   "execution_count": 119,
   "metadata": {},
   "outputs": [
    {
     "data": {
      "text/html": [
       "<div>\n",
       "<style scoped>\n",
       "    .dataframe tbody tr th:only-of-type {\n",
       "        vertical-align: middle;\n",
       "    }\n",
       "\n",
       "    .dataframe tbody tr th {\n",
       "        vertical-align: top;\n",
       "    }\n",
       "\n",
       "    .dataframe thead th {\n",
       "        text-align: right;\n",
       "    }\n",
       "</style>\n",
       "<table border=\"1\" class=\"dataframe\">\n",
       "  <thead>\n",
       "    <tr style=\"text-align: right;\">\n",
       "      <th></th>\n",
       "      <th>contraception</th>\n",
       "      <th>start_of_life</th>\n",
       "      <th>bodily_autonomy</th>\n",
       "      <th>topics</th>\n",
       "    </tr>\n",
       "  </thead>\n",
       "  <tbody>\n",
       "    <tr>\n",
       "      <th>child deserve love want right ...</th>\n",
       "      <td>0.12971</td>\n",
       "      <td>0.00000</td>\n",
       "      <td>0.04299</td>\n",
       "      <td>contraception</td>\n",
       "    </tr>\n",
       "    <tr>\n",
       "      <th>yes...</th>\n",
       "      <td>0.00000</td>\n",
       "      <td>0.00000</td>\n",
       "      <td>0.00000</td>\n",
       "      <td>other</td>\n",
       "    </tr>\n",
       "    <tr>\n",
       "      <th>definitely agree statement...</th>\n",
       "      <td>0.00000</td>\n",
       "      <td>0.00000</td>\n",
       "      <td>0.00000</td>\n",
       "      <td>other</td>\n",
       "    </tr>\n",
       "    <tr>\n",
       "      <th>exfoster kid exact childhood f...</th>\n",
       "      <td>0.00000</td>\n",
       "      <td>0.00000</td>\n",
       "      <td>0.00000</td>\n",
       "      <td>other</td>\n",
       "    </tr>\n",
       "    <tr>\n",
       "      <th>cheap compare state pay rais...</th>\n",
       "      <td>0.00022</td>\n",
       "      <td>0.00077</td>\n",
       "      <td>0.00054</td>\n",
       "      <td>start_of_life</td>\n",
       "    </tr>\n",
       "  </tbody>\n",
       "</table>\n",
       "</div>"
      ],
      "text/plain": [
       "                                   contraception  start_of_life  \\\n",
       "child deserve love want right ...        0.12971        0.00000   \n",
       "yes...                                   0.00000        0.00000   \n",
       "definitely agree statement...            0.00000        0.00000   \n",
       "exfoster kid exact childhood f...        0.00000        0.00000   \n",
       "  cheap compare state pay rais...        0.00022        0.00077   \n",
       "\n",
       "                                   bodily_autonomy         topics  \n",
       "child deserve love want right ...          0.04299  contraception  \n",
       "yes...                                     0.00000          other  \n",
       "definitely agree statement...              0.00000          other  \n",
       "exfoster kid exact childhood f...          0.00000          other  \n",
       "  cheap compare state pay rais...          0.00054  start_of_life  "
      ]
     },
     "execution_count": 119,
     "metadata": {},
     "output_type": "execute_result"
    }
   ],
   "source": [
    "H_cv.head()"
   ]
  },
  {
   "cell_type": "code",
   "execution_count": 50,
   "metadata": {},
   "outputs": [
    {
     "data": {
      "text/plain": [
       "('child deserve love want right force woman gestate birth child want care forthe good way reduce demand make birth control free available antiabortion law make illegal common lead dead pregnant woman believe fantasy think',\n",
       " {'neg': 0.186, 'neu': 0.494, 'pos': 0.32, 'compound': 0.7003})"
      ]
     },
     "execution_count": 50,
     "metadata": {},
     "output_type": "execute_result"
    }
   ],
   "source": [
    "sentiment_analyzer_scores(corpus[0])"
   ]
  },
  {
   "cell_type": "code",
   "execution_count": 120,
   "metadata": {
    "scrolled": false
   },
   "outputs": [
    {
     "data": {
      "text/plain": [
       "[('child deserve love want right force woman gestate birth child want care forthe good way reduce demand make birth control free available antiabortion law make illegal common lead dead pregnant woman believe fantasy think',\n",
       "  {'neg': 0.186, 'neu': 0.494, 'pos': 0.32, 'compound': 0.7003}),\n",
       " ('yes', {'neg': 0.0, 'neu': 0.0, 'pos': 1.0, 'compound': 0.4019}),\n",
       " ('definitely agree statement',\n",
       "  {'neg': 0.0, 'neu': 0.161, 'pos': 0.839, 'compound': 0.6369}),\n",
       " ('exfoster kid exact childhood feel deeply',\n",
       "  {'neg': 0.0, 'neu': 1.0, 'pos': 0.0, 'compound': 0.0}),\n",
       " ('  cheap compare state pay raise kid probably cost like   year',\n",
       "  {'neg': 0.118, 'neu': 0.672, 'pos': 0.21, 'compound': 0.2732}),\n",
       " ('publicly fund stop',\n",
       "  {'neg': 0.524, 'neu': 0.476, 'pos': 0.0, 'compound': -0.296}),\n",
       " ('child bear save money eh love anyways',\n",
       "  {'neg': 0.0, 'neu': 0.403, 'pos': 0.597, 'compound': 0.8126}),\n",
       " ('hello personally advocate sway issue like hear argument just liberal town just curious point civil downvote immediately just try hear thank',\n",
       "  {'neg': 0.093, 'neu': 0.634, 'pos': 0.272, 'compound': 0.5859}),\n",
       " ('necessarily', {'neg': 0.0, 'neu': 1.0, 'pos': 0.0, 'compound': 0.0}),\n",
       " ('kind sick hear unwanted kid grow know love care million kid unwanted pregnancy grow unloved pretending need allow unwanted kid neglect blatantly false need allow woman deserve choose carry raise baby just want mean turn horrible abusive mother',\n",
       "  {'neg': 0.359, 'neu': 0.366, 'pos': 0.275, 'compound': -0.743})]"
      ]
     },
     "execution_count": 120,
     "metadata": {},
     "output_type": "execute_result"
    }
   ],
   "source": [
    "corpus_sentiment = [sentiment_analyzer_scores(c) for c in corpus]\n",
    "corpus_sentiment[:10]"
   ]
  },
  {
   "cell_type": "code",
   "execution_count": 121,
   "metadata": {},
   "outputs": [],
   "source": [
    "corpus_sentiment_compound = [sentiment_analyzer_scores(c)[1]['compound'] for c in corpus]"
   ]
  },
  {
   "cell_type": "code",
   "execution_count": 122,
   "metadata": {
    "scrolled": false
   },
   "outputs": [
    {
     "data": {
      "text/plain": [
       "[0.7003, 0.4019, 0.6369, 0.0, 0.2732, -0.296, 0.8126, 0.5859, 0.0, -0.743]"
      ]
     },
     "execution_count": 122,
     "metadata": {},
     "output_type": "execute_result"
    }
   ],
   "source": [
    "corpus_sentiment_compound[:10]"
   ]
  },
  {
   "cell_type": "code",
   "execution_count": 123,
   "metadata": {},
   "outputs": [],
   "source": [
    "H_cv['compound'] = np.array(corpus_sentiment_compound)"
   ]
  },
  {
   "cell_type": "code",
   "execution_count": 124,
   "metadata": {},
   "outputs": [
    {
     "data": {
      "text/html": [
       "<div>\n",
       "<style scoped>\n",
       "    .dataframe tbody tr th:only-of-type {\n",
       "        vertical-align: middle;\n",
       "    }\n",
       "\n",
       "    .dataframe tbody tr th {\n",
       "        vertical-align: top;\n",
       "    }\n",
       "\n",
       "    .dataframe thead th {\n",
       "        text-align: right;\n",
       "    }\n",
       "</style>\n",
       "<table border=\"1\" class=\"dataframe\">\n",
       "  <thead>\n",
       "    <tr style=\"text-align: right;\">\n",
       "      <th></th>\n",
       "      <th>contraception</th>\n",
       "      <th>start_of_life</th>\n",
       "      <th>bodily_autonomy</th>\n",
       "      <th>topics</th>\n",
       "      <th>compound</th>\n",
       "    </tr>\n",
       "  </thead>\n",
       "  <tbody>\n",
       "    <tr>\n",
       "      <th>child deserve love want right ...</th>\n",
       "      <td>0.12971</td>\n",
       "      <td>0.00000</td>\n",
       "      <td>0.04299</td>\n",
       "      <td>contraception</td>\n",
       "      <td>0.7003</td>\n",
       "    </tr>\n",
       "    <tr>\n",
       "      <th>yes...</th>\n",
       "      <td>0.00000</td>\n",
       "      <td>0.00000</td>\n",
       "      <td>0.00000</td>\n",
       "      <td>other</td>\n",
       "      <td>0.4019</td>\n",
       "    </tr>\n",
       "    <tr>\n",
       "      <th>definitely agree statement...</th>\n",
       "      <td>0.00000</td>\n",
       "      <td>0.00000</td>\n",
       "      <td>0.00000</td>\n",
       "      <td>other</td>\n",
       "      <td>0.6369</td>\n",
       "    </tr>\n",
       "    <tr>\n",
       "      <th>exfoster kid exact childhood f...</th>\n",
       "      <td>0.00000</td>\n",
       "      <td>0.00000</td>\n",
       "      <td>0.00000</td>\n",
       "      <td>other</td>\n",
       "      <td>0.0000</td>\n",
       "    </tr>\n",
       "    <tr>\n",
       "      <th>cheap compare state pay rais...</th>\n",
       "      <td>0.00022</td>\n",
       "      <td>0.00077</td>\n",
       "      <td>0.00054</td>\n",
       "      <td>start_of_life</td>\n",
       "      <td>0.2732</td>\n",
       "    </tr>\n",
       "  </tbody>\n",
       "</table>\n",
       "</div>"
      ],
      "text/plain": [
       "                                   contraception  start_of_life  \\\n",
       "child deserve love want right ...        0.12971        0.00000   \n",
       "yes...                                   0.00000        0.00000   \n",
       "definitely agree statement...            0.00000        0.00000   \n",
       "exfoster kid exact childhood f...        0.00000        0.00000   \n",
       "  cheap compare state pay rais...        0.00022        0.00077   \n",
       "\n",
       "                                   bodily_autonomy         topics  compound  \n",
       "child deserve love want right ...          0.04299  contraception    0.7003  \n",
       "yes...                                     0.00000          other    0.4019  \n",
       "definitely agree statement...              0.00000          other    0.6369  \n",
       "exfoster kid exact childhood f...          0.00000          other    0.0000  \n",
       "  cheap compare state pay rais...          0.00054  start_of_life    0.2732  "
      ]
     },
     "execution_count": 124,
     "metadata": {},
     "output_type": "execute_result"
    }
   ],
   "source": [
    "H_cv.head()"
   ]
  },
  {
   "cell_type": "code",
   "execution_count": 125,
   "metadata": {},
   "outputs": [],
   "source": [
    "def sent_pos_neg(row):\n",
    "    if row >=0.05:\n",
    "        return \"Positive\"\n",
    "    elif row < -0.05:\n",
    "        return \"Negative\"\n",
    "    else:\n",
    "        return \"Neutral\""
   ]
  },
  {
   "cell_type": "code",
   "execution_count": 126,
   "metadata": {
    "scrolled": true
   },
   "outputs": [],
   "source": [
    "H_cv['sentiment'] = H_cv.apply(lambda x: sent_pos_neg(x['compound']), axis=1)"
   ]
  },
  {
   "cell_type": "code",
   "execution_count": 127,
   "metadata": {},
   "outputs": [
    {
     "data": {
      "text/html": [
       "<div>\n",
       "<style scoped>\n",
       "    .dataframe tbody tr th:only-of-type {\n",
       "        vertical-align: middle;\n",
       "    }\n",
       "\n",
       "    .dataframe tbody tr th {\n",
       "        vertical-align: top;\n",
       "    }\n",
       "\n",
       "    .dataframe thead th {\n",
       "        text-align: right;\n",
       "    }\n",
       "</style>\n",
       "<table border=\"1\" class=\"dataframe\">\n",
       "  <thead>\n",
       "    <tr style=\"text-align: right;\">\n",
       "      <th></th>\n",
       "      <th>contraception</th>\n",
       "      <th>start_of_life</th>\n",
       "      <th>bodily_autonomy</th>\n",
       "      <th>topics</th>\n",
       "      <th>compound</th>\n",
       "      <th>sentiment</th>\n",
       "    </tr>\n",
       "  </thead>\n",
       "  <tbody>\n",
       "    <tr>\n",
       "      <th>child deserve love want right ...</th>\n",
       "      <td>0.12971</td>\n",
       "      <td>0.00000</td>\n",
       "      <td>0.04299</td>\n",
       "      <td>contraception</td>\n",
       "      <td>0.7003</td>\n",
       "      <td>Positive</td>\n",
       "    </tr>\n",
       "    <tr>\n",
       "      <th>yes...</th>\n",
       "      <td>0.00000</td>\n",
       "      <td>0.00000</td>\n",
       "      <td>0.00000</td>\n",
       "      <td>other</td>\n",
       "      <td>0.4019</td>\n",
       "      <td>Positive</td>\n",
       "    </tr>\n",
       "    <tr>\n",
       "      <th>definitely agree statement...</th>\n",
       "      <td>0.00000</td>\n",
       "      <td>0.00000</td>\n",
       "      <td>0.00000</td>\n",
       "      <td>other</td>\n",
       "      <td>0.6369</td>\n",
       "      <td>Positive</td>\n",
       "    </tr>\n",
       "    <tr>\n",
       "      <th>exfoster kid exact childhood f...</th>\n",
       "      <td>0.00000</td>\n",
       "      <td>0.00000</td>\n",
       "      <td>0.00000</td>\n",
       "      <td>other</td>\n",
       "      <td>0.0000</td>\n",
       "      <td>Neutral</td>\n",
       "    </tr>\n",
       "    <tr>\n",
       "      <th>cheap compare state pay rais...</th>\n",
       "      <td>0.00022</td>\n",
       "      <td>0.00077</td>\n",
       "      <td>0.00054</td>\n",
       "      <td>start_of_life</td>\n",
       "      <td>0.2732</td>\n",
       "      <td>Positive</td>\n",
       "    </tr>\n",
       "  </tbody>\n",
       "</table>\n",
       "</div>"
      ],
      "text/plain": [
       "                                   contraception  start_of_life  \\\n",
       "child deserve love want right ...        0.12971        0.00000   \n",
       "yes...                                   0.00000        0.00000   \n",
       "definitely agree statement...            0.00000        0.00000   \n",
       "exfoster kid exact childhood f...        0.00000        0.00000   \n",
       "  cheap compare state pay rais...        0.00022        0.00077   \n",
       "\n",
       "                                   bodily_autonomy         topics  compound  \\\n",
       "child deserve love want right ...          0.04299  contraception    0.7003   \n",
       "yes...                                     0.00000          other    0.4019   \n",
       "definitely agree statement...              0.00000          other    0.6369   \n",
       "exfoster kid exact childhood f...          0.00000          other    0.0000   \n",
       "  cheap compare state pay rais...          0.00054  start_of_life    0.2732   \n",
       "\n",
       "                                  sentiment  \n",
       "child deserve love want right ...  Positive  \n",
       "yes...                             Positive  \n",
       "definitely agree statement...      Positive  \n",
       "exfoster kid exact childhood f...   Neutral  \n",
       "  cheap compare state pay rais...  Positive  "
      ]
     },
     "execution_count": 127,
     "metadata": {},
     "output_type": "execute_result"
    }
   ],
   "source": [
    "H_cv.head()"
   ]
  },
  {
   "cell_type": "code",
   "execution_count": 128,
   "metadata": {
    "scrolled": true
   },
   "outputs": [],
   "source": [
    "H_cv.reset_index(inplace=True)"
   ]
  },
  {
   "cell_type": "code",
   "execution_count": 129,
   "metadata": {},
   "outputs": [
    {
     "data": {
      "text/html": [
       "<div>\n",
       "<style scoped>\n",
       "    .dataframe tbody tr th:only-of-type {\n",
       "        vertical-align: middle;\n",
       "    }\n",
       "\n",
       "    .dataframe tbody tr th {\n",
       "        vertical-align: top;\n",
       "    }\n",
       "\n",
       "    .dataframe thead th {\n",
       "        text-align: right;\n",
       "    }\n",
       "</style>\n",
       "<table border=\"1\" class=\"dataframe\">\n",
       "  <thead>\n",
       "    <tr style=\"text-align: right;\">\n",
       "      <th></th>\n",
       "      <th>index</th>\n",
       "      <th>contraception</th>\n",
       "      <th>start_of_life</th>\n",
       "      <th>bodily_autonomy</th>\n",
       "      <th>topics</th>\n",
       "      <th>compound</th>\n",
       "      <th>sentiment</th>\n",
       "    </tr>\n",
       "  </thead>\n",
       "  <tbody>\n",
       "    <tr>\n",
       "      <th>0</th>\n",
       "      <td>child deserve love want right ...</td>\n",
       "      <td>0.12971</td>\n",
       "      <td>0.00000</td>\n",
       "      <td>0.04299</td>\n",
       "      <td>contraception</td>\n",
       "      <td>0.7003</td>\n",
       "      <td>Positive</td>\n",
       "    </tr>\n",
       "    <tr>\n",
       "      <th>1</th>\n",
       "      <td>yes...</td>\n",
       "      <td>0.00000</td>\n",
       "      <td>0.00000</td>\n",
       "      <td>0.00000</td>\n",
       "      <td>other</td>\n",
       "      <td>0.4019</td>\n",
       "      <td>Positive</td>\n",
       "    </tr>\n",
       "    <tr>\n",
       "      <th>2</th>\n",
       "      <td>definitely agree statement...</td>\n",
       "      <td>0.00000</td>\n",
       "      <td>0.00000</td>\n",
       "      <td>0.00000</td>\n",
       "      <td>other</td>\n",
       "      <td>0.6369</td>\n",
       "      <td>Positive</td>\n",
       "    </tr>\n",
       "    <tr>\n",
       "      <th>3</th>\n",
       "      <td>exfoster kid exact childhood f...</td>\n",
       "      <td>0.00000</td>\n",
       "      <td>0.00000</td>\n",
       "      <td>0.00000</td>\n",
       "      <td>other</td>\n",
       "      <td>0.0000</td>\n",
       "      <td>Neutral</td>\n",
       "    </tr>\n",
       "    <tr>\n",
       "      <th>4</th>\n",
       "      <td>cheap compare state pay rais...</td>\n",
       "      <td>0.00022</td>\n",
       "      <td>0.00077</td>\n",
       "      <td>0.00054</td>\n",
       "      <td>start_of_life</td>\n",
       "      <td>0.2732</td>\n",
       "      <td>Positive</td>\n",
       "    </tr>\n",
       "  </tbody>\n",
       "</table>\n",
       "</div>"
      ],
      "text/plain": [
       "                               index  contraception  start_of_life  \\\n",
       "0  child deserve love want right ...        0.12971        0.00000   \n",
       "1                             yes...        0.00000        0.00000   \n",
       "2      definitely agree statement...        0.00000        0.00000   \n",
       "3  exfoster kid exact childhood f...        0.00000        0.00000   \n",
       "4    cheap compare state pay rais...        0.00022        0.00077   \n",
       "\n",
       "   bodily_autonomy         topics  compound sentiment  \n",
       "0          0.04299  contraception    0.7003  Positive  \n",
       "1          0.00000          other    0.4019  Positive  \n",
       "2          0.00000          other    0.6369  Positive  \n",
       "3          0.00000          other    0.0000   Neutral  \n",
       "4          0.00054  start_of_life    0.2732  Positive  "
      ]
     },
     "execution_count": 129,
     "metadata": {},
     "output_type": "execute_result"
    }
   ],
   "source": [
    "H_cv.head()"
   ]
  },
  {
   "cell_type": "code",
   "execution_count": 130,
   "metadata": {},
   "outputs": [
    {
     "data": {
      "text/plain": [
       "'publicly fund stop'"
      ]
     },
     "execution_count": 130,
     "metadata": {},
     "output_type": "execute_result"
    }
   ],
   "source": [
    "corpus[5]"
   ]
  },
  {
   "cell_type": "code",
   "execution_count": 131,
   "metadata": {
    "scrolled": true
   },
   "outputs": [],
   "source": [
    "H_cv.rename(columns = {'index':'clean_comment'}, inplace='True')\n",
    "# H_cv.rename(columns = {'comment':'clean_comment'}, inplace='True')"
   ]
  },
  {
   "cell_type": "code",
   "execution_count": 132,
   "metadata": {},
   "outputs": [
    {
     "data": {
      "text/html": [
       "<div>\n",
       "<style scoped>\n",
       "    .dataframe tbody tr th:only-of-type {\n",
       "        vertical-align: middle;\n",
       "    }\n",
       "\n",
       "    .dataframe tbody tr th {\n",
       "        vertical-align: top;\n",
       "    }\n",
       "\n",
       "    .dataframe thead th {\n",
       "        text-align: right;\n",
       "    }\n",
       "</style>\n",
       "<table border=\"1\" class=\"dataframe\">\n",
       "  <thead>\n",
       "    <tr style=\"text-align: right;\">\n",
       "      <th></th>\n",
       "      <th>clean_comment</th>\n",
       "      <th>contraception</th>\n",
       "      <th>start_of_life</th>\n",
       "      <th>bodily_autonomy</th>\n",
       "      <th>topics</th>\n",
       "      <th>compound</th>\n",
       "      <th>sentiment</th>\n",
       "    </tr>\n",
       "  </thead>\n",
       "  <tbody>\n",
       "    <tr>\n",
       "      <th>0</th>\n",
       "      <td>child deserve love want right ...</td>\n",
       "      <td>0.12971</td>\n",
       "      <td>0.00000</td>\n",
       "      <td>0.04299</td>\n",
       "      <td>contraception</td>\n",
       "      <td>0.7003</td>\n",
       "      <td>Positive</td>\n",
       "    </tr>\n",
       "    <tr>\n",
       "      <th>1</th>\n",
       "      <td>yes...</td>\n",
       "      <td>0.00000</td>\n",
       "      <td>0.00000</td>\n",
       "      <td>0.00000</td>\n",
       "      <td>other</td>\n",
       "      <td>0.4019</td>\n",
       "      <td>Positive</td>\n",
       "    </tr>\n",
       "    <tr>\n",
       "      <th>2</th>\n",
       "      <td>definitely agree statement...</td>\n",
       "      <td>0.00000</td>\n",
       "      <td>0.00000</td>\n",
       "      <td>0.00000</td>\n",
       "      <td>other</td>\n",
       "      <td>0.6369</td>\n",
       "      <td>Positive</td>\n",
       "    </tr>\n",
       "    <tr>\n",
       "      <th>3</th>\n",
       "      <td>exfoster kid exact childhood f...</td>\n",
       "      <td>0.00000</td>\n",
       "      <td>0.00000</td>\n",
       "      <td>0.00000</td>\n",
       "      <td>other</td>\n",
       "      <td>0.0000</td>\n",
       "      <td>Neutral</td>\n",
       "    </tr>\n",
       "    <tr>\n",
       "      <th>4</th>\n",
       "      <td>cheap compare state pay rais...</td>\n",
       "      <td>0.00022</td>\n",
       "      <td>0.00077</td>\n",
       "      <td>0.00054</td>\n",
       "      <td>start_of_life</td>\n",
       "      <td>0.2732</td>\n",
       "      <td>Positive</td>\n",
       "    </tr>\n",
       "  </tbody>\n",
       "</table>\n",
       "</div>"
      ],
      "text/plain": [
       "                       clean_comment  contraception  start_of_life  \\\n",
       "0  child deserve love want right ...        0.12971        0.00000   \n",
       "1                             yes...        0.00000        0.00000   \n",
       "2      definitely agree statement...        0.00000        0.00000   \n",
       "3  exfoster kid exact childhood f...        0.00000        0.00000   \n",
       "4    cheap compare state pay rais...        0.00022        0.00077   \n",
       "\n",
       "   bodily_autonomy         topics  compound sentiment  \n",
       "0          0.04299  contraception    0.7003  Positive  \n",
       "1          0.00000          other    0.4019  Positive  \n",
       "2          0.00000          other    0.6369  Positive  \n",
       "3          0.00000          other    0.0000   Neutral  \n",
       "4          0.00054  start_of_life    0.2732  Positive  "
      ]
     },
     "execution_count": 132,
     "metadata": {},
     "output_type": "execute_result"
    }
   ],
   "source": [
    "H_cv.head()"
   ]
  },
  {
   "cell_type": "code",
   "execution_count": 133,
   "metadata": {},
   "outputs": [],
   "source": [
    "subs = pickle.load(open('reproductive_rights_subreddits.pkl', 'rb'))\n",
    "coms = pickle.load(open('reproductive_rights_comments.pkl', 'rb'))"
   ]
  },
  {
   "cell_type": "code",
   "execution_count": 134,
   "metadata": {},
   "outputs": [],
   "source": [
    "H_cv['subreddit'] = subs\n",
    "H_cv['orig_comment'] = coms"
   ]
  },
  {
   "cell_type": "code",
   "execution_count": 135,
   "metadata": {},
   "outputs": [
    {
     "data": {
      "text/html": [
       "<div>\n",
       "<style scoped>\n",
       "    .dataframe tbody tr th:only-of-type {\n",
       "        vertical-align: middle;\n",
       "    }\n",
       "\n",
       "    .dataframe tbody tr th {\n",
       "        vertical-align: top;\n",
       "    }\n",
       "\n",
       "    .dataframe thead th {\n",
       "        text-align: right;\n",
       "    }\n",
       "</style>\n",
       "<table border=\"1\" class=\"dataframe\">\n",
       "  <thead>\n",
       "    <tr style=\"text-align: right;\">\n",
       "      <th></th>\n",
       "      <th>clean_comment</th>\n",
       "      <th>contraception</th>\n",
       "      <th>start_of_life</th>\n",
       "      <th>bodily_autonomy</th>\n",
       "      <th>topics</th>\n",
       "      <th>compound</th>\n",
       "      <th>sentiment</th>\n",
       "      <th>subreddit</th>\n",
       "      <th>orig_comment</th>\n",
       "    </tr>\n",
       "  </thead>\n",
       "  <tbody>\n",
       "    <tr>\n",
       "      <th>0</th>\n",
       "      <td>child deserve love want right ...</td>\n",
       "      <td>0.12971</td>\n",
       "      <td>0.00000</td>\n",
       "      <td>0.04299</td>\n",
       "      <td>contraception</td>\n",
       "      <td>0.7003</td>\n",
       "      <td>Positive</td>\n",
       "      <td>prochoice</td>\n",
       "      <td>Every child deserves to be loved and wanted. N...</td>\n",
       "    </tr>\n",
       "    <tr>\n",
       "      <th>1</th>\n",
       "      <td>yes...</td>\n",
       "      <td>0.00000</td>\n",
       "      <td>0.00000</td>\n",
       "      <td>0.00000</td>\n",
       "      <td>other</td>\n",
       "      <td>0.4019</td>\n",
       "      <td>Positive</td>\n",
       "      <td>prochoice</td>\n",
       "      <td>YES.</td>\n",
       "    </tr>\n",
       "    <tr>\n",
       "      <th>2</th>\n",
       "      <td>definitely agree statement...</td>\n",
       "      <td>0.00000</td>\n",
       "      <td>0.00000</td>\n",
       "      <td>0.00000</td>\n",
       "      <td>other</td>\n",
       "      <td>0.6369</td>\n",
       "      <td>Positive</td>\n",
       "      <td>prochoice</td>\n",
       "      <td>I definitely agree with this statement.</td>\n",
       "    </tr>\n",
       "    <tr>\n",
       "      <th>3</th>\n",
       "      <td>exfoster kid exact childhood f...</td>\n",
       "      <td>0.00000</td>\n",
       "      <td>0.00000</td>\n",
       "      <td>0.00000</td>\n",
       "      <td>other</td>\n",
       "      <td>0.0000</td>\n",
       "      <td>Neutral</td>\n",
       "      <td>prochoice</td>\n",
       "      <td>As a pro-choice ex-foster kid who had this exa...</td>\n",
       "    </tr>\n",
       "    <tr>\n",
       "      <th>4</th>\n",
       "      <td>cheap compare state pay rais...</td>\n",
       "      <td>0.00022</td>\n",
       "      <td>0.00077</td>\n",
       "      <td>0.00054</td>\n",
       "      <td>start_of_life</td>\n",
       "      <td>0.2732</td>\n",
       "      <td>Positive</td>\n",
       "      <td>prochoice</td>\n",
       "      <td>Also 600 is cheap compared to the state paying...</td>\n",
       "    </tr>\n",
       "  </tbody>\n",
       "</table>\n",
       "</div>"
      ],
      "text/plain": [
       "                       clean_comment  contraception  start_of_life  \\\n",
       "0  child deserve love want right ...        0.12971        0.00000   \n",
       "1                             yes...        0.00000        0.00000   \n",
       "2      definitely agree statement...        0.00000        0.00000   \n",
       "3  exfoster kid exact childhood f...        0.00000        0.00000   \n",
       "4    cheap compare state pay rais...        0.00022        0.00077   \n",
       "\n",
       "   bodily_autonomy         topics  compound sentiment  subreddit  \\\n",
       "0          0.04299  contraception    0.7003  Positive  prochoice   \n",
       "1          0.00000          other    0.4019  Positive  prochoice   \n",
       "2          0.00000          other    0.6369  Positive  prochoice   \n",
       "3          0.00000          other    0.0000   Neutral  prochoice   \n",
       "4          0.00054  start_of_life    0.2732  Positive  prochoice   \n",
       "\n",
       "                                        orig_comment  \n",
       "0  Every child deserves to be loved and wanted. N...  \n",
       "1                                               YES.  \n",
       "2          I definitely agree with this statement.    \n",
       "3  As a pro-choice ex-foster kid who had this exa...  \n",
       "4  Also 600 is cheap compared to the state paying...  "
      ]
     },
     "execution_count": 135,
     "metadata": {},
     "output_type": "execute_result"
    }
   ],
   "source": [
    "H_cv.head()"
   ]
  },
  {
   "cell_type": "code",
   "execution_count": 66,
   "metadata": {
    "scrolled": true
   },
   "outputs": [
    {
     "data": {
      "text/plain": [
       "Int64Index([    1,     2,     3,     5,     8,    10,    11,    12,    13,\n",
       "               14,\n",
       "            ...\n",
       "            42875, 42877, 42878, 42879, 42881, 42882, 42883, 42884, 42885,\n",
       "            42886],\n",
       "           dtype='int64', length=18922)"
      ]
     },
     "execution_count": 66,
     "metadata": {},
     "output_type": "execute_result"
    }
   ],
   "source": [
    "H_cv[H_cv['topics'] == 'component_4'].index"
   ]
  },
  {
   "cell_type": "code",
   "execution_count": 165,
   "metadata": {},
   "outputs": [
    {
     "data": {
      "text/plain": [
       "bodily_autonomy    19842\n",
       "other              18922\n",
       "start_of_life       2671\n",
       "contraception       1453\n",
       "Name: topics, dtype: int64"
      ]
     },
     "execution_count": 165,
     "metadata": {},
     "output_type": "execute_result"
    }
   ],
   "source": [
    "# topics value counts\n",
    "\n",
    "H_cv.topics.value_counts()\n",
    "\n",
    "# Component 1 = contraception\n",
    "# Component 2 = when does life begin?\n",
    "# Component 3 = bodily autonomy & abortion\n",
    "# Component 4 = no topic present"
   ]
  },
  {
   "cell_type": "code",
   "execution_count": 69,
   "metadata": {},
   "outputs": [
    {
     "data": {
      "text/plain": [
       "Negative    17831\n",
       "Positive    16827\n",
       "Neutral      8230\n",
       "Name: sentiment, dtype: int64"
      ]
     },
     "execution_count": 69,
     "metadata": {},
     "output_type": "execute_result"
    }
   ],
   "source": [
    "# sentiment value counts\n",
    "\n",
    "H_cv.sentiment.value_counts()"
   ]
  },
  {
   "cell_type": "code",
   "execution_count": 166,
   "metadata": {
    "scrolled": true
   },
   "outputs": [
    {
     "data": {
      "text/plain": [
       "topics           sentiment\n",
       "bodily_autonomy  Negative     10154\n",
       "                 Neutral       1513\n",
       "                 Positive      8175\n",
       "contraception    Negative       726\n",
       "                 Neutral        117\n",
       "                 Positive       610\n",
       "other            Negative      5765\n",
       "                 Neutral       6258\n",
       "                 Positive      6899\n",
       "start_of_life    Negative      1186\n",
       "                 Neutral        342\n",
       "                 Positive      1143\n",
       "Name: sentiment, dtype: int64"
      ]
     },
     "execution_count": 166,
     "metadata": {},
     "output_type": "execute_result"
    }
   ],
   "source": [
    "# group by topics, sentiments & count sentiment\n",
    "# shows how sentiments are distributed across the different topics\n",
    "\n",
    "H_cv.groupby(['topics','sentiment'])['sentiment'].count()\n",
    "\n",
    "# Component 1 = contraception\n",
    "# Component 2 = when does life begin?\n",
    "# Component 3 = bodily autonomy & abortion\n",
    "# Component 4 = no topic present"
   ]
  },
  {
   "cell_type": "code",
   "execution_count": 167,
   "metadata": {
    "scrolled": true
   },
   "outputs": [
    {
     "data": {
      "text/html": [
       "<div>\n",
       "<style scoped>\n",
       "    .dataframe tbody tr th:only-of-type {\n",
       "        vertical-align: middle;\n",
       "    }\n",
       "\n",
       "    .dataframe tbody tr th {\n",
       "        vertical-align: top;\n",
       "    }\n",
       "\n",
       "    .dataframe thead th {\n",
       "        text-align: right;\n",
       "    }\n",
       "</style>\n",
       "<table border=\"1\" class=\"dataframe\">\n",
       "  <thead>\n",
       "    <tr style=\"text-align: right;\">\n",
       "      <th></th>\n",
       "      <th>clean_comment</th>\n",
       "      <th>contraception</th>\n",
       "      <th>start_of_life</th>\n",
       "      <th>bodily_autonomy</th>\n",
       "      <th>topics</th>\n",
       "      <th>compound</th>\n",
       "      <th>sentiment</th>\n",
       "      <th>subreddit</th>\n",
       "      <th>orig_comment</th>\n",
       "    </tr>\n",
       "  </thead>\n",
       "  <tbody>\n",
       "    <tr>\n",
       "      <th>0</th>\n",
       "      <td>child deserve love want right ...</td>\n",
       "      <td>0.12971</td>\n",
       "      <td>0.00000</td>\n",
       "      <td>0.04299</td>\n",
       "      <td>contraception</td>\n",
       "      <td>0.7003</td>\n",
       "      <td>Positive</td>\n",
       "      <td>prochoice</td>\n",
       "      <td>Every child deserves to be loved and wanted. N...</td>\n",
       "    </tr>\n",
       "    <tr>\n",
       "      <th>1</th>\n",
       "      <td>yes...</td>\n",
       "      <td>0.00000</td>\n",
       "      <td>0.00000</td>\n",
       "      <td>0.00000</td>\n",
       "      <td>other</td>\n",
       "      <td>0.4019</td>\n",
       "      <td>Positive</td>\n",
       "      <td>prochoice</td>\n",
       "      <td>YES.</td>\n",
       "    </tr>\n",
       "    <tr>\n",
       "      <th>2</th>\n",
       "      <td>definitely agree statement...</td>\n",
       "      <td>0.00000</td>\n",
       "      <td>0.00000</td>\n",
       "      <td>0.00000</td>\n",
       "      <td>other</td>\n",
       "      <td>0.6369</td>\n",
       "      <td>Positive</td>\n",
       "      <td>prochoice</td>\n",
       "      <td>I definitely agree with this statement.</td>\n",
       "    </tr>\n",
       "    <tr>\n",
       "      <th>3</th>\n",
       "      <td>exfoster kid exact childhood f...</td>\n",
       "      <td>0.00000</td>\n",
       "      <td>0.00000</td>\n",
       "      <td>0.00000</td>\n",
       "      <td>other</td>\n",
       "      <td>0.0000</td>\n",
       "      <td>Neutral</td>\n",
       "      <td>prochoice</td>\n",
       "      <td>As a pro-choice ex-foster kid who had this exa...</td>\n",
       "    </tr>\n",
       "    <tr>\n",
       "      <th>4</th>\n",
       "      <td>cheap compare state pay rais...</td>\n",
       "      <td>0.00022</td>\n",
       "      <td>0.00077</td>\n",
       "      <td>0.00054</td>\n",
       "      <td>start_of_life</td>\n",
       "      <td>0.2732</td>\n",
       "      <td>Positive</td>\n",
       "      <td>prochoice</td>\n",
       "      <td>Also 600 is cheap compared to the state paying...</td>\n",
       "    </tr>\n",
       "  </tbody>\n",
       "</table>\n",
       "</div>"
      ],
      "text/plain": [
       "                       clean_comment  contraception  start_of_life  \\\n",
       "0  child deserve love want right ...        0.12971        0.00000   \n",
       "1                             yes...        0.00000        0.00000   \n",
       "2      definitely agree statement...        0.00000        0.00000   \n",
       "3  exfoster kid exact childhood f...        0.00000        0.00000   \n",
       "4    cheap compare state pay rais...        0.00022        0.00077   \n",
       "\n",
       "   bodily_autonomy         topics  compound sentiment  subreddit  \\\n",
       "0          0.04299  contraception    0.7003  Positive  prochoice   \n",
       "1          0.00000          other    0.4019  Positive  prochoice   \n",
       "2          0.00000          other    0.6369  Positive  prochoice   \n",
       "3          0.00000          other    0.0000   Neutral  prochoice   \n",
       "4          0.00054  start_of_life    0.2732  Positive  prochoice   \n",
       "\n",
       "                                        orig_comment  \n",
       "0  Every child deserves to be loved and wanted. N...  \n",
       "1                                               YES.  \n",
       "2          I definitely agree with this statement.    \n",
       "3  As a pro-choice ex-foster kid who had this exa...  \n",
       "4  Also 600 is cheap compared to the state paying...  "
      ]
     },
     "execution_count": 167,
     "metadata": {},
     "output_type": "execute_result"
    }
   ],
   "source": [
    "H_cv.head()"
   ]
  },
  {
   "cell_type": "code",
   "execution_count": 163,
   "metadata": {},
   "outputs": [],
   "source": [
    "# pickling H_cv dataframe for dash app\n",
    "\n",
    "pickle.dump(H_cv, open('H_cv_dataframe_dash.pkl', 'wb'))"
   ]
  },
  {
   "cell_type": "code",
   "execution_count": 168,
   "metadata": {},
   "outputs": [],
   "source": [
    "df_temp = H_cv.groupby(['subreddit'])['clean_comment'].count()"
   ]
  },
  {
   "cell_type": "code",
   "execution_count": 169,
   "metadata": {},
   "outputs": [
    {
     "data": {
      "text/plain": [
       "subreddit\n",
       "prochoice    11767\n",
       "prolife      31121\n",
       "Name: clean_comment, dtype: int64"
      ]
     },
     "execution_count": 169,
     "metadata": {},
     "output_type": "execute_result"
    }
   ],
   "source": [
    "df_temp"
   ]
  },
  {
   "cell_type": "code",
   "execution_count": 85,
   "metadata": {
    "scrolled": true
   },
   "outputs": [
    {
     "data": {
      "text/plain": [
       "<matplotlib.axes._subplots.AxesSubplot at 0x1a373f1940>"
      ]
     },
     "execution_count": 85,
     "metadata": {},
     "output_type": "execute_result"
    },
    {
     "data": {
      "image/png": "[encoded data removed]",
      "text/plain": [
       "<Figure size 432x288 with 1 Axes>"
      ]
     },
     "metadata": {
      "image/png": {
       "height": 336,
       "width": 407
      },
      "needs_background": "light"
     },
     "output_type": "display_data"
    }
   ],
   "source": [
    "# H_cv.groupby(['subreddit'])['clean_comment'].count()\n",
    "H_cv.groupby(['subreddit'])['clean_comment'].count().plot('bar')"
   ]
  },
  {
   "cell_type": "code",
   "execution_count": null,
   "metadata": {},
   "outputs": [],
   "source": [
    "# H_cv.groupby(['subreddit'])['clean_comment'].hist()"
   ]
  },
  {
   "cell_type": "code",
   "execution_count": 73,
   "metadata": {},
   "outputs": [
    {
     "ename": "TypeError",
     "evalue": "unsupported operand type(s) for /: 'str' and 'int'",
     "output_type": "error",
     "traceback": [
      "\u001b[0;31m---------------------------------------------------------------------------\u001b[0m",
      "\u001b[0;31mTypeError\u001b[0m                                 Traceback (most recent call last)",
      "\u001b[0;32m<ipython-input-73-b3c6cc147524>\u001b[0m in \u001b[0;36m<module>\u001b[0;34m\u001b[0m\n\u001b[1;32m      7\u001b[0m \u001b[0;34m\u001b[0m\u001b[0m\n\u001b[1;32m      8\u001b[0m \u001b[0mplt\u001b[0m\u001b[0;34m.\u001b[0m\u001b[0msubplot\u001b[0m\u001b[0;34m(\u001b[0m\u001b[0;36m2\u001b[0m\u001b[0;34m,\u001b[0m\u001b[0;36m1\u001b[0m\u001b[0;34m,\u001b[0m\u001b[0;36m1\u001b[0m\u001b[0;34m)\u001b[0m\u001b[0;34m\u001b[0m\u001b[0;34m\u001b[0m\u001b[0m\n\u001b[0;32m----> 9\u001b[0;31m \u001b[0max1\u001b[0m \u001b[0;34m=\u001b[0m \u001b[0msns\u001b[0m\u001b[0;34m.\u001b[0m\u001b[0mdistplot\u001b[0m\u001b[0;34m(\u001b[0m\u001b[0mprochoice_coms\u001b[0m\u001b[0;34m,\u001b[0m \u001b[0mbins\u001b[0m\u001b[0;34m=\u001b[0m\u001b[0;36m20\u001b[0m\u001b[0;34m,\u001b[0m \u001b[0mkde\u001b[0m\u001b[0;34m=\u001b[0m\u001b[0;32mFalse\u001b[0m\u001b[0;34m)\u001b[0m\u001b[0;34m\u001b[0m\u001b[0;34m\u001b[0m\u001b[0m\n\u001b[0m\u001b[1;32m     10\u001b[0m \u001b[0;31m# ax1.set_xlabel(\"Comments\",fontsize=12)\u001b[0m\u001b[0;34m\u001b[0m\u001b[0;34m\u001b[0m\u001b[0;34m\u001b[0m\u001b[0m\n\u001b[1;32m     11\u001b[0m \u001b[0max1\u001b[0m\u001b[0;34m.\u001b[0m\u001b[0mset_ylabel\u001b[0m\u001b[0;34m(\u001b[0m\u001b[0;34m\"Comment Frequency\"\u001b[0m\u001b[0;34m,\u001b[0m\u001b[0mfontsize\u001b[0m\u001b[0;34m=\u001b[0m\u001b[0;36m12\u001b[0m\u001b[0;34m)\u001b[0m\u001b[0;34m\u001b[0m\u001b[0;34m\u001b[0m\u001b[0m\n",
      "\u001b[0;32m~/anaconda3/lib/python3.7/site-packages/seaborn/distributions.py\u001b[0m in \u001b[0;36mdistplot\u001b[0;34m(a, bins, hist, kde, rug, fit, hist_kws, kde_kws, rug_kws, fit_kws, color, vertical, norm_hist, axlabel, label, ax)\u001b[0m\n\u001b[1;32m    196\u001b[0m             \u001b[0mline\u001b[0m\u001b[0;34m,\u001b[0m \u001b[0;34m=\u001b[0m \u001b[0max\u001b[0m\u001b[0;34m.\u001b[0m\u001b[0mplot\u001b[0m\u001b[0;34m(\u001b[0m\u001b[0;36m0\u001b[0m\u001b[0;34m,\u001b[0m \u001b[0ma\u001b[0m\u001b[0;34m.\u001b[0m\u001b[0mmean\u001b[0m\u001b[0;34m(\u001b[0m\u001b[0;34m)\u001b[0m\u001b[0;34m)\u001b[0m\u001b[0;34m\u001b[0m\u001b[0;34m\u001b[0m\u001b[0m\n\u001b[1;32m    197\u001b[0m         \u001b[0;32melse\u001b[0m\u001b[0;34m:\u001b[0m\u001b[0;34m\u001b[0m\u001b[0;34m\u001b[0m\u001b[0m\n\u001b[0;32m--> 198\u001b[0;31m             \u001b[0mline\u001b[0m\u001b[0;34m,\u001b[0m \u001b[0;34m=\u001b[0m \u001b[0max\u001b[0m\u001b[0;34m.\u001b[0m\u001b[0mplot\u001b[0m\u001b[0;34m(\u001b[0m\u001b[0ma\u001b[0m\u001b[0;34m.\u001b[0m\u001b[0mmean\u001b[0m\u001b[0;34m(\u001b[0m\u001b[0;34m)\u001b[0m\u001b[0;34m,\u001b[0m \u001b[0;36m0\u001b[0m\u001b[0;34m)\u001b[0m\u001b[0;34m\u001b[0m\u001b[0;34m\u001b[0m\u001b[0m\n\u001b[0m\u001b[1;32m    199\u001b[0m         \u001b[0mcolor\u001b[0m \u001b[0;34m=\u001b[0m \u001b[0mline\u001b[0m\u001b[0;34m.\u001b[0m\u001b[0mget_color\u001b[0m\u001b[0;34m(\u001b[0m\u001b[0;34m)\u001b[0m\u001b[0;34m\u001b[0m\u001b[0;34m\u001b[0m\u001b[0m\n\u001b[1;32m    200\u001b[0m         \u001b[0mline\u001b[0m\u001b[0;34m.\u001b[0m\u001b[0mremove\u001b[0m\u001b[0;34m(\u001b[0m\u001b[0;34m)\u001b[0m\u001b[0;34m\u001b[0m\u001b[0;34m\u001b[0m\u001b[0m\n",
      "\u001b[0;32m~/anaconda3/lib/python3.7/site-packages/numpy/core/_methods.py\u001b[0m in \u001b[0;36m_mean\u001b[0;34m(a, axis, dtype, out, keepdims)\u001b[0m\n\u001b[1;32m     85\u001b[0m             \u001b[0mret\u001b[0m \u001b[0;34m=\u001b[0m \u001b[0mret\u001b[0m\u001b[0;34m.\u001b[0m\u001b[0mdtype\u001b[0m\u001b[0;34m.\u001b[0m\u001b[0mtype\u001b[0m\u001b[0;34m(\u001b[0m\u001b[0mret\u001b[0m \u001b[0;34m/\u001b[0m \u001b[0mrcount\u001b[0m\u001b[0;34m)\u001b[0m\u001b[0;34m\u001b[0m\u001b[0;34m\u001b[0m\u001b[0m\n\u001b[1;32m     86\u001b[0m     \u001b[0;32melse\u001b[0m\u001b[0;34m:\u001b[0m\u001b[0;34m\u001b[0m\u001b[0;34m\u001b[0m\u001b[0m\n\u001b[0;32m---> 87\u001b[0;31m         \u001b[0mret\u001b[0m \u001b[0;34m=\u001b[0m \u001b[0mret\u001b[0m \u001b[0;34m/\u001b[0m \u001b[0mrcount\u001b[0m\u001b[0;34m\u001b[0m\u001b[0;34m\u001b[0m\u001b[0m\n\u001b[0m\u001b[1;32m     88\u001b[0m \u001b[0;34m\u001b[0m\u001b[0m\n\u001b[1;32m     89\u001b[0m     \u001b[0;32mreturn\u001b[0m \u001b[0mret\u001b[0m\u001b[0;34m\u001b[0m\u001b[0;34m\u001b[0m\u001b[0m\n",
      "\u001b[0;31mTypeError\u001b[0m: unsupported operand type(s) for /: 'str' and 'int'"
     ]
    },
    {
     "data": {
      "image/png": "[encoded data removed]",
      "text/plain": [
       "<Figure size 864x720 with 1 Axes>"
      ]
     },
     "metadata": {
      "image/png": {
       "height": 292,
       "width": 727
      },
      "needs_background": "light"
     },
     "output_type": "display_data"
    }
   ],
   "source": [
    "# Where is most of the conversation happening - in the prolife or prochoice subreddit forum?\n",
    "\n",
    "fig, ax = plt.subplots(figsize=(12,10))\n",
    "\n",
    "prochoice_coms = H_cv[H_cv['subreddit'] == 'prochoice']['clean_comment']\n",
    "prolife_coms = H_cv[H_cv['subreddit'] == 'prolife']['clean_comment']\n",
    "\n",
    "plt.subplot(2,1,1)\n",
    "ax1 = sns.distplot(prochoice_coms, bins=20, kde=False)\n",
    "# ax1.set_xlabel(\"Comments\",fontsize=12)\n",
    "ax1.set_ylabel(\"Comment Frequency\",fontsize=12)\n",
    "plt.ylim(0,90)\n",
    "plt.title(\"Pro Choice\")\n",
    "\n",
    "plt.subplot(2,1,2)\n",
    "ax2 = sns.distplot(prolife_coms, bins=20, kde=False)\n",
    "# ax2.set_xlabel(\"Comment\",fontsize=12)\n",
    "ax2.set_ylabel(\"Comment Frequency\",fontsize=12)\n",
    "plt.ylim(0,90)\n",
    "plt.title(\"Pro Life\")\n",
    "\n",
    "plt.tight_layout()"
   ]
  },
  {
   "cell_type": "code",
   "execution_count": 170,
   "metadata": {},
   "outputs": [
    {
     "data": {
      "text/plain": [
       "0          contraception\n",
       "1                  other\n",
       "2                  other\n",
       "3                  other\n",
       "4          start_of_life\n",
       "5                  other\n",
       "6        bodily_autonomy\n",
       "7        bodily_autonomy\n",
       "8                  other\n",
       "9        bodily_autonomy\n",
       "10                 other\n",
       "11                 other\n",
       "12                 other\n",
       "13                 other\n",
       "14                 other\n",
       "15       bodily_autonomy\n",
       "16       bodily_autonomy\n",
       "17       bodily_autonomy\n",
       "18                 other\n",
       "19         start_of_life\n",
       "20                 other\n",
       "21       bodily_autonomy\n",
       "22       bodily_autonomy\n",
       "23         contraception\n",
       "24       bodily_autonomy\n",
       "25       bodily_autonomy\n",
       "26       bodily_autonomy\n",
       "27         contraception\n",
       "28       bodily_autonomy\n",
       "29       bodily_autonomy\n",
       "              ...       \n",
       "42858              other\n",
       "42859    bodily_autonomy\n",
       "42860              other\n",
       "42861              other\n",
       "42862              other\n",
       "42863              other\n",
       "42864    bodily_autonomy\n",
       "42865    bodily_autonomy\n",
       "42866    bodily_autonomy\n",
       "42867    bodily_autonomy\n",
       "42868    bodily_autonomy\n",
       "42869      start_of_life\n",
       "42870    bodily_autonomy\n",
       "42871      start_of_life\n",
       "42872    bodily_autonomy\n",
       "42873              other\n",
       "42874              other\n",
       "42875              other\n",
       "42876    bodily_autonomy\n",
       "42877              other\n",
       "42878              other\n",
       "42879              other\n",
       "42880    bodily_autonomy\n",
       "42881              other\n",
       "42882              other\n",
       "42883              other\n",
       "42884              other\n",
       "42885              other\n",
       "42886              other\n",
       "42887    bodily_autonomy\n",
       "Name: topics, Length: 42888, dtype: object"
      ]
     },
     "execution_count": 170,
     "metadata": {},
     "output_type": "execute_result"
    }
   ],
   "source": [
    "H_cv['topics']"
   ]
  },
  {
   "cell_type": "code",
   "execution_count": 171,
   "metadata": {},
   "outputs": [
    {
     "data": {
      "image/png": "[encoded data removed]",
      "text/plain": [
       "<Figure size 864x720 with 2 Axes>"
      ]
     },
     "metadata": {
      "image/png": {
       "height": 713,
       "width": 855
      },
      "needs_background": "light"
     },
     "output_type": "display_data"
    }
   ],
   "source": [
    "# Component 1 prochoice vs. prolife sentiment subplots\n",
    "\n",
    "fig, ax = plt.subplots(figsize=(12,10))\n",
    "\n",
    "comp_1_compound_pc = H_cv[(H_cv['topics'] == 'contraception') & (H_cv['subreddit'] == 'prochoice')]['compound']\n",
    "comp_1_compound_pl = H_cv[(H_cv['topics'] == 'contraception') & (H_cv['subreddit'] == 'prolife')]['compound']\n",
    "\n",
    "plt.subplot(2,1,1)\n",
    "ax1 = sns.distplot(comp_1_compound_pc, bins=20, kde=False)\n",
    "ax1.set_xlabel(\"Sentiment\",fontsize=12)\n",
    "ax1.set_ylabel(\"Topic 1 Frequency\",fontsize=12)\n",
    "plt.ylim(0,90)\n",
    "plt.title(\"Pro Choice\")\n",
    "\n",
    "plt.subplot(2,1,2)\n",
    "ax2 = sns.distplot(comp_1_compound_pl, bins=20, kde=False)\n",
    "ax2.set_xlabel(\"Sentiment\",fontsize=12)\n",
    "ax2.set_ylabel(\"Topic 1 Frequency\",fontsize=12)\n",
    "plt.ylim(0,90)\n",
    "plt.title(\"Pro Life\")\n",
    "\n",
    "plt.tight_layout()"
   ]
  },
  {
   "cell_type": "code",
   "execution_count": 172,
   "metadata": {
    "scrolled": true
   },
   "outputs": [
    {
     "data": {
      "image/png": "[encoded data removed]",
      "text/plain": [
       "<Figure size 864x720 with 2 Axes>"
      ]
     },
     "metadata": {
      "image/png": {
       "height": 713,
       "width": 855
      },
      "needs_background": "light"
     },
     "output_type": "display_data"
    }
   ],
   "source": [
    "# Component 2 prochoice vs. prolife sentiment subplots\n",
    "\n",
    "fig, ax = plt.subplots(figsize=(12,10))\n",
    "\n",
    "comp_2_compound_pc = H_cv[(H_cv['topics'] == 'start_of_life') & (H_cv['subreddit'] == 'prochoice')]['compound']\n",
    "comp_2_compound_pl = H_cv[(H_cv['topics'] == 'start_of_life') & (H_cv['subreddit'] == 'prolife')]['compound']\n",
    "\n",
    "plt.subplot(2,1,1)\n",
    "ax1 = sns.distplot(comp_2_compound_pc, bins=20, kde=False)\n",
    "ax1.set_xlabel(\"Sentiment\",fontsize=12)\n",
    "ax1.set_ylabel(\"Topic 2 Frequency\",fontsize=12)\n",
    "plt.ylim(0,300)\n",
    "plt.title(\"Pro Choice\")\n",
    "\n",
    "plt.subplot(2,1,2)\n",
    "ax2 = sns.distplot(comp_2_compound_pl, bins=20, kde=False)\n",
    "ax2.set_xlabel(\"Sentiment\",fontsize=12)\n",
    "ax2.set_ylabel(\"Topic 2 Frequency\",fontsize=12)\n",
    "plt.ylim(0,300)\n",
    "plt.title(\"Pro Life\")\n",
    "\n",
    "plt.tight_layout()"
   ]
  },
  {
   "cell_type": "code",
   "execution_count": 173,
   "metadata": {},
   "outputs": [
    {
     "data": {
      "image/png": "[encoded data removed]",
      "text/plain": [
       "<Figure size 864x720 with 2 Axes>"
      ]
     },
     "metadata": {
      "image/png": {
       "height": 713,
       "width": 855
      },
      "needs_background": "light"
     },
     "output_type": "display_data"
    }
   ],
   "source": [
    "# Component 3 prochoice vs. prolife sentiment subplots\n",
    "\n",
    "fig, ax = plt.subplots(figsize=(12,10))\n",
    "\n",
    "comp_3_compound_pc = H_cv[(H_cv['topics'] == 'bodily_autonomy') & (H_cv['subreddit'] == 'prochoice')]['compound']\n",
    "comp_3_compound_pl = H_cv[(H_cv['topics'] == 'bodily_autonomy') & (H_cv['subreddit'] == 'prolife')]['compound']\n",
    "\n",
    "plt.subplot(2,1,1)\n",
    "ax1 = sns.distplot(comp_1_compound_pc, bins=20, kde=False)\n",
    "ax1.set_xlabel(\"Sentiment\",fontsize=12)\n",
    "ax1.set_ylabel(\"Topic 3 Frequency\",fontsize=12)\n",
    "plt.ylim(0,100)\n",
    "plt.title(\"Pro Choice\")\n",
    "\n",
    "plt.subplot(2,1,2)\n",
    "ax2 = sns.distplot(comp_3_compound_pl, bins=20, kde=False)\n",
    "ax2.set_xlabel(\"Sentiment\",fontsize=12)\n",
    "ax2.set_ylabel(\"Topic 3 Frequency\",fontsize=12)\n",
    "plt.ylim(0,2000)\n",
    "plt.title(\"Pro Life\")\n",
    "\n",
    "plt.tight_layout()"
   ]
  },
  {
   "cell_type": "code",
   "execution_count": 174,
   "metadata": {
    "scrolled": true
   },
   "outputs": [
    {
     "data": {
      "image/png": "[encoded data removed]",
      "text/plain": [
       "<Figure size 864x720 with 2 Axes>"
      ]
     },
     "metadata": {
      "image/png": {
       "height": 713,
       "width": 855
      },
      "needs_background": "light"
     },
     "output_type": "display_data"
    }
   ],
   "source": [
    "# Component 4 prochoice vs. prolife sentiment subplots\n",
    "\n",
    "fig, ax = plt.subplots(figsize=(12,10))\n",
    "\n",
    "comp_4_compound_pc = H_cv[(H_cv['topics'] == 'other') & (H_cv['subreddit'] == 'prochoice')]['compound']\n",
    "comp_4_compound_pl = H_cv[(H_cv['topics'] == 'other') & (H_cv['subreddit'] == 'prolife')]['compound']\n",
    "\n",
    "plt.subplot(2,1,1)\n",
    "ax1 = sns.distplot(comp_4_compound_pc, bins=20, kde=False)\n",
    "ax1.set_xlabel(\"Sentiment\",fontsize=12)\n",
    "ax1.set_ylabel(\"Topic 4 Frequency\",fontsize=12)\n",
    "plt.ylim(0,2000)\n",
    "plt.title(\"Pro Choice\")\n",
    "\n",
    "plt.subplot(2,1,2)\n",
    "ax2 = sns.distplot(comp_4_compound_pl, bins=20, kde=False)\n",
    "ax2.set_xlabel(\"Sentiment\",fontsize=12)\n",
    "ax2.set_ylabel(\"Topic 4 Frequency\",fontsize=12)\n",
    "plt.ylim(0,5500)\n",
    "plt.title(\"Pro Life\")\n",
    "\n",
    "plt.tight_layout()"
   ]
  },
  {
   "cell_type": "markdown",
   "metadata": {},
   "source": [
    "###### The above plots elucidate that there are 9 clusters + noise in my data"
   ]
  },
  {
   "cell_type": "code",
   "execution_count": 78,
   "metadata": {},
   "outputs": [
    {
     "data": {
      "text/plain": [
       "<matplotlib.axes._subplots.AxesSubplot at 0x1a291a0d68>"
      ]
     },
     "execution_count": 78,
     "metadata": {},
     "output_type": "execute_result"
    },
    {
     "data": {
      "image/png": "[encoded data removed]",
      "text/plain": [
       "<Figure size 432x288 with 1 Axes>"
      ]
     },
     "metadata": {
      "image/png": {
       "height": 280,
       "width": 389
      },
      "needs_background": "light"
     },
     "output_type": "display_data"
    }
   ],
   "source": [
    "## histogram by compound\n",
    "# Component 1 compound sentiment scores\n",
    "\n",
    "comp_1_compound = H_cv[H_cv['topics'] == 'component_1']['compound']\n",
    "\n",
    "sns.distplot(comp_1_compound, bins=20, kde=False)"
   ]
  },
  {
   "cell_type": "code",
   "execution_count": 79,
   "metadata": {
    "scrolled": true
   },
   "outputs": [
    {
     "data": {
      "text/plain": [
       "<matplotlib.axes._subplots.AxesSubplot at 0x1a34211cc0>"
      ]
     },
     "execution_count": 79,
     "metadata": {},
     "output_type": "execute_result"
    },
    {
     "data": {
      "image/png": "[encoded data removed]",
      "text/plain": [
       "<Figure size 432x288 with 1 Axes>"
      ]
     },
     "metadata": {
      "image/png": {
       "height": 280,
       "width": 389
      },
      "needs_background": "light"
     },
     "output_type": "display_data"
    }
   ],
   "source": [
    "## histogram by compound\n",
    "# Component 2 compound sentiment scores\n",
    "\n",
    "comp_2_compound = H_cv[H_cv['topics'] == 'component_2']['compound']\n",
    "\n",
    "sns.distplot(comp_2_compound, bins=20, kde=False)"
   ]
  },
  {
   "cell_type": "code",
   "execution_count": 80,
   "metadata": {
    "scrolled": true
   },
   "outputs": [
    {
     "data": {
      "text/plain": [
       "<matplotlib.axes._subplots.AxesSubplot at 0x1a292b7240>"
      ]
     },
     "execution_count": 80,
     "metadata": {},
     "output_type": "execute_result"
    },
    {
     "data": {
      "image/png": "[encoded data removed]",
      "text/plain": [
       "<Figure size 432x288 with 1 Axes>"
      ]
     },
     "metadata": {
      "image/png": {
       "height": 280,
       "width": 398
      },
      "needs_background": "light"
     },
     "output_type": "display_data"
    }
   ],
   "source": [
    "## histogram by compound\n",
    "# Component 3 compound sentiment scores\n",
    "\n",
    "comp_3_compound = H_cv[H_cv['topics'] == 'component_3']['compound']\n",
    "\n",
    "sns.distplot(comp_3_compound, bins=20, kde=False)"
   ]
  },
  {
   "cell_type": "code",
   "execution_count": 81,
   "metadata": {
    "scrolled": true
   },
   "outputs": [
    {
     "data": {
      "text/plain": [
       "<matplotlib.axes._subplots.AxesSubplot at 0x1a29f5e198>"
      ]
     },
     "execution_count": 81,
     "metadata": {},
     "output_type": "execute_result"
    },
    {
     "data": {
      "image/png": "[encoded data removed]",
      "text/plain": [
       "<Figure size 432x288 with 1 Axes>"
      ]
     },
     "metadata": {
      "image/png": {
       "height": 280,
       "width": 398
      },
      "needs_background": "light"
     },
     "output_type": "display_data"
    }
   ],
   "source": [
    "## histogram by compound\n",
    "# Component 4 (NOISE) compound sentiment scores\n",
    "\n",
    "comp_4_compound = H_cv[H_cv['topics'] == 'component_4']['compound']\n",
    "\n",
    "sns.distplot(comp_4_compound, bins=20, kde=False)"
   ]
  },
  {
   "cell_type": "markdown",
   "metadata": {},
   "source": [
    "# Dash App"
   ]
  },
  {
   "cell_type": "code",
   "execution_count": 94,
   "metadata": {},
   "outputs": [
    {
     "name": "stderr",
     "output_type": "stream",
     "text": [
      "/Users/laurenfinkelstein/anaconda3/lib/python3.7/site-packages/werkzeug/datastructures.py:16: DeprecationWarning: Using or importing the ABCs from 'collections' instead of from 'collections.abc' is deprecated, and in 3.8 it will stop working\n",
      "  from collections import Container, Iterable, MutableSet\n",
      "/Users/laurenfinkelstein/anaconda3/lib/python3.7/site-packages/werkzeug/datastructures.py:16: DeprecationWarning: Using or importing the ABCs from 'collections' instead of from 'collections.abc' is deprecated, and in 3.8 it will stop working\n",
      "  from collections import Container, Iterable, MutableSet\n"
     ]
    }
   ],
   "source": [
    "# imports\n",
    "\n",
    "import dash\n",
    "import dash_core_components as dcc\n",
    "import dash_html_components as html"
   ]
  },
  {
   "cell_type": "code",
   "execution_count": null,
   "metadata": {},
   "outputs": [],
   "source": [
    "external_stylesheets = ['https://codepen.io/chriddyp/pen/bWLwgP.css']\n",
    "\n",
    "app = dash.Dash(__name__, external_stylesheets=external_stylesheets)\n",
    "\n",
    "app.layout = html.Div(children=[\n",
    "    html.H1(children='Hello Dash'),\n",
    "\n",
    "    html.Div(children='''\n",
    "        Dash: A web application framework for Python.\n",
    "    '''),\n",
    "\n",
    "    dcc.Graph(\n",
    "        id='example-graph',\n",
    "        figure={\n",
    "            'data': [\n",
    "                {'x': [1, 2, 3], 'y': [4, 1, 2], 'type': 'bar', 'name': 'SF'},\n",
    "                {'x': [1, 2, 3], 'y': [2, 4, 5], 'type': 'bar', 'name': u'Montréal'},\n",
    "            ],\n",
    "            'layout': {\n",
    "                'title': 'Dash Data Visualization'\n",
    "            }\n",
    "        }\n",
    "    )\n",
    "])\n",
    "\n",
    "if __name__ == '__main__':\n",
    "    app.run_server(debug=True)"
   ]
  },
  {
   "cell_type": "markdown",
   "metadata": {},
   "source": [
    "# Ideas to do next"
   ]
  },
  {
   "cell_type": "code",
   "execution_count": null,
   "metadata": {},
   "outputs": [],
   "source": [
    "# plots..."
   ]
  },
  {
   "cell_type": "code",
   "execution_count": null,
   "metadata": {},
   "outputs": [],
   "source": [
    "# feed dataframe with document, components, topic, sentiment into classifier to make a predictive model?"
   ]
  },
  {
   "cell_type": "code",
   "execution_count": null,
   "metadata": {},
   "outputs": [],
   "source": [
    "# Next, could do Embedding - e.g., Word2Vec or Stanford Glove"
   ]
  },
  {
   "cell_type": "markdown",
   "metadata": {},
   "source": [
    "# Old code attempted"
   ]
  },
  {
   "cell_type": "markdown",
   "metadata": {},
   "source": [
    "##### Reducing to 2D with t-SNE "
   ]
  },
  {
   "cell_type": "code",
   "execution_count": null,
   "metadata": {},
   "outputs": [],
   "source": [
    "## THIS WAS TAKING TOO LONG -- do word2vec and THEN do this so its reduced and runs faster"
   ]
  },
  {
   "cell_type": "code",
   "execution_count": null,
   "metadata": {},
   "outputs": [],
   "source": [
    "# a t-SNE model\n",
    "# angle value close to 1 means sacrificing accuracy for speed\n",
    "# pca initializtion usually leads to better results \n",
    "tsne_model = TSNE(n_components=2, verbose=1, random_state=0, angle=.99, init='pca')\n",
    "\n",
    "# 20-D -> 2-D\n",
    "tsne_lda = tsne_model.fit_transform(X_cv.toarray())"
   ]
  },
  {
   "cell_type": "code",
   "execution_count": null,
   "metadata": {},
   "outputs": [],
   "source": [
    "# convert my topic column into numbers\n",
    "# look for SK Learn function called label encoding - this will convert every class into some number\n",
    "# then can get the mapping from the number to the class by accessing the label encoding object\n",
    "# LE = labelencoding\n",
    "# then after train LE, has additional attribute called LE.classes\n",
    "# this will give you the mapping"
   ]
  },
  {
   "cell_type": "markdown",
   "metadata": {},
   "source": [
    "# T-SNE to visualize clusters"
   ]
  },
  {
   "cell_type": "code",
   "execution_count": null,
   "metadata": {},
   "outputs": [],
   "source": [
    "# Utility function to visualize the outputs of PCA and t-SNE\n",
    "\n",
    "def scatter(x, colors):\n",
    "    # choose a color palette with seaborn.\n",
    "    num_classes = len(np.unique(colors))\n",
    "    palette = np.array(sns.color_palette(\"hls\", num_classes))\n",
    "\n",
    "    # create a scatter plot.\n",
    "    f = plt.figure(figsize=(8, 8))\n",
    "    ax = plt.subplot(aspect='equal')\n",
    "    sc = ax.scatter(x[:,0], x[:,1], lw=0, s=40, c=palette[colors.astype(np.int)])\n",
    "    plt.xlim(-25, 25)\n",
    "    plt.ylim(-25, 25)\n",
    "    ax.axis('off')\n",
    "    ax.axis('tight')\n",
    "\n",
    "    # add the labels for each digit corresponding to the label\n",
    "    txts = []\n",
    "\n",
    "    for i in range(num_classes):\n",
    "\n",
    "        # Position of each label at median of data points.\n",
    "\n",
    "        xtext, ytext = np.median(x[colors == i, :], axis=0)\n",
    "        txt = ax.text(xtext, ytext, str(i), fontsize=24)\n",
    "        txt.set_path_effects([\n",
    "            PathEffects.Stroke(linewidth=5, foreground=\"w\"),\n",
    "            PathEffects.Normal()])\n",
    "        txts.append(txt)\n",
    "\n",
    "    return f, ax, sc, txts"
   ]
  },
  {
   "cell_type": "code",
   "execution_count": null,
   "metadata": {},
   "outputs": [],
   "source": [
    "# NMF T-SNE\n",
    "tsne = TSNE(random_state=RS).fit_transform(X_cv) # change x_subset"
   ]
  },
  {
   "cell_type": "code",
   "execution_count": null,
   "metadata": {},
   "outputs": [],
   "source": [
    "scatter(tsne, H_cv_topics) # change y_subset to my topics?"
   ]
  },
  {
   "cell_type": "code",
   "execution_count": null,
   "metadata": {},
   "outputs": [],
   "source": [
    "# PCA T-SNE\n",
    "tsne = TSNE(random_state=RS).fit_transform(pcafeatures_train)"
   ]
  },
  {
   "cell_type": "code",
   "execution_count": null,
   "metadata": {},
   "outputs": [],
   "source": [
    "scatter(tsne, df.emotion)"
   ]
  },
  {
   "cell_type": "code",
   "execution_count": null,
   "metadata": {},
   "outputs": [],
   "source": [
    "# 3D t-SNE plot code\n",
    "\n",
    "from mpl_toolkits.mplot3d import Axes3D\n",
    "import matplotlib.pyplot as plt\n",
    "\n",
    "\n",
    "\n",
    "fig = plt.figure()\n",
    "ax = fig.add_subplot(111, projection='3d')\n",
    "\n",
    "x =pd.DataFrame(tsne_3d).loc[:,0]\n",
    "y2 =pd.DataFrame(tsne_3d).loc[:,1]\n",
    "z =pd.DataFrame(tsne_3d).loc[:,2]\n",
    "\n",
    "\n",
    "\n",
    "ax.scatter(x, y2, z, c=df.emotion, marker='o', )\n",
    "\n",
    "ax.set_xlabel('X Label')\n",
    "ax.set_ylabel('Y Label')\n",
    "ax.set_zlabel('Z Label')\n",
    "\n",
    "plt.show()"
   ]
  },
  {
   "cell_type": "code",
   "execution_count": null,
   "metadata": {},
   "outputs": [],
   "source": [
    "# tsne with 3 components\n",
    "\n",
    "tsne = TSNE(random_state=RS, n_components=3).fit_transform(nmf_topics)"
   ]
  },
  {
   "cell_type": "code",
   "execution_count": null,
   "metadata": {},
   "outputs": [],
   "source": []
  },
  {
   "cell_type": "markdown",
   "metadata": {},
   "source": [
    "# Word 2 Vec"
   ]
  },
  {
   "cell_type": "code",
   "execution_count": null,
   "metadata": {},
   "outputs": [],
   "source": [
    "# convo with Han Wei -- matrix will be # rows I have (1.3k) * 300\n",
    "    # when Google trained this model, they set the dimension as 300\n",
    "# Can also try Glove (similar to Word2Vec); Stanford trained this model\n",
    "    # they set the components to 100"
   ]
  },
  {
   "cell_type": "markdown",
   "metadata": {},
   "source": [
    "# Word Clouds"
   ]
  },
  {
   "cell_type": "raw",
   "metadata": {},
   "source": [
    "ang_df = df.loc[df['emotion'] == 'anger']\n",
    "joy_df = df.loc[df['emotion'] == 'joy']\n",
    "fear_df = df.loc[df['emotion'] == 'fear']\n",
    "sad_df = df.loc[df['emotion'] == 'sadness']"
   ]
  },
  {
   "cell_type": "raw",
   "metadata": {},
   "source": [
    "Tweet_a = \" \".join(review for review in ang_df.stemmed)\n",
    "Tweet_f = \" \".join(review for review in fear_df.stemmed)\n",
    "Tweet_j = \" \".join(review for review in joy_df.stemmed)\n",
    "Tweet_s = \" \".join(review for review in sad_df.stemmed)\n",
    "fig, ax = plt.subplots(4, 1, figsize  = (30,30))\n",
    "\n",
    "# Create and generate a word cloud image:\n",
    "wordcloud_a = WordCloud(max_font_size=50, max_words=100, background_color=\"white\").generate(Tweet_a)\n",
    "wordcloud_f = WordCloud(max_font_size=50, max_words=100, background_color=\"white\").generate(Tweet_f)\n",
    "wordcloud_j = WordCloud(max_font_size=50, max_words=100, background_color=\"white\").generate(Tweet_j)\n",
    "wordcloud_s = WordCloud(max_font_size=50, max_words=100, background_color=\"white\").generate(Tweet_s)\n",
    "\n",
    "# Display the generated image:\n",
    "ax[0].imshow(wordcloud_a, interpolation='bilinear')\n",
    "ax[0].set_title('Anger Words', fontsize=30)\n",
    "ax[0].axis('off')\n",
    "ax[1].imshow(wordcloud_f, interpolation='bilinear')\n",
    "ax[1].set_title('Fear Words',fontsize=30)\n",
    "ax[1].axis('off')\n",
    "ax[2].imshow(wordcloud_j, interpolation='bilinear')\n",
    "ax[2].set_title('Joy Words',fontsize=30)\n",
    "ax[2].axis('off')\n",
    "ax[3].imshow(wordcloud_s, interpolation='bilinear')\n",
    "ax[3].set_title('Sadness Words',fontsize=30)\n",
    "ax[3].axis('off')"
   ]
  }
 ],
 "metadata": {
  "kernelspec": {
   "display_name": "Python 3",
   "language": "python",
   "name": "python3"
  },
  "language_info": {
   "codemirror_mode": {
    "name": "ipython",
    "version": 3
   },
   "file_extension": ".py",
   "mimetype": "text/x-python",
   "name": "python",
   "nbconvert_exporter": "python",
   "pygments_lexer": "ipython3",
   "version": "3.7.2"
  }
 },
 "nbformat": 4,
 "nbformat_minor": 2
}
